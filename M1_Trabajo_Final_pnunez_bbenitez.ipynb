{
  "cells": [
    {
      "cell_type": "markdown",
      "metadata": {
        "id": "view-in-github",
        "colab_type": "text"
      },
      "source": [
        "<a href=\"https://colab.research.google.com/github/pablonunez81/ucom_intro_prog_final_work/blob/main/M1_Trabajo_Final_pnunez_bbenitez.ipynb\" target=\"_parent\"><img src=\"https://colab.research.google.com/assets/colab-badge.svg\" alt=\"Open In Colab\"/></a>"
      ]
    },
    {
      "cell_type": "markdown",
      "metadata": {
        "id": "58da0e8e"
      },
      "source": [
        "#  Trabajo Final - M1 Introducción a la programación para Ciencia de datos"
      ],
      "id": "58da0e8e"
    },
    {
      "cell_type": "markdown",
      "metadata": {
        "id": "fpLvonBMKn7U"
      },
      "source": [
        "#INTEGRANTES DEL GRUPO (Completar aquí)\n",
        "\n",
        "1. 2.876.596, Pablo Núñez\n",
        "2. 3.387.482 Bruno Benitez\n",
        "\n"
      ],
      "id": "fpLvonBMKn7U"
    },
    {
      "cell_type": "markdown",
      "metadata": {
        "id": "3d01f576"
      },
      "source": [
        "###  Contexto"
      ],
      "id": "3d01f576"
    },
    {
      "cell_type": "code",
      "execution_count": null,
      "metadata": {
        "id": "vUITe2ZtOfW7"
      },
      "outputs": [],
      "source": [],
      "id": "vUITe2ZtOfW7"
    },
    {
      "cell_type": "markdown",
      "metadata": {
        "id": "11d56c8a"
      },
      "source": [
        "Una empresa que vende Pizzas te ha contratado para que puedas ayudarlos a mejorar sus estrategias de negocios basándose en los datos. Para el efecto te han compartido los siguientes conjuntos de datos:\n",
        "1.\t**Orders**: contiene la fecha y la hora en que se realizaron todos los pedidos de la mesa.\n",
        "2.\t**Order_detail**: contiene las diferentes pizzas servidas con cada pedido en la tabla **Orders** y sus cantidades.\n",
        "3.\t**Pizzas**: contiene el tamaño y el precio de cada pizza distinta en la tabla **Order_detail**, así como su tipo de pizza más amplio.\n",
        "4.\t**Pizza_types**: contiene detalles sobre los tipos de pizza en la tabla **Pizzas**, incluido su nombre tal como aparece en el menú, la categoría a la que pertenece y su lista de ingredientes.\n",
        "\n",
        "Tu misión como analista de datos será realizar el análisis exploratorio de datos \"EDA“, por sus siglas en inglés, para analizar la información, buscar patrones en los datos y poder responder a las diferentes preguntas de negocio que interesan a la empresa.\n",
        "\n",
        "Los pasos requeridos para el análisis se encuentran detallados en el archivo:  **M1 Trabajo Final.ipynb**\n",
        "\n",
        "El trabajo consiste en desarrollar las celdas de código en **M1 Trabajo Final.ipynb** y presentar el archivo final resultante en el formato “.iypynb”\n"
      ],
      "id": "11d56c8a"
    },
    {
      "cell_type": "markdown",
      "metadata": {
        "id": "2e03cd50"
      },
      "source": [
        "###  Importación de las librerías"
      ],
      "id": "2e03cd50"
    },
    {
      "cell_type": "markdown",
      "metadata": {
        "id": "a1084287"
      },
      "source": [
        "Importa todas las librerias que consideres necesarias"
      ],
      "id": "a1084287"
    },
    {
      "cell_type": "code",
      "execution_count": 1,
      "metadata": {
        "colab": {
          "base_uri": "https://localhost:8080/"
        },
        "id": "2e2d7299",
        "outputId": "2dc03df6-8aee-45d8-b8f6-ab9ac7ce8378"
      },
      "outputs": [
        {
          "output_type": "stream",
          "name": "stdout",
          "text": [
            "Mounted at /content/drive\n"
          ]
        }
      ],
      "source": [
        "import pandas as pd\n",
        "import numpy as np\n",
        "import matplotlib.pyplot as plt\n",
        "import datetime\n",
        "import seaborn as sns\n",
        "\n",
        "from google.colab import drive\n",
        "drive.mount('/content/drive', force_remount=True)\n",
        "ruta = \"/content/drive/MyDrive/ucom_trabajo_final/dataset/\"\n",
        "months = [\"Ene\", \"Feb\", \"Mar\", \"Abr\", \"May\", \"Jun\", \"Jul\", \"Ago\", \"Sep\", \"Oct\", \"Nov\", \"Dic\"]\n",
        "\n",
        "# v1.0 31/10/2022 PN trabajando por: Haz gráficos que permitan visualizar la cantidad de pizzas vendidas y la facturación por mes\n",
        "# v1.1 31/10/2022 PN listo hasta   : En qué mes se tuvo la menor venta y cuál fue el importe facturado\n",
        "# v1.2 01/11/2022 B  listo heatmap"
      ],
      "id": "2e2d7299"
    },
    {
      "cell_type": "markdown",
      "metadata": {
        "id": "67371ed7"
      },
      "source": [
        "###  Lectura de archivos"
      ],
      "id": "67371ed7"
    },
    {
      "cell_type": "code",
      "execution_count": 2,
      "metadata": {
        "id": "7dcdec47"
      },
      "outputs": [],
      "source": [
        "from pandas._libs.tslibs.parsing import parse_datetime_string\n",
        "from pandas.core.arrays.timedeltas import parse_timedelta_unit\n",
        "from pandas.core.indexes.period import parse_time_string\n",
        "df_orders = pd.read_csv(ruta+'orders.csv',parse_dates=['date', 'time'])"
      ],
      "id": "7dcdec47"
    },
    {
      "cell_type": "markdown",
      "metadata": {
        "id": "ca15ef43"
      },
      "source": [
        "####  Lee el archivo Orders"
      ],
      "id": "ca15ef43"
    },
    {
      "cell_type": "markdown",
      "metadata": {
        "id": "f34f8303"
      },
      "source": [
        "#### Verifica que el archivo haya sido cargado correctamente"
      ],
      "id": "f34f8303"
    },
    {
      "cell_type": "code",
      "execution_count": null,
      "metadata": {
        "colab": {
          "base_uri": "https://localhost:8080/"
        },
        "id": "fa652f98",
        "outputId": "67070b05-a690-47f4-f2ef-d2315c314727"
      },
      "outputs": [
        {
          "name": "stdout",
          "output_type": "stream",
          "text": [
            "       order_id       date                time\n",
            "0             1 2015-01-01 2022-10-31 11:38:36\n",
            "1             2 2015-01-01 2022-10-31 11:57:40\n",
            "2             3 2015-01-01 2022-10-31 12:12:28\n",
            "3             4 2015-01-01 2022-10-31 12:16:31\n",
            "4             5 2015-01-01 2022-10-31 12:21:30\n",
            "...         ...        ...                 ...\n",
            "21345     21346 2015-12-31 2022-10-31 20:51:07\n",
            "21346     21347 2015-12-31 2022-10-31 21:14:37\n",
            "21347     21348 2015-12-31 2022-10-31 21:23:10\n",
            "21348     21349 2015-12-31 2022-10-31 22:09:54\n",
            "21349     21350 2015-12-31 2022-10-31 23:02:05\n",
            "\n",
            "[21350 rows x 3 columns]\n"
          ]
        }
      ],
      "source": [
        "print(df_orders)"
      ],
      "id": "fa652f98"
    },
    {
      "cell_type": "markdown",
      "metadata": {
        "id": "1d01da1c"
      },
      "source": [
        "####  ¿Cuántos registros tiene el conjunto de datos?"
      ],
      "id": "1d01da1c"
    },
    {
      "cell_type": "code",
      "execution_count": null,
      "metadata": {
        "colab": {
          "base_uri": "https://localhost:8080/"
        },
        "id": "27cbd455",
        "outputId": "d205e27c-8b25-43ca-a726-e64ea5b57d09"
      },
      "outputs": [
        {
          "name": "stdout",
          "output_type": "stream",
          "text": [
            "Cantidad de registros del conjunto de datos: 21350\n"
          ]
        }
      ],
      "source": [
        "n_orders = df_orders.count(0)\n",
        "print(f'Cantidad de registros del conjunto de datos: {n_orders.order_id}')"
      ],
      "id": "27cbd455"
    },
    {
      "cell_type": "markdown",
      "metadata": {
        "id": "ae5dcebb"
      },
      "source": [
        "####  ¿Existen registros en blanco?"
      ],
      "id": "ae5dcebb"
    },
    {
      "cell_type": "code",
      "execution_count": null,
      "metadata": {
        "colab": {
          "base_uri": "https://localhost:8080/"
        },
        "id": "6fc02bf1",
        "outputId": "a01cdd55-16aa-462f-f6eb-d34ef4543113"
      },
      "outputs": [
        {
          "name": "stdout",
          "output_type": "stream",
          "text": [
            "No existen registros en blanco\n"
          ]
        }
      ],
      "source": [
        "if df_orders.isna().sum().sum() > 0:\n",
        "  print('Existen registros en blanco')\n",
        "else:\n",
        "  print('No existen registros en blanco') "
      ],
      "id": "6fc02bf1"
    },
    {
      "cell_type": "markdown",
      "metadata": {
        "id": "89ca59fa"
      },
      "source": [
        "####  ¿Cuáles son las columnas que tiene este dataset?"
      ],
      "id": "89ca59fa"
    },
    {
      "cell_type": "code",
      "execution_count": null,
      "metadata": {
        "colab": {
          "base_uri": "https://localhost:8080/"
        },
        "id": "1db02b31",
        "outputId": "b14eebd0-8dfe-4447-a1a0-2965da3a50b0"
      },
      "outputs": [
        {
          "name": "stdout",
          "output_type": "stream",
          "text": [
            "las columnas que tiene el data set orders.csv son: \n",
            "order_id\n",
            "date\n",
            "time\n"
          ]
        }
      ],
      "source": [
        "print(f'las columnas que tiene el data set orders.csv son: ')\n",
        "columns_of_orders = df_orders.columns.to_series()\n",
        "for c in columns_of_orders:\n",
        "  print (c)"
      ],
      "id": "1db02b31"
    },
    {
      "cell_type": "markdown",
      "metadata": {
        "id": "de00258d"
      },
      "source": [
        "#### ¿Las columnas de fechas y hora están cargadas correctamente?"
      ],
      "id": "de00258d"
    },
    {
      "cell_type": "code",
      "execution_count": null,
      "metadata": {
        "colab": {
          "base_uri": "https://localhost:8080/"
        },
        "id": "904c3984",
        "outputId": "46ed13e7-ab92-4a96-e73e-07b4d592aaba"
      },
      "outputs": [
        {
          "name": "stdout",
          "output_type": "stream",
          "text": [
            "<class 'pandas.core.frame.DataFrame'>\n",
            "RangeIndex: 21350 entries, 0 to 21349\n",
            "Data columns (total 3 columns):\n",
            " #   Column    Non-Null Count  Dtype         \n",
            "---  ------    --------------  -----         \n",
            " 0   order_id  21350 non-null  int64         \n",
            " 1   date      21350 non-null  datetime64[ns]\n",
            " 2   time      21350 non-null  datetime64[ns]\n",
            "dtypes: datetime64[ns](2), int64(1)\n",
            "memory usage: 500.5 KB\n",
            "las columnas 'date' y 'time' son del tipo datetime64. time tiene la fecha del sistema actual. se debe presentar solo la hora\n"
          ]
        }
      ],
      "source": [
        "df_orders.info() \n",
        "df_orders    \n",
        "print('las columnas \\'date\\' y \\'time\\' son del tipo datetime64. time tiene la fecha del sistema actual. se debe presentar solo la hora')             "
      ],
      "id": "904c3984"
    },
    {
      "cell_type": "markdown",
      "metadata": {
        "id": "42e4465e"
      },
      "source": [
        "#### En caso que sea necesario corrige la columna fecha y hora"
      ],
      "id": "42e4465e"
    },
    {
      "cell_type": "code",
      "execution_count": null,
      "metadata": {
        "colab": {
          "base_uri": "https://localhost:8080/",
          "height": 424
        },
        "id": "4d3970a3",
        "outputId": "cad74d23-dcc5-48a3-b31d-7d26088caebf"
      },
      "outputs": [
        {
          "data": {
            "text/html": [
              "\n",
              "  <div id=\"df-6d2a8732-2cf2-4a14-b193-3863acd62040\">\n",
              "    <div class=\"colab-df-container\">\n",
              "      <div>\n",
              "<style scoped>\n",
              "    .dataframe tbody tr th:only-of-type {\n",
              "        vertical-align: middle;\n",
              "    }\n",
              "\n",
              "    .dataframe tbody tr th {\n",
              "        vertical-align: top;\n",
              "    }\n",
              "\n",
              "    .dataframe thead th {\n",
              "        text-align: right;\n",
              "    }\n",
              "</style>\n",
              "<table border=\"1\" class=\"dataframe\">\n",
              "  <thead>\n",
              "    <tr style=\"text-align: right;\">\n",
              "      <th></th>\n",
              "      <th>order_id</th>\n",
              "      <th>date</th>\n",
              "      <th>time</th>\n",
              "    </tr>\n",
              "  </thead>\n",
              "  <tbody>\n",
              "    <tr>\n",
              "      <th>0</th>\n",
              "      <td>1</td>\n",
              "      <td>2015-01-01</td>\n",
              "      <td>11:38:36</td>\n",
              "    </tr>\n",
              "    <tr>\n",
              "      <th>1</th>\n",
              "      <td>2</td>\n",
              "      <td>2015-01-01</td>\n",
              "      <td>11:57:40</td>\n",
              "    </tr>\n",
              "    <tr>\n",
              "      <th>2</th>\n",
              "      <td>3</td>\n",
              "      <td>2015-01-01</td>\n",
              "      <td>12:12:28</td>\n",
              "    </tr>\n",
              "    <tr>\n",
              "      <th>3</th>\n",
              "      <td>4</td>\n",
              "      <td>2015-01-01</td>\n",
              "      <td>12:16:31</td>\n",
              "    </tr>\n",
              "    <tr>\n",
              "      <th>4</th>\n",
              "      <td>5</td>\n",
              "      <td>2015-01-01</td>\n",
              "      <td>12:21:30</td>\n",
              "    </tr>\n",
              "    <tr>\n",
              "      <th>...</th>\n",
              "      <td>...</td>\n",
              "      <td>...</td>\n",
              "      <td>...</td>\n",
              "    </tr>\n",
              "    <tr>\n",
              "      <th>21345</th>\n",
              "      <td>21346</td>\n",
              "      <td>2015-12-31</td>\n",
              "      <td>20:51:07</td>\n",
              "    </tr>\n",
              "    <tr>\n",
              "      <th>21346</th>\n",
              "      <td>21347</td>\n",
              "      <td>2015-12-31</td>\n",
              "      <td>21:14:37</td>\n",
              "    </tr>\n",
              "    <tr>\n",
              "      <th>21347</th>\n",
              "      <td>21348</td>\n",
              "      <td>2015-12-31</td>\n",
              "      <td>21:23:10</td>\n",
              "    </tr>\n",
              "    <tr>\n",
              "      <th>21348</th>\n",
              "      <td>21349</td>\n",
              "      <td>2015-12-31</td>\n",
              "      <td>22:09:54</td>\n",
              "    </tr>\n",
              "    <tr>\n",
              "      <th>21349</th>\n",
              "      <td>21350</td>\n",
              "      <td>2015-12-31</td>\n",
              "      <td>23:02:05</td>\n",
              "    </tr>\n",
              "  </tbody>\n",
              "</table>\n",
              "<p>21350 rows × 3 columns</p>\n",
              "</div>\n",
              "      <button class=\"colab-df-convert\" onclick=\"convertToInteractive('df-6d2a8732-2cf2-4a14-b193-3863acd62040')\"\n",
              "              title=\"Convert this dataframe to an interactive table.\"\n",
              "              style=\"display:none;\">\n",
              "        \n",
              "  <svg xmlns=\"http://www.w3.org/2000/svg\" height=\"24px\"viewBox=\"0 0 24 24\"\n",
              "       width=\"24px\">\n",
              "    <path d=\"M0 0h24v24H0V0z\" fill=\"none\"/>\n",
              "    <path d=\"M18.56 5.44l.94 2.06.94-2.06 2.06-.94-2.06-.94-.94-2.06-.94 2.06-2.06.94zm-11 1L8.5 8.5l.94-2.06 2.06-.94-2.06-.94L8.5 2.5l-.94 2.06-2.06.94zm10 10l.94 2.06.94-2.06 2.06-.94-2.06-.94-.94-2.06-.94 2.06-2.06.94z\"/><path d=\"M17.41 7.96l-1.37-1.37c-.4-.4-.92-.59-1.43-.59-.52 0-1.04.2-1.43.59L10.3 9.45l-7.72 7.72c-.78.78-.78 2.05 0 2.83L4 21.41c.39.39.9.59 1.41.59.51 0 1.02-.2 1.41-.59l7.78-7.78 2.81-2.81c.8-.78.8-2.07 0-2.86zM5.41 20L4 18.59l7.72-7.72 1.47 1.35L5.41 20z\"/>\n",
              "  </svg>\n",
              "      </button>\n",
              "      \n",
              "  <style>\n",
              "    .colab-df-container {\n",
              "      display:flex;\n",
              "      flex-wrap:wrap;\n",
              "      gap: 12px;\n",
              "    }\n",
              "\n",
              "    .colab-df-convert {\n",
              "      background-color: #E8F0FE;\n",
              "      border: none;\n",
              "      border-radius: 50%;\n",
              "      cursor: pointer;\n",
              "      display: none;\n",
              "      fill: #1967D2;\n",
              "      height: 32px;\n",
              "      padding: 0 0 0 0;\n",
              "      width: 32px;\n",
              "    }\n",
              "\n",
              "    .colab-df-convert:hover {\n",
              "      background-color: #E2EBFA;\n",
              "      box-shadow: 0px 1px 2px rgba(60, 64, 67, 0.3), 0px 1px 3px 1px rgba(60, 64, 67, 0.15);\n",
              "      fill: #174EA6;\n",
              "    }\n",
              "\n",
              "    [theme=dark] .colab-df-convert {\n",
              "      background-color: #3B4455;\n",
              "      fill: #D2E3FC;\n",
              "    }\n",
              "\n",
              "    [theme=dark] .colab-df-convert:hover {\n",
              "      background-color: #434B5C;\n",
              "      box-shadow: 0px 1px 3px 1px rgba(0, 0, 0, 0.15);\n",
              "      filter: drop-shadow(0px 1px 2px rgba(0, 0, 0, 0.3));\n",
              "      fill: #FFFFFF;\n",
              "    }\n",
              "  </style>\n",
              "\n",
              "      <script>\n",
              "        const buttonEl =\n",
              "          document.querySelector('#df-6d2a8732-2cf2-4a14-b193-3863acd62040 button.colab-df-convert');\n",
              "        buttonEl.style.display =\n",
              "          google.colab.kernel.accessAllowed ? 'block' : 'none';\n",
              "\n",
              "        async function convertToInteractive(key) {\n",
              "          const element = document.querySelector('#df-6d2a8732-2cf2-4a14-b193-3863acd62040');\n",
              "          const dataTable =\n",
              "            await google.colab.kernel.invokeFunction('convertToInteractive',\n",
              "                                                     [key], {});\n",
              "          if (!dataTable) return;\n",
              "\n",
              "          const docLinkHtml = 'Like what you see? Visit the ' +\n",
              "            '<a target=\"_blank\" href=https://colab.research.google.com/notebooks/data_table.ipynb>data table notebook</a>'\n",
              "            + ' to learn more about interactive tables.';\n",
              "          element.innerHTML = '';\n",
              "          dataTable['output_type'] = 'display_data';\n",
              "          await google.colab.output.renderOutput(dataTable, element);\n",
              "          const docLink = document.createElement('div');\n",
              "          docLink.innerHTML = docLinkHtml;\n",
              "          element.appendChild(docLink);\n",
              "        }\n",
              "      </script>\n",
              "    </div>\n",
              "  </div>\n",
              "  "
            ],
            "text/plain": [
              "       order_id       date      time\n",
              "0             1 2015-01-01  11:38:36\n",
              "1             2 2015-01-01  11:57:40\n",
              "2             3 2015-01-01  12:12:28\n",
              "3             4 2015-01-01  12:16:31\n",
              "4             5 2015-01-01  12:21:30\n",
              "...         ...        ...       ...\n",
              "21345     21346 2015-12-31  20:51:07\n",
              "21346     21347 2015-12-31  21:14:37\n",
              "21347     21348 2015-12-31  21:23:10\n",
              "21348     21349 2015-12-31  22:09:54\n",
              "21349     21350 2015-12-31  23:02:05\n",
              "\n",
              "[21350 rows x 3 columns]"
            ]
          },
          "execution_count": 43,
          "metadata": {},
          "output_type": "execute_result"
        }
      ],
      "source": [
        "df_orders['time'] = df_orders['time'].dt.strftime('%H:%M:%S')   # esto ejecutar una sola vez\n",
        "df_orders"
      ],
      "id": "4d3970a3"
    },
    {
      "cell_type": "markdown",
      "metadata": {
        "id": "680a24cd"
      },
      "source": [
        "----"
      ],
      "id": "680a24cd"
    },
    {
      "cell_type": "markdown",
      "metadata": {
        "id": "c00d07a6"
      },
      "source": [
        "#### Lee el archivo order_details"
      ],
      "id": "c00d07a6"
    },
    {
      "cell_type": "code",
      "execution_count": 3,
      "metadata": {
        "id": "817d3c80"
      },
      "outputs": [],
      "source": [
        "df_order_details = pd.read_csv(ruta+'order_details.csv')"
      ],
      "id": "817d3c80"
    },
    {
      "cell_type": "markdown",
      "metadata": {
        "id": "f72a0205"
      },
      "source": [
        "#### Verifica que el archivo haya sido cargado correctamente"
      ],
      "id": "f72a0205"
    },
    {
      "cell_type": "code",
      "execution_count": null,
      "metadata": {
        "colab": {
          "base_uri": "https://localhost:8080/"
        },
        "id": "8d12fd38",
        "outputId": "c3b7c1e2-ca7c-4d73-d803-5fa072f54b5a"
      },
      "outputs": [
        {
          "name": "stdout",
          "output_type": "stream",
          "text": [
            "       order_details_id  order_id       pizza_id  quantity\n",
            "0                     1         1     hawaiian_m         1\n",
            "1                     2         2  classic_dlx_m         1\n",
            "2                     3         2  five_cheese_l         1\n",
            "3                     4         2    ital_supr_l         1\n",
            "4                     5         2     mexicana_m         1\n",
            "...                 ...       ...            ...       ...\n",
            "48615             48616     21348  ckn_alfredo_m         1\n",
            "48616             48617     21348  four_cheese_l         1\n",
            "48617             48618     21348   napolitana_s         1\n",
            "48618             48619     21349     mexicana_l         1\n",
            "48619             48620     21350      bbq_ckn_s         1\n",
            "\n",
            "[48620 rows x 4 columns]\n"
          ]
        }
      ],
      "source": [
        "print(df_order_details)"
      ],
      "id": "8d12fd38"
    },
    {
      "cell_type": "markdown",
      "metadata": {
        "id": "71fe1406"
      },
      "source": [
        "#### ¿Cuántos registros tiene el conjunto de datos?"
      ],
      "id": "71fe1406"
    },
    {
      "cell_type": "code",
      "execution_count": null,
      "metadata": {
        "colab": {
          "base_uri": "https://localhost:8080/"
        },
        "id": "c8d46ffb",
        "outputId": "79fba859-3bb9-49c5-aebe-c229d40e0e5d"
      },
      "outputs": [
        {
          "name": "stdout",
          "output_type": "stream",
          "text": [
            "Cantidad de registros del conjunto de datos: 48620\n"
          ]
        }
      ],
      "source": [
        "n_order_details = df_order_details.count(0)\n",
        "print(f'Cantidad de registros del conjunto de datos: {n_order_details.order_details_id}')"
      ],
      "id": "c8d46ffb"
    },
    {
      "cell_type": "markdown",
      "metadata": {
        "id": "e1ff1b56"
      },
      "source": [
        "####  ¿Existen registros en blanco?"
      ],
      "id": "e1ff1b56"
    },
    {
      "cell_type": "code",
      "execution_count": null,
      "metadata": {
        "colab": {
          "base_uri": "https://localhost:8080/"
        },
        "id": "ea38a3c4",
        "outputId": "58038e36-5aa7-4cf0-831e-475ce2e4eddc"
      },
      "outputs": [
        {
          "name": "stdout",
          "output_type": "stream",
          "text": [
            "No existen registros en blanco\n"
          ]
        }
      ],
      "source": [
        "\n",
        "if df_order_details.isna().sum().sum() > 0:\n",
        "  print('Existen registros en blanco')\n",
        "else:\n",
        "  print('No existen registros en blanco') "
      ],
      "id": "ea38a3c4"
    },
    {
      "cell_type": "markdown",
      "metadata": {
        "id": "1c98deaa"
      },
      "source": [
        "####  ¿Cuáles son las columnas que tiene este dataset?"
      ],
      "id": "1c98deaa"
    },
    {
      "cell_type": "code",
      "execution_count": null,
      "metadata": {
        "colab": {
          "base_uri": "https://localhost:8080/"
        },
        "id": "6e5ea9e1",
        "outputId": "ff82fd24-3f45-4ea4-ee9f-237587967359"
      },
      "outputs": [
        {
          "name": "stdout",
          "output_type": "stream",
          "text": [
            "las columnas que tiene el data set order_details.csv son: \n",
            "order_details_id\n",
            "order_id\n",
            "pizza_id\n",
            "quantity\n"
          ]
        }
      ],
      "source": [
        "print(f'las columnas que tiene el data set order_details.csv son: ')\n",
        "columns_of_orders = df_order_details.columns.to_series()\n",
        "for c in columns_of_orders:\n",
        "  print (c)"
      ],
      "id": "6e5ea9e1"
    },
    {
      "cell_type": "markdown",
      "metadata": {
        "id": "2738d7a7"
      },
      "source": [
        "#### ¿Las columnas están cargadas con el tipo de dato correcto?"
      ],
      "id": "2738d7a7"
    },
    {
      "cell_type": "code",
      "execution_count": null,
      "metadata": {
        "colab": {
          "base_uri": "https://localhost:8080/"
        },
        "id": "b1620c05",
        "outputId": "0e20df8a-3220-4ae0-c6bc-48fd303e8479"
      },
      "outputs": [
        {
          "output_type": "stream",
          "name": "stdout",
          "text": [
            "<class 'pandas.core.frame.DataFrame'>\n",
            "RangeIndex: 48620 entries, 0 to 48619\n",
            "Data columns (total 4 columns):\n",
            " #   Column            Non-Null Count  Dtype \n",
            "---  ------            --------------  ----- \n",
            " 0   order_details_id  48620 non-null  int64 \n",
            " 1   order_id          48620 non-null  int64 \n",
            " 2   pizza_id          48620 non-null  string\n",
            " 3   quantity          48620 non-null  int64 \n",
            "dtypes: int64(3), string(1)\n",
            "memory usage: 1.5 MB\n",
            "la columna 'pizza_id' es del tipo OBJECT. debería ser del tipo 'string'\n"
          ]
        }
      ],
      "source": [
        "df_order_details.info() \n",
        "df_order_details \n",
        "print('la columna \\'pizza_id\\' es del tipo OBJECT. debería ser del tipo \\'string\\'')"
      ],
      "id": "b1620c05"
    },
    {
      "cell_type": "markdown",
      "metadata": {
        "id": "08ee4432"
      },
      "source": [
        "#### Corrige las columnas que creas se están cargando de manera incorrecta"
      ],
      "id": "08ee4432"
    },
    {
      "cell_type": "code",
      "execution_count": null,
      "metadata": {
        "colab": {
          "base_uri": "https://localhost:8080/"
        },
        "id": "ef4a5750",
        "outputId": "2c52eab6-da0a-4cd4-c747-4ef30b3be9ea"
      },
      "outputs": [
        {
          "output_type": "stream",
          "name": "stdout",
          "text": [
            "<class 'pandas.core.frame.DataFrame'>\n",
            "RangeIndex: 48620 entries, 0 to 48619\n",
            "Data columns (total 4 columns):\n",
            " #   Column            Non-Null Count  Dtype \n",
            "---  ------            --------------  ----- \n",
            " 0   order_details_id  48620 non-null  int64 \n",
            " 1   order_id          48620 non-null  int64 \n",
            " 2   pizza_id          48620 non-null  string\n",
            " 3   quantity          48620 non-null  int64 \n",
            "dtypes: int64(3), string(1)\n",
            "memory usage: 1.5 MB\n"
          ]
        }
      ],
      "source": [
        "df_order_details['pizza_id'] = df_order_details['pizza_id'].astype('string')\n",
        "df_order_details.info() "
      ],
      "id": "ef4a5750"
    },
    {
      "cell_type": "markdown",
      "metadata": {
        "id": "64d3fa3a"
      },
      "source": [
        "-----"
      ],
      "id": "64d3fa3a"
    },
    {
      "cell_type": "markdown",
      "metadata": {
        "id": "fdcaea89"
      },
      "source": [
        "#### Lee el archivo pizzas"
      ],
      "id": "fdcaea89"
    },
    {
      "cell_type": "code",
      "execution_count": 4,
      "metadata": {
        "id": "b2b4f440"
      },
      "outputs": [],
      "source": [
        "df_pizzas = pd.read_csv(ruta+'pizzas.csv')\n",
        "#df_pizzas = pd.read_csv(ruta+'pizzas_con_nulos.csv')"
      ],
      "id": "b2b4f440"
    },
    {
      "cell_type": "markdown",
      "metadata": {
        "id": "bff7a729"
      },
      "source": [
        "#### Verifica que el archivo haya sido cargado correctamente"
      ],
      "id": "bff7a729"
    },
    {
      "cell_type": "code",
      "execution_count": null,
      "metadata": {
        "colab": {
          "base_uri": "https://localhost:8080/"
        },
        "id": "351d7484",
        "outputId": "e779e686-bac8-4141-f448-14fd2168c042"
      },
      "outputs": [
        {
          "output_type": "stream",
          "name": "stdout",
          "text": [
            "         pizza_id pizza_type_id size  price\n",
            "0       bbq_ckn_s       bbq_ckn    S  12.75\n",
            "1       bbq_ckn_m       bbq_ckn    M  16.75\n",
            "2       bbq_ckn_l       bbq_ckn    L  20.75\n",
            "3      cali_ckn_s      cali_ckn    S  12.75\n",
            "4      cali_ckn_m      cali_ckn    M  16.75\n",
            "..            ...           ...  ...    ...\n",
            "91  spinach_fet_m   spinach_fet    M  16.00\n",
            "92  spinach_fet_l   spinach_fet    L  20.25\n",
            "93   veggie_veg_s    veggie_veg    S  12.00\n",
            "94   veggie_veg_m    veggie_veg    M  16.00\n",
            "95   veggie_veg_l    veggie_veg    L  20.25\n",
            "\n",
            "[96 rows x 4 columns]\n"
          ]
        }
      ],
      "source": [
        "print(df_pizzas)"
      ],
      "id": "351d7484"
    },
    {
      "cell_type": "markdown",
      "metadata": {
        "id": "5e3246ba"
      },
      "source": [
        "#### ¿Cuántos registros tiene el conjunto de datos?"
      ],
      "id": "5e3246ba"
    },
    {
      "cell_type": "code",
      "execution_count": null,
      "metadata": {
        "colab": {
          "base_uri": "https://localhost:8080/"
        },
        "id": "78d323b8",
        "outputId": "75cb53d6-903f-4a5a-b5f4-08d7d8a17b1d"
      },
      "outputs": [
        {
          "output_type": "stream",
          "name": "stdout",
          "text": [
            "Cantidad de registros del conjunto de datos: 96\n"
          ]
        }
      ],
      "source": [
        "n_df_pizzas = df_pizzas.count(0)\n",
        "print(f'Cantidad de registros del conjunto de datos: {n_df_pizzas.pizza_id}')"
      ],
      "id": "78d323b8"
    },
    {
      "cell_type": "markdown",
      "metadata": {
        "id": "206d97a2"
      },
      "source": [
        "####  ¿Existen registros en blanco?"
      ],
      "id": "206d97a2"
    },
    {
      "cell_type": "code",
      "execution_count": null,
      "metadata": {
        "colab": {
          "base_uri": "https://localhost:8080/"
        },
        "id": "81d1ae5c",
        "outputId": "63cdeea3-59df-4ac3-ce2b-5b285d0dee11"
      },
      "outputs": [
        {
          "output_type": "stream",
          "name": "stdout",
          "text": [
            "no tiene registros en blancos\n"
          ]
        }
      ],
      "source": [
        "if df_pizzas.isna().sum().sum() > 0:\n",
        "  print(f'tiene registros en blanco')\n",
        "else:\n",
        "  print('no tiene registros en blancos')"
      ],
      "id": "81d1ae5c"
    },
    {
      "cell_type": "markdown",
      "metadata": {
        "id": "1c271165"
      },
      "source": [
        "####  ¿Cuáles son las columnas que tiene este dataset?"
      ],
      "id": "1c271165"
    },
    {
      "cell_type": "code",
      "execution_count": null,
      "metadata": {
        "colab": {
          "base_uri": "https://localhost:8080/"
        },
        "id": "3b1cb76a",
        "outputId": "5169bdc6-d28b-4564-af1c-777b94758148"
      },
      "outputs": [
        {
          "output_type": "stream",
          "name": "stdout",
          "text": [
            "las columnas que tiene el data set pizzas.csv son: \n",
            "pizza_id\n",
            "pizza_type_id\n",
            "size\n",
            "price\n"
          ]
        }
      ],
      "source": [
        "print(f'las columnas que tiene el data set pizzas.csv son: ')\n",
        "columns_of_orders = df_pizzas.columns.to_series()\n",
        "for c in columns_of_orders:\n",
        "  print (c)"
      ],
      "id": "3b1cb76a"
    },
    {
      "cell_type": "markdown",
      "metadata": {
        "id": "acb206a9"
      },
      "source": [
        "#### ¿Las columnas están cargadas con el tipo de dato correcto?"
      ],
      "id": "acb206a9"
    },
    {
      "cell_type": "code",
      "execution_count": null,
      "metadata": {
        "colab": {
          "base_uri": "https://localhost:8080/"
        },
        "id": "80334d80",
        "outputId": "888bb86a-5bd0-4d89-9cd4-bac9a428cd68"
      },
      "outputs": [
        {
          "output_type": "stream",
          "name": "stdout",
          "text": [
            "<class 'pandas.core.frame.DataFrame'>\n",
            "RangeIndex: 96 entries, 0 to 95\n",
            "Data columns (total 4 columns):\n",
            " #   Column         Non-Null Count  Dtype  \n",
            "---  ------         --------------  -----  \n",
            " 0   pizza_id       96 non-null     object \n",
            " 1   pizza_type_id  96 non-null     object \n",
            " 2   size           96 non-null     object \n",
            " 3   price          96 non-null     float64\n",
            "dtypes: float64(1), object(3)\n",
            "memory usage: 3.1+ KB\n",
            "las columnas 'pizza_id, pizza_type_id, size' son del tipo OBJECT. podrían ser del tipo 'string'\n"
          ]
        }
      ],
      "source": [
        "df_pizzas.info()\n",
        "print('las columnas \\'pizza_id, pizza_type_id, size\\' son del tipo OBJECT. podrían ser del tipo \\'string\\'')"
      ],
      "id": "80334d80"
    },
    {
      "cell_type": "markdown",
      "metadata": {
        "id": "82f32f4c"
      },
      "source": [
        "------"
      ],
      "id": "82f32f4c"
    },
    {
      "cell_type": "markdown",
      "metadata": {
        "id": "05b624f0"
      },
      "source": [
        "#### Lee el archivo pizza_types"
      ],
      "id": "05b624f0"
    },
    {
      "cell_type": "code",
      "execution_count": 5,
      "metadata": {
        "id": "836fe77a"
      },
      "outputs": [],
      "source": [
        "df_pizza_types = pd.read_csv(ruta+'pizza_types.csv', header=0, encoding='unicode_escape')"
      ],
      "id": "836fe77a"
    },
    {
      "cell_type": "markdown",
      "metadata": {
        "id": "815d5ac2"
      },
      "source": [
        "#### Verifica que el archivo haya sido cargado correctamente"
      ],
      "id": "815d5ac2"
    },
    {
      "cell_type": "code",
      "execution_count": null,
      "metadata": {
        "colab": {
          "base_uri": "https://localhost:8080/"
        },
        "id": "989f122c",
        "outputId": "970384d2-1508-4f20-b8bb-2fd5ab0f5e50"
      },
      "outputs": [
        {
          "output_type": "stream",
          "name": "stdout",
          "text": [
            "   pizza_type_id                                        name category  \\\n",
            "0        bbq_ckn                  The Barbecue Chicken Pizza  Chicken   \n",
            "1       cali_ckn                The California Chicken Pizza  Chicken   \n",
            "2    ckn_alfredo                   The Chicken Alfredo Pizza  Chicken   \n",
            "3      ckn_pesto                     The Chicken Pesto Pizza  Chicken   \n",
            "4     southw_ckn                 The Southwest Chicken Pizza  Chicken   \n",
            "5       thai_ckn                      The Thai Chicken Pizza  Chicken   \n",
            "6       big_meat                          The Big Meat Pizza  Classic   \n",
            "7    classic_dlx                    The Classic Deluxe Pizza  Classic   \n",
            "8       hawaiian                          The Hawaiian Pizza  Classic   \n",
            "9    ital_cpcllo                 The Italian Capocollo Pizza  Classic   \n",
            "10    napolitana                        The Napolitana Pizza  Classic   \n",
            "11   pep_msh_pep  The Pepperoni, Mushroom, and Peppers Pizza  Classic   \n",
            "12     pepperoni                         The Pepperoni Pizza  Classic   \n",
            "13     the_greek                             The Greek Pizza  Classic   \n",
            "14    brie_carre                        The Brie Carre Pizza  Supreme   \n",
            "15     calabrese                         The Calabrese Pizza  Supreme   \n",
            "16     ital_supr                   The Italian Supreme Pizza  Supreme   \n",
            "17  peppr_salami                     The Pepper Salami Pizza  Supreme   \n",
            "18    prsc_argla            The Prosciutto and Arugula Pizza  Supreme   \n",
            "19      sicilian                          The Sicilian Pizza  Supreme   \n",
            "20   soppressata                       The Soppressata Pizza  Supreme   \n",
            "21    spicy_ital                     The Spicy Italian Pizza  Supreme   \n",
            "22  spinach_supr                   The Spinach Supreme Pizza  Supreme   \n",
            "23   five_cheese                       The Five Cheese Pizza   Veggie   \n",
            "24   four_cheese                       The Four Cheese Pizza   Veggie   \n",
            "25  green_garden                      The Green Garden Pizza   Veggie   \n",
            "26   ital_veggie                The Italian Vegetables Pizza   Veggie   \n",
            "27  mediterraneo                     The Mediterranean Pizza   Veggie   \n",
            "28      mexicana                          The Mexicana Pizza   Veggie   \n",
            "29    spin_pesto                     The Spinach Pesto Pizza   Veggie   \n",
            "30   spinach_fet                  The Spinach and Feta Pizza   Veggie   \n",
            "31    veggie_veg           The Vegetables + Vegetables Pizza   Veggie   \n",
            "\n",
            "                                          ingredients  \n",
            "0   Barbecued Chicken, Red Peppers, Green Peppers,...  \n",
            "1   Chicken, Artichoke, Spinach, Garlic, Jalapeno ...  \n",
            "2   Chicken, Red Onions, Red Peppers, Mushrooms, A...  \n",
            "3   Chicken, Tomatoes, Red Peppers, Spinach, Garli...  \n",
            "4   Chicken, Tomatoes, Red Peppers, Red Onions, Ja...  \n",
            "5   Chicken, Pineapple, Tomatoes, Red Peppers, Tha...  \n",
            "6   Bacon, Pepperoni, Italian Sausage, Chorizo Sau...  \n",
            "7   Pepperoni, Mushrooms, Red Onions, Red Peppers,...  \n",
            "8            Sliced Ham, Pineapple, Mozzarella Cheese  \n",
            "9   Capocollo, Red Peppers, Tomatoes, Goat Cheese,...  \n",
            "10  Tomatoes, Anchovies, Green Olives, Red Onions,...  \n",
            "11                Pepperoni, Mushrooms, Green Peppers  \n",
            "12                       Mozzarella Cheese, Pepperoni  \n",
            "13  Kalamata Olives, Feta Cheese, Tomatoes, Garlic...  \n",
            "14  Brie Carre Cheese, Prosciutto, Caramelized Oni...  \n",
            "15  Nduja Salami, Pancetta, Tomatoes, Red Onions,...  \n",
            "16  Calabrese Salami, Capocollo, Tomatoes, Red Oni...  \n",
            "17  Genoa Salami, Capocollo, Pepperoni, Tomatoes, ...  \n",
            "18  Prosciutto di San Daniele, Arugula, Mozzarella...  \n",
            "19  Coarse Sicilian Salami, Tomatoes, Green Olives...  \n",
            "20  Soppressata Salami, Fontina Cheese, Mozzarella...  \n",
            "21  Capocollo, Tomatoes, Goat Cheese, Artichokes, ...  \n",
            "22  Spinach, Red Onions, Pepperoni, Tomatoes, Arti...  \n",
            "23  Mozzarella Cheese, Provolone Cheese, Smoked Go...  \n",
            "24  Ricotta Cheese, Gorgonzola Piccante Cheese, Mo...  \n",
            "25  Spinach, Mushrooms, Tomatoes, Green Olives, Fe...  \n",
            "26  Eggplant, Artichokes, Tomatoes, Zucchini, Red ...  \n",
            "27  Spinach, Artichokes, Kalamata Olives, Sun-drie...  \n",
            "28  Tomatoes, Red Peppers, Jalapeno Peppers, Red O...  \n",
            "29  Spinach, Artichokes, Tomatoes, Sun-dried Tomat...  \n",
            "30  Spinach, Mushrooms, Red Onions, Feta Cheese, G...  \n",
            "31  Mushrooms, Tomatoes, Red Peppers, Green Pepper...  \n"
          ]
        }
      ],
      "source": [
        "print(df_pizza_types)"
      ],
      "id": "989f122c"
    },
    {
      "cell_type": "markdown",
      "metadata": {
        "id": "ed53b5b9"
      },
      "source": [
        "#### ¿Cuántos registros tiene el conjunto de datos?"
      ],
      "id": "ed53b5b9"
    },
    {
      "cell_type": "code",
      "execution_count": null,
      "metadata": {
        "colab": {
          "base_uri": "https://localhost:8080/"
        },
        "id": "3c892edc",
        "outputId": "b81b106b-960a-4745-a7ba-db740f8a6a2a"
      },
      "outputs": [
        {
          "output_type": "stream",
          "name": "stdout",
          "text": [
            "Cantidad de registros del conjunto de datos: 32\n"
          ]
        }
      ],
      "source": [
        "n_df_pizza_types = df_pizza_types.count(0)\n",
        "print(f'Cantidad de registros del conjunto de datos: {n_df_pizza_types.pizza_type_id}')"
      ],
      "id": "3c892edc"
    },
    {
      "cell_type": "markdown",
      "metadata": {
        "id": "9d616c5f"
      },
      "source": [
        "####  ¿Existen registros en blanco?"
      ],
      "id": "9d616c5f"
    },
    {
      "cell_type": "code",
      "execution_count": null,
      "metadata": {
        "colab": {
          "base_uri": "https://localhost:8080/"
        },
        "id": "e62d0471",
        "outputId": "8d805801-f191-476d-9bec-6a6f14237f0b"
      },
      "outputs": [
        {
          "output_type": "stream",
          "name": "stdout",
          "text": [
            "no tiene registros en blancos\n"
          ]
        }
      ],
      "source": [
        "if df_pizza_types.isna().sum().sum() > 0:\n",
        "  print(f'tiene registros en blanco')\n",
        "else:\n",
        "  print('no tiene registros en blancos')"
      ],
      "id": "e62d0471"
    },
    {
      "cell_type": "markdown",
      "metadata": {
        "id": "64f9eea5"
      },
      "source": [
        "####  ¿Cuáles son las columnas que tiene este dataset?"
      ],
      "id": "64f9eea5"
    },
    {
      "cell_type": "code",
      "execution_count": null,
      "metadata": {
        "colab": {
          "base_uri": "https://localhost:8080/"
        },
        "id": "ab387ae6",
        "outputId": "d824d506-fec4-4173-9e2d-ed0d0bde8b5c"
      },
      "outputs": [
        {
          "output_type": "stream",
          "name": "stdout",
          "text": [
            "las columnas que tiene el data set pizza_types.csv son: \n",
            "pizza_type_id\n",
            "name\n",
            "category\n",
            "ingredients\n"
          ]
        }
      ],
      "source": [
        "print(f'las columnas que tiene el data set pizza_types.csv son: ')\n",
        "columns_of_orders = df_pizza_types.columns.to_series()\n",
        "for c in columns_of_orders:\n",
        "  print (c)"
      ],
      "id": "ab387ae6"
    },
    {
      "cell_type": "markdown",
      "metadata": {
        "id": "a08f7502"
      },
      "source": [
        "#### ¿Las columnas están cargadas con el tipo de dato correcto?"
      ],
      "id": "a08f7502"
    },
    {
      "cell_type": "code",
      "execution_count": null,
      "metadata": {
        "colab": {
          "base_uri": "https://localhost:8080/"
        },
        "id": "7d4f19bf",
        "outputId": "1ca54956-5fee-4b76-8843-1483d0c93c7e"
      },
      "outputs": [
        {
          "output_type": "stream",
          "name": "stdout",
          "text": [
            "las columnas 'pizza_type_id, name, category, ingredients' son del tipo OBJECT. Podrían ser del tipo 'string'\n"
          ]
        }
      ],
      "source": [
        "print('las columnas \\'pizza_type_id, name, category, ingredients\\' son del tipo OBJECT. Podrían ser del tipo \\'string\\'')"
      ],
      "id": "7d4f19bf"
    },
    {
      "cell_type": "markdown",
      "metadata": {
        "id": "a84468c2"
      },
      "source": [
        "### Inicio de EDA"
      ],
      "id": "a84468c2"
    },
    {
      "cell_type": "markdown",
      "metadata": {
        "id": "910ed75f"
      },
      "source": [
        "#### ¿A qué periodo corresponden las ventas?"
      ],
      "id": "910ed75f"
    },
    {
      "cell_type": "code",
      "execution_count": 6,
      "metadata": {
        "colab": {
          "base_uri": "https://localhost:8080/"
        },
        "id": "b96a7e71",
        "outputId": "16eab070-0269-443d-a44c-9761ca36ea10"
      },
      "outputs": [
        {
          "output_type": "stream",
          "name": "stdout",
          "text": [
            "Las ventas corresponde al periodo entre 2015-01-01 00:00:00 y 2015-12-31 00:00:00\n"
          ]
        }
      ],
      "source": [
        "orders = df_orders.sort_values(by=['date'], ascending=True)\n",
        "start_date = orders.head(1)\n",
        "end_date = orders.tail(1)\n",
        "print(f'Las ventas corresponde al periodo entre {start_date.iloc[0,1]} y {end_date.iloc[0,1]}')"
      ],
      "id": "b96a7e71"
    },
    {
      "cell_type": "markdown",
      "metadata": {
        "id": "6d3a0f29"
      },
      "source": [
        "#### ¿Cuántos fueron los pedidos por mes?"
      ],
      "id": "6d3a0f29"
    },
    {
      "cell_type": "code",
      "execution_count": 7,
      "metadata": {
        "colab": {
          "base_uri": "https://localhost:8080/"
        },
        "id": "bf0efe38",
        "outputId": "b621b0cb-273f-4074-ffb4-65b66d7e9a11"
      },
      "outputs": [
        {
          "output_type": "execute_result",
          "data": {
            "text/plain": [
              "date\n",
              "2015-01-31    1845\n",
              "2015-02-28    1685\n",
              "2015-03-31    1840\n",
              "2015-04-30    1799\n",
              "2015-05-31    1853\n",
              "2015-06-30    1773\n",
              "2015-07-31    1935\n",
              "2015-08-31    1841\n",
              "2015-09-30    1661\n",
              "2015-10-31    1646\n",
              "2015-11-30    1792\n",
              "2015-12-31    1680\n",
              "Freq: M, Name: order_id, dtype: int64"
            ]
          },
          "metadata": {},
          "execution_count": 7
        }
      ],
      "source": [
        "df_orders.resample('M', on='date')['order_id'].count()"
      ],
      "id": "bf0efe38"
    },
    {
      "cell_type": "markdown",
      "metadata": {
        "id": "fe3e1cc8"
      },
      "source": [
        "#### Haz un gráfico que permita visualizar la cantidad de pedidos por mes"
      ],
      "id": "fe3e1cc8"
    },
    {
      "cell_type": "code",
      "execution_count": 8,
      "metadata": {
        "colab": {
          "base_uri": "https://localhost:8080/",
          "height": 295
        },
        "id": "827d3586",
        "outputId": "eafabd2d-489d-48b1-fe93-5831891c6488"
      },
      "outputs": [
        {
          "output_type": "display_data",
          "data": {
            "text/plain": [
              "<Figure size 432x288 with 1 Axes>"
            ],
            "image/png": "[encoded data removed]"
          },
          "metadata": {
            "needs_background": "light"
          }
        }
      ],
      "source": [
        "monthly_orders = df_orders.resample('M', on='date').count()\n",
        "plt.plot(months, monthly_orders.order_id)\n",
        "plt.title('Pedidos por mes')\n",
        "plt.xlabel('Meses')\n",
        "plt.ylabel('Cantidad de Pedidos')\n",
        "plt.show()"
      ],
      "id": "827d3586"
    },
    {
      "cell_type": "markdown",
      "metadata": {
        "id": "70010cd4"
      },
      "source": [
        "#### ¿Cuál fue el promedio de pedidos mensual?"
      ],
      "id": "70010cd4"
    },
    {
      "cell_type": "code",
      "execution_count": 9,
      "metadata": {
        "colab": {
          "base_uri": "https://localhost:8080/"
        },
        "id": "1559e897",
        "outputId": "bba5b5ab-06f5-4c79-c645-a7761663ab56"
      },
      "outputs": [
        {
          "output_type": "stream",
          "name": "stdout",
          "text": [
            "El promedio de pedidos mensual es: 1779.1666666666667\n"
          ]
        }
      ],
      "source": [
        "mean = df_orders.resample('M', on='date')['order_id'].count().mean()\n",
        "print(f'El promedio de pedidos mensual es: {mean}')"
      ],
      "id": "1559e897"
    },
    {
      "cell_type": "markdown",
      "metadata": {
        "id": "4722b7b2"
      },
      "source": [
        "Para poder responder varias de las siguientes preguntas deberás realizar la transformación de los datos, que irá desde la unión de varios DataFrames hasta el calculo de nuevas columnas"
      ],
      "id": "4722b7b2"
    },
    {
      "cell_type": "code",
      "execution_count": 10,
      "metadata": {
        "id": "5cc36387"
      },
      "outputs": [],
      "source": [
        "merge_orders_x_details = pd.merge(df_orders, df_order_details, on='order_id')\n",
        "merge_orders_x_pizzas = pd.merge(merge_orders_x_details, df_pizzas, on='pizza_id')"
      ],
      "id": "5cc36387"
    },
    {
      "cell_type": "markdown",
      "metadata": {
        "id": "e7a0c5d6"
      },
      "source": [
        "#### ¿Cuántas pizzas se vendieron por mes y cuánto se facturó?"
      ],
      "id": "e7a0c5d6"
    },
    {
      "cell_type": "code",
      "execution_count": 11,
      "metadata": {
        "colab": {
          "base_uri": "https://localhost:8080/",
          "height": 457
        },
        "id": "c6e85654",
        "outputId": "0189ab3a-319c-467b-a1fb-46de05e0b4c6"
      },
      "outputs": [
        {
          "output_type": "execute_result",
          "data": {
            "text/plain": [
              "            quantity    profit\n",
              "date                          \n",
              "2015-01-31      4232  69793.30\n",
              "2015-02-28      3961  65159.60\n",
              "2015-03-31      4261  70397.10\n",
              "2015-04-30      4151  68736.80\n",
              "2015-05-31      4328  71402.75\n",
              "2015-06-30      4107  68230.20\n",
              "2015-07-31      4392  72557.90\n",
              "2015-08-31      4168  68278.25\n",
              "2015-09-30      3890  64180.05\n",
              "2015-10-31      3883  64027.60\n",
              "2015-11-30      4266  70395.35\n",
              "2015-12-31      3935  64701.15"
            ],
            "text/html": [
              "\n",
              "  <div id=\"df-9b4ae500-1c47-4848-9af0-931b548bca94\">\n",
              "    <div class=\"colab-df-container\">\n",
              "      <div>\n",
              "<style scoped>\n",
              "    .dataframe tbody tr th:only-of-type {\n",
              "        vertical-align: middle;\n",
              "    }\n",
              "\n",
              "    .dataframe tbody tr th {\n",
              "        vertical-align: top;\n",
              "    }\n",
              "\n",
              "    .dataframe thead th {\n",
              "        text-align: right;\n",
              "    }\n",
              "</style>\n",
              "<table border=\"1\" class=\"dataframe\">\n",
              "  <thead>\n",
              "    <tr style=\"text-align: right;\">\n",
              "      <th></th>\n",
              "      <th>quantity</th>\n",
              "      <th>profit</th>\n",
              "    </tr>\n",
              "    <tr>\n",
              "      <th>date</th>\n",
              "      <th></th>\n",
              "      <th></th>\n",
              "    </tr>\n",
              "  </thead>\n",
              "  <tbody>\n",
              "    <tr>\n",
              "      <th>2015-01-31</th>\n",
              "      <td>4232</td>\n",
              "      <td>69793.30</td>\n",
              "    </tr>\n",
              "    <tr>\n",
              "      <th>2015-02-28</th>\n",
              "      <td>3961</td>\n",
              "      <td>65159.60</td>\n",
              "    </tr>\n",
              "    <tr>\n",
              "      <th>2015-03-31</th>\n",
              "      <td>4261</td>\n",
              "      <td>70397.10</td>\n",
              "    </tr>\n",
              "    <tr>\n",
              "      <th>2015-04-30</th>\n",
              "      <td>4151</td>\n",
              "      <td>68736.80</td>\n",
              "    </tr>\n",
              "    <tr>\n",
              "      <th>2015-05-31</th>\n",
              "      <td>4328</td>\n",
              "      <td>71402.75</td>\n",
              "    </tr>\n",
              "    <tr>\n",
              "      <th>2015-06-30</th>\n",
              "      <td>4107</td>\n",
              "      <td>68230.20</td>\n",
              "    </tr>\n",
              "    <tr>\n",
              "      <th>2015-07-31</th>\n",
              "      <td>4392</td>\n",
              "      <td>72557.90</td>\n",
              "    </tr>\n",
              "    <tr>\n",
              "      <th>2015-08-31</th>\n",
              "      <td>4168</td>\n",
              "      <td>68278.25</td>\n",
              "    </tr>\n",
              "    <tr>\n",
              "      <th>2015-09-30</th>\n",
              "      <td>3890</td>\n",
              "      <td>64180.05</td>\n",
              "    </tr>\n",
              "    <tr>\n",
              "      <th>2015-10-31</th>\n",
              "      <td>3883</td>\n",
              "      <td>64027.60</td>\n",
              "    </tr>\n",
              "    <tr>\n",
              "      <th>2015-11-30</th>\n",
              "      <td>4266</td>\n",
              "      <td>70395.35</td>\n",
              "    </tr>\n",
              "    <tr>\n",
              "      <th>2015-12-31</th>\n",
              "      <td>3935</td>\n",
              "      <td>64701.15</td>\n",
              "    </tr>\n",
              "  </tbody>\n",
              "</table>\n",
              "</div>\n",
              "      <button class=\"colab-df-convert\" onclick=\"convertToInteractive('df-9b4ae500-1c47-4848-9af0-931b548bca94')\"\n",
              "              title=\"Convert this dataframe to an interactive table.\"\n",
              "              style=\"display:none;\">\n",
              "        \n",
              "  <svg xmlns=\"http://www.w3.org/2000/svg\" height=\"24px\"viewBox=\"0 0 24 24\"\n",
              "       width=\"24px\">\n",
              "    <path d=\"M0 0h24v24H0V0z\" fill=\"none\"/>\n",
              "    <path d=\"M18.56 5.44l.94 2.06.94-2.06 2.06-.94-2.06-.94-.94-2.06-.94 2.06-2.06.94zm-11 1L8.5 8.5l.94-2.06 2.06-.94-2.06-.94L8.5 2.5l-.94 2.06-2.06.94zm10 10l.94 2.06.94-2.06 2.06-.94-2.06-.94-.94-2.06-.94 2.06-2.06.94z\"/><path d=\"M17.41 7.96l-1.37-1.37c-.4-.4-.92-.59-1.43-.59-.52 0-1.04.2-1.43.59L10.3 9.45l-7.72 7.72c-.78.78-.78 2.05 0 2.83L4 21.41c.39.39.9.59 1.41.59.51 0 1.02-.2 1.41-.59l7.78-7.78 2.81-2.81c.8-.78.8-2.07 0-2.86zM5.41 20L4 18.59l7.72-7.72 1.47 1.35L5.41 20z\"/>\n",
              "  </svg>\n",
              "      </button>\n",
              "      \n",
              "  <style>\n",
              "    .colab-df-container {\n",
              "      display:flex;\n",
              "      flex-wrap:wrap;\n",
              "      gap: 12px;\n",
              "    }\n",
              "\n",
              "    .colab-df-convert {\n",
              "      background-color: #E8F0FE;\n",
              "      border: none;\n",
              "      border-radius: 50%;\n",
              "      cursor: pointer;\n",
              "      display: none;\n",
              "      fill: #1967D2;\n",
              "      height: 32px;\n",
              "      padding: 0 0 0 0;\n",
              "      width: 32px;\n",
              "    }\n",
              "\n",
              "    .colab-df-convert:hover {\n",
              "      background-color: #E2EBFA;\n",
              "      box-shadow: 0px 1px 2px rgba(60, 64, 67, 0.3), 0px 1px 3px 1px rgba(60, 64, 67, 0.15);\n",
              "      fill: #174EA6;\n",
              "    }\n",
              "\n",
              "    [theme=dark] .colab-df-convert {\n",
              "      background-color: #3B4455;\n",
              "      fill: #D2E3FC;\n",
              "    }\n",
              "\n",
              "    [theme=dark] .colab-df-convert:hover {\n",
              "      background-color: #434B5C;\n",
              "      box-shadow: 0px 1px 3px 1px rgba(0, 0, 0, 0.15);\n",
              "      filter: drop-shadow(0px 1px 2px rgba(0, 0, 0, 0.3));\n",
              "      fill: #FFFFFF;\n",
              "    }\n",
              "  </style>\n",
              "\n",
              "      <script>\n",
              "        const buttonEl =\n",
              "          document.querySelector('#df-9b4ae500-1c47-4848-9af0-931b548bca94 button.colab-df-convert');\n",
              "        buttonEl.style.display =\n",
              "          google.colab.kernel.accessAllowed ? 'block' : 'none';\n",
              "\n",
              "        async function convertToInteractive(key) {\n",
              "          const element = document.querySelector('#df-9b4ae500-1c47-4848-9af0-931b548bca94');\n",
              "          const dataTable =\n",
              "            await google.colab.kernel.invokeFunction('convertToInteractive',\n",
              "                                                     [key], {});\n",
              "          if (!dataTable) return;\n",
              "\n",
              "          const docLinkHtml = 'Like what you see? Visit the ' +\n",
              "            '<a target=\"_blank\" href=https://colab.research.google.com/notebooks/data_table.ipynb>data table notebook</a>'\n",
              "            + ' to learn more about interactive tables.';\n",
              "          element.innerHTML = '';\n",
              "          dataTable['output_type'] = 'display_data';\n",
              "          await google.colab.output.renderOutput(dataTable, element);\n",
              "          const docLink = document.createElement('div');\n",
              "          docLink.innerHTML = docLinkHtml;\n",
              "          element.appendChild(docLink);\n",
              "        }\n",
              "      </script>\n",
              "    </div>\n",
              "  </div>\n",
              "  "
            ]
          },
          "metadata": {},
          "execution_count": 11
        }
      ],
      "source": [
        "merge_orders_x_pizzas['profit'] = merge_orders_x_pizzas['price'] * merge_orders_x_pizzas['quantity']    # agregamos el cálculo de precio por cantidad por cada pedido\n",
        "merge_orders_x_pizzas.index = merge_orders_x_pizzas['date']\n",
        "merge_orders_x_pizzas['date'] = pd.to_datetime(merge_orders_x_pizzas['date'])                           # formateamos el objeto al tipo date\n",
        "merge_orders_x_pizzas['month'] = merge_orders_x_pizzas['date'].dt.month                                 # añadimos una columna con el número de mes\n",
        "merge_orders_x_pizzas.resample('M')['quantity', 'profit'].sum()                                         # agrupamos cantidad de pizzas por mes"
      ],
      "id": "c6e85654"
    },
    {
      "cell_type": "markdown",
      "metadata": {
        "id": "9768f290"
      },
      "source": [
        "#### Haz gráficos que permitan visualizar la cantidad de pizzas vendidas y la facturación por mes"
      ],
      "id": "9768f290"
    },
    {
      "cell_type": "code",
      "source": [
        "quantity = merge_orders_x_pizzas.resample('M')['quantity'].sum()\n",
        "fig, ax = plt.subplots()\n",
        "ax.bar(months, quantity)\n",
        "ax.set_ylabel('Cantidad')\n",
        "ax.set_xlabel('Meses')\n",
        "ax.set_title('Cantidad de Pizzas vendidas')\n",
        "plt.ylim(bottom=0, top=6000)\n",
        "plt.show()"
      ],
      "metadata": {
        "colab": {
          "base_uri": "https://localhost:8080/",
          "height": 295
        },
        "id": "75Ao5jUfZlrw",
        "outputId": "0f9ca73d-fb20-43db-e2f7-2d22be15fb10"
      },
      "id": "75Ao5jUfZlrw",
      "execution_count": 12,
      "outputs": [
        {
          "output_type": "display_data",
          "data": {
            "text/plain": [
              "<Figure size 432x288 with 1 Axes>"
            ],
            "image/png": "[encoded data removed]"
          },
          "metadata": {
            "needs_background": "light"
          }
        }
      ]
    },
    {
      "cell_type": "code",
      "source": [
        "profit = merge_orders_x_pizzas.resample('M')['profit'].sum()\n",
        "fig, ax = plt.subplots()\n",
        "ax.bar(months, profit)\n",
        "ax.set_ylabel('Profit')\n",
        "ax.set_xlabel('Meses')\n",
        "ax.set_title('Facturación')\n",
        "plt.ylim(bottom=0, top=100000)\n",
        "plt.show()"
      ],
      "metadata": {
        "colab": {
          "base_uri": "https://localhost:8080/",
          "height": 295
        },
        "id": "e4pwSGplcBCe",
        "outputId": "2a90141c-e83e-4f25-ed41-fa614bf1945b"
      },
      "id": "e4pwSGplcBCe",
      "execution_count": 13,
      "outputs": [
        {
          "output_type": "display_data",
          "data": {
            "text/plain": [
              "<Figure size 432x288 with 1 Axes>"
            ],
            "image/png": "[encoded data removed]"
          },
          "metadata": {
            "needs_background": "light"
          }
        }
      ]
    },
    {
      "cell_type": "markdown",
      "metadata": {
        "id": "06067302"
      },
      "source": [
        "#### ¿En qué mes se tuvo la menor venta y cuál fue el importe facturado?"
      ],
      "id": "06067302"
    },
    {
      "cell_type": "code",
      "execution_count": 14,
      "metadata": {
        "id": "609e6b17",
        "colab": {
          "base_uri": "https://localhost:8080/"
        },
        "outputId": "6e748469-0e38-44dc-81b8-a9bbcb74e43c"
      },
      "outputs": [
        {
          "output_type": "stream",
          "name": "stdout",
          "text": [
            "mes con menor venta: 2015-10-31 00:00:00. Importe facturado: 64027.6\n"
          ]
        }
      ],
      "source": [
        "menor_venta = merge_orders_x_pizzas.resample('M')['profit'].sum().min()         # 64027.6\n",
        "v = merge_orders_x_pizzas.resample('M')['profit'].sum()\n",
        "for label, content in v.items():\n",
        "    if content == menor_venta:\n",
        "      print(f'mes con menor venta: {label}. Importe facturado: {content}')"
      ],
      "id": "609e6b17"
    },
    {
      "cell_type": "markdown",
      "metadata": {
        "id": "5a839aa1"
      },
      "source": [
        "#### ¿En qué mes  se tuvo la mayor venta y cuál fue el importe facturado?"
      ],
      "id": "5a839aa1"
    },
    {
      "cell_type": "code",
      "execution_count": 15,
      "metadata": {
        "id": "5118d10c",
        "colab": {
          "base_uri": "https://localhost:8080/"
        },
        "outputId": "ef5b6e80-1ac0-4d8f-a087-e1ed91d60aee"
      },
      "outputs": [
        {
          "output_type": "stream",
          "name": "stdout",
          "text": [
            "mes con mayor venta: 2015-07-31 00:00:00. Importe facturado: 72557.9\n"
          ]
        }
      ],
      "source": [
        "mayor_venta = merge_orders_x_pizzas.resample('M')['profit'].sum().max()        \n",
        "v = merge_orders_x_pizzas.resample('M')['profit'].sum()\n",
        "for label, content in v.items():\n",
        "    if content == mayor_venta:\n",
        "      print(f'mes con mayor venta: {label}. Importe facturado: {content}')"
      ],
      "id": "5118d10c"
    },
    {
      "cell_type": "markdown",
      "metadata": {
        "id": "32cd33cc"
      },
      "source": [
        "#### ¿Cuál es el promedio general de ventas por días de la semana?"
      ],
      "id": "32cd33cc"
    },
    {
      "cell_type": "code",
      "execution_count": 88,
      "metadata": {
        "id": "42108665",
        "colab": {
          "base_uri": "https://localhost:8080/"
        },
        "outputId": "2534310d-4f34-443a-8f53-5f29063961c2"
      },
      "outputs": [
        {
          "output_type": "execute_result",
          "data": {
            "text/plain": [
              "dia\n",
              "Friday       16.786812\n",
              "Monday       16.851868\n",
              "Saturday     16.748117\n",
              "Sunday       16.765844\n",
              "Thursday     16.868565\n",
              "Tuesday      16.901199\n",
              "Wednesday    16.832191\n",
              "Name: profit, dtype: float64"
            ]
          },
          "metadata": {},
          "execution_count": 88
        }
      ],
      "source": [
        "ventas_por_dia_promedio = merge_orders_x_pizzas.groupby(['dia'])['profit'].mean()                         # pendiente ordenar si se puede\n",
        "ventas_por_dia_promedio"
      ],
      "id": "42108665"
    },
    {
      "cell_type": "markdown",
      "metadata": {
        "id": "6e252e96"
      },
      "source": [
        "#### Haz un gráfico de tipo heatmap u otro que ayude a visualizar mejor la información"
      ],
      "id": "6e252e96"
    },
    {
      "cell_type": "code",
      "execution_count": 89,
      "metadata": {
        "id": "b78f5b3a",
        "colab": {
          "base_uri": "https://localhost:8080/",
          "height": 285
        },
        "outputId": "91b2c30f-2b1e-4e3d-a38f-6b02f16c09e3"
      },
      "outputs": [
        {
          "output_type": "execute_result",
          "data": {
            "text/plain": [
              "<matplotlib.axes._subplots.AxesSubplot at 0x7fa5205fe210>"
            ]
          },
          "metadata": {},
          "execution_count": 89
        },
        {
          "output_type": "display_data",
          "data": {
            "text/plain": [
              "<Figure size 432x288 with 2 Axes>"
            ],
            "image/png": "[encoded data removed]"
          },
          "metadata": {
            "needs_background": "light"
          }
        }
      ],
      "source": [
        "dias = ventas_por_dia_promedio.to_frame()\n",
        "sns.heatmap(dias)"
      ],
      "id": "b78f5b3a"
    },
    {
      "cell_type": "markdown",
      "metadata": {
        "id": "38bc822d"
      },
      "source": [
        "#### Analiza el comportamiento de ventas mensual (Suma,Promedio, Mediana,mínimo,máximo,desviación estandart) según la cantidad de pizzas vendidas"
      ],
      "id": "38bc822d"
    },
    {
      "cell_type": "code",
      "execution_count": 17,
      "metadata": {
        "id": "e410ac5f",
        "colab": {
          "base_uri": "https://localhost:8080/"
        },
        "outputId": "bc6645f7-f99f-4600-90fc-f785e9ee32af"
      },
      "outputs": [
        {
          "output_type": "execute_result",
          "data": {
            "text/plain": [
              "count       12.000000\n",
              "mean     68155.004167\n",
              "std       2965.868139\n",
              "min      64027.600000\n",
              "25%      65044.987500\n",
              "50%      68507.525000\n",
              "75%      70395.787500\n",
              "max      72557.900000\n",
              "Name: profit, dtype: float64"
            ]
          },
          "metadata": {},
          "execution_count": 17
        }
      ],
      "source": [
        "merge_orders_x_pizzas.resample('M')['profit'].sum().describe()              # dudoso"
      ],
      "id": "e410ac5f"
    },
    {
      "cell_type": "code",
      "source": [
        "ventas = merge_orders_x_pizzas.resample('M')['profit'].sum().describe()\n",
        "print(f'Mediana: {np.median(ventas)}')"
      ],
      "metadata": {
        "colab": {
          "base_uri": "https://localhost:8080/"
        },
        "id": "Q_j-XDRPxP-K",
        "outputId": "fad3ce3a-ddc6-4141-9e93-0f1825cb5f0d"
      },
      "id": "Q_j-XDRPxP-K",
      "execution_count": null,
      "outputs": [
        {
          "output_type": "stream",
          "name": "stdout",
          "text": [
            "Mediana: 66599.99583333333\n"
          ]
        }
      ]
    },
    {
      "cell_type": "markdown",
      "metadata": {
        "id": "1569b5ac"
      },
      "source": [
        "#### ¿Cuántas pizzas se vendieron en total?"
      ],
      "id": "1569b5ac"
    },
    {
      "cell_type": "code",
      "execution_count": 90,
      "metadata": {
        "id": "86c0196f",
        "colab": {
          "base_uri": "https://localhost:8080/"
        },
        "outputId": "7c4d6c62-9c2f-4e07-ac77-b6613baf38a4"
      },
      "outputs": [
        {
          "output_type": "execute_result",
          "data": {
            "text/plain": [
              "49574"
            ]
          },
          "metadata": {},
          "execution_count": 90
        }
      ],
      "source": [
        "merge_orders_x_pizzas['quantity'].sum()"
      ],
      "id": "86c0196f"
    },
    {
      "cell_type": "markdown",
      "metadata": {
        "id": "56c8c89d"
      },
      "source": [
        "####  ¿Cúal es el nombre de la pizza que más se vende?"
      ],
      "id": "56c8c89d"
    },
    {
      "cell_type": "code",
      "execution_count": 101,
      "metadata": {
        "id": "48b6a6fd",
        "colab": {
          "base_uri": "https://localhost:8080/"
        },
        "outputId": "34ebd241-9321-46a6-e624-a3c36c8bd224"
      },
      "outputs": [
        {
          "output_type": "stream",
          "name": "stdout",
          "text": [
            "La pizza más vendida es: ['classic_dlx']\n"
          ]
        }
      ],
      "source": [
        "mas_vendido = merge_orders_x_pizzas['pizza_type_id'].mode()     \n",
        "print(f'La pizza más vendida es: {mas_vendido.values}')         "
      ],
      "id": "48b6a6fd"
    },
    {
      "cell_type": "markdown",
      "metadata": {
        "id": "66436a2c"
      },
      "source": [
        "####  ¿Cúal es el nombre de la pizza que menos se vende?"
      ],
      "id": "66436a2c"
    },
    {
      "cell_type": "code",
      "source": [
        "pizza_menor_venta = merge_orders_x_pizzas.groupby(['pizza_type_id'])['pizza_type_id','quantity'].sum()\n",
        "pm = pizza_menor_venta.sort_values(by=['quantity']).head(1)#.to_frame()\n",
        "pm\n",
        "#print(f'El nombre de la pizza que menos se vende es: {pm}')                    # PENDIENTE\n"
      ],
      "metadata": {
        "colab": {
          "base_uri": "https://localhost:8080/",
          "height": 167
        },
        "id": "bXzwGnc8qkwk",
        "outputId": "bd95e794-abbd-4603-909a-d0e4f21bd550"
      },
      "id": "bXzwGnc8qkwk",
      "execution_count": 146,
      "outputs": [
        {
          "output_type": "stream",
          "name": "stderr",
          "text": [
            "/usr/local/lib/python3.7/dist-packages/ipykernel_launcher.py:1: FutureWarning: Indexing with multiple keys (implicitly converted to a tuple of keys) will be deprecated, use a list instead.\n",
            "  \"\"\"Entry point for launching an IPython kernel.\n"
          ]
        },
        {
          "output_type": "execute_result",
          "data": {
            "text/plain": [
              "               quantity\n",
              "pizza_type_id          \n",
              "brie_carre          490"
            ],
            "text/html": [
              "\n",
              "  <div id=\"df-f741852b-fac9-4f6c-b2a8-36e1b05dac19\">\n",
              "    <div class=\"colab-df-container\">\n",
              "      <div>\n",
              "<style scoped>\n",
              "    .dataframe tbody tr th:only-of-type {\n",
              "        vertical-align: middle;\n",
              "    }\n",
              "\n",
              "    .dataframe tbody tr th {\n",
              "        vertical-align: top;\n",
              "    }\n",
              "\n",
              "    .dataframe thead th {\n",
              "        text-align: right;\n",
              "    }\n",
              "</style>\n",
              "<table border=\"1\" class=\"dataframe\">\n",
              "  <thead>\n",
              "    <tr style=\"text-align: right;\">\n",
              "      <th></th>\n",
              "      <th>quantity</th>\n",
              "    </tr>\n",
              "    <tr>\n",
              "      <th>pizza_type_id</th>\n",
              "      <th></th>\n",
              "    </tr>\n",
              "  </thead>\n",
              "  <tbody>\n",
              "    <tr>\n",
              "      <th>brie_carre</th>\n",
              "      <td>490</td>\n",
              "    </tr>\n",
              "  </tbody>\n",
              "</table>\n",
              "</div>\n",
              "      <button class=\"colab-df-convert\" onclick=\"convertToInteractive('df-f741852b-fac9-4f6c-b2a8-36e1b05dac19')\"\n",
              "              title=\"Convert this dataframe to an interactive table.\"\n",
              "              style=\"display:none;\">\n",
              "        \n",
              "  <svg xmlns=\"http://www.w3.org/2000/svg\" height=\"24px\"viewBox=\"0 0 24 24\"\n",
              "       width=\"24px\">\n",
              "    <path d=\"M0 0h24v24H0V0z\" fill=\"none\"/>\n",
              "    <path d=\"M18.56 5.44l.94 2.06.94-2.06 2.06-.94-2.06-.94-.94-2.06-.94 2.06-2.06.94zm-11 1L8.5 8.5l.94-2.06 2.06-.94-2.06-.94L8.5 2.5l-.94 2.06-2.06.94zm10 10l.94 2.06.94-2.06 2.06-.94-2.06-.94-.94-2.06-.94 2.06-2.06.94z\"/><path d=\"M17.41 7.96l-1.37-1.37c-.4-.4-.92-.59-1.43-.59-.52 0-1.04.2-1.43.59L10.3 9.45l-7.72 7.72c-.78.78-.78 2.05 0 2.83L4 21.41c.39.39.9.59 1.41.59.51 0 1.02-.2 1.41-.59l7.78-7.78 2.81-2.81c.8-.78.8-2.07 0-2.86zM5.41 20L4 18.59l7.72-7.72 1.47 1.35L5.41 20z\"/>\n",
              "  </svg>\n",
              "      </button>\n",
              "      \n",
              "  <style>\n",
              "    .colab-df-container {\n",
              "      display:flex;\n",
              "      flex-wrap:wrap;\n",
              "      gap: 12px;\n",
              "    }\n",
              "\n",
              "    .colab-df-convert {\n",
              "      background-color: #E8F0FE;\n",
              "      border: none;\n",
              "      border-radius: 50%;\n",
              "      cursor: pointer;\n",
              "      display: none;\n",
              "      fill: #1967D2;\n",
              "      height: 32px;\n",
              "      padding: 0 0 0 0;\n",
              "      width: 32px;\n",
              "    }\n",
              "\n",
              "    .colab-df-convert:hover {\n",
              "      background-color: #E2EBFA;\n",
              "      box-shadow: 0px 1px 2px rgba(60, 64, 67, 0.3), 0px 1px 3px 1px rgba(60, 64, 67, 0.15);\n",
              "      fill: #174EA6;\n",
              "    }\n",
              "\n",
              "    [theme=dark] .colab-df-convert {\n",
              "      background-color: #3B4455;\n",
              "      fill: #D2E3FC;\n",
              "    }\n",
              "\n",
              "    [theme=dark] .colab-df-convert:hover {\n",
              "      background-color: #434B5C;\n",
              "      box-shadow: 0px 1px 3px 1px rgba(0, 0, 0, 0.15);\n",
              "      filter: drop-shadow(0px 1px 2px rgba(0, 0, 0, 0.3));\n",
              "      fill: #FFFFFF;\n",
              "    }\n",
              "  </style>\n",
              "\n",
              "      <script>\n",
              "        const buttonEl =\n",
              "          document.querySelector('#df-f741852b-fac9-4f6c-b2a8-36e1b05dac19 button.colab-df-convert');\n",
              "        buttonEl.style.display =\n",
              "          google.colab.kernel.accessAllowed ? 'block' : 'none';\n",
              "\n",
              "        async function convertToInteractive(key) {\n",
              "          const element = document.querySelector('#df-f741852b-fac9-4f6c-b2a8-36e1b05dac19');\n",
              "          const dataTable =\n",
              "            await google.colab.kernel.invokeFunction('convertToInteractive',\n",
              "                                                     [key], {});\n",
              "          if (!dataTable) return;\n",
              "\n",
              "          const docLinkHtml = 'Like what you see? Visit the ' +\n",
              "            '<a target=\"_blank\" href=https://colab.research.google.com/notebooks/data_table.ipynb>data table notebook</a>'\n",
              "            + ' to learn more about interactive tables.';\n",
              "          element.innerHTML = '';\n",
              "          dataTable['output_type'] = 'display_data';\n",
              "          await google.colab.output.renderOutput(dataTable, element);\n",
              "          const docLink = document.createElement('div');\n",
              "          docLink.innerHTML = docLinkHtml;\n",
              "          element.appendChild(docLink);\n",
              "        }\n",
              "      </script>\n",
              "    </div>\n",
              "  </div>\n",
              "  "
            ]
          },
          "metadata": {},
          "execution_count": 146
        }
      ]
    },
    {
      "cell_type": "markdown",
      "metadata": {
        "id": "2f1ec972"
      },
      "source": [
        "#### ¿Cuál es el top 10 de sabores de pizzas más vendidas?"
      ],
      "id": "2f1ec972"
    },
    {
      "cell_type": "code",
      "execution_count": 148,
      "metadata": {
        "id": "57cc9ece",
        "colab": {
          "base_uri": "https://localhost:8080/",
          "height": 449
        },
        "outputId": "e6b45fca-19c6-46aa-ab44-9bc94686a3f1"
      },
      "outputs": [
        {
          "output_type": "stream",
          "name": "stderr",
          "text": [
            "/usr/local/lib/python3.7/dist-packages/ipykernel_launcher.py:1: FutureWarning: Indexing with multiple keys (implicitly converted to a tuple of keys) will be deprecated, use a list instead.\n",
            "  \"\"\"Entry point for launching an IPython kernel.\n"
          ]
        },
        {
          "output_type": "execute_result",
          "data": {
            "text/plain": [
              "               quantity\n",
              "pizza_type_id          \n",
              "classic_dlx        2453\n",
              "bbq_ckn            2432\n",
              "hawaiian           2422\n",
              "pepperoni          2418\n",
              "thai_ckn           2371\n",
              "cali_ckn           2370\n",
              "sicilian           1938\n",
              "spicy_ital         1924\n",
              "southw_ckn         1917\n",
              "big_meat           1914"
            ],
            "text/html": [
              "\n",
              "  <div id=\"df-0d39dcb8-2502-4683-a56e-c0bf842c2a8a\">\n",
              "    <div class=\"colab-df-container\">\n",
              "      <div>\n",
              "<style scoped>\n",
              "    .dataframe tbody tr th:only-of-type {\n",
              "        vertical-align: middle;\n",
              "    }\n",
              "\n",
              "    .dataframe tbody tr th {\n",
              "        vertical-align: top;\n",
              "    }\n",
              "\n",
              "    .dataframe thead th {\n",
              "        text-align: right;\n",
              "    }\n",
              "</style>\n",
              "<table border=\"1\" class=\"dataframe\">\n",
              "  <thead>\n",
              "    <tr style=\"text-align: right;\">\n",
              "      <th></th>\n",
              "      <th>quantity</th>\n",
              "    </tr>\n",
              "    <tr>\n",
              "      <th>pizza_type_id</th>\n",
              "      <th></th>\n",
              "    </tr>\n",
              "  </thead>\n",
              "  <tbody>\n",
              "    <tr>\n",
              "      <th>classic_dlx</th>\n",
              "      <td>2453</td>\n",
              "    </tr>\n",
              "    <tr>\n",
              "      <th>bbq_ckn</th>\n",
              "      <td>2432</td>\n",
              "    </tr>\n",
              "    <tr>\n",
              "      <th>hawaiian</th>\n",
              "      <td>2422</td>\n",
              "    </tr>\n",
              "    <tr>\n",
              "      <th>pepperoni</th>\n",
              "      <td>2418</td>\n",
              "    </tr>\n",
              "    <tr>\n",
              "      <th>thai_ckn</th>\n",
              "      <td>2371</td>\n",
              "    </tr>\n",
              "    <tr>\n",
              "      <th>cali_ckn</th>\n",
              "      <td>2370</td>\n",
              "    </tr>\n",
              "    <tr>\n",
              "      <th>sicilian</th>\n",
              "      <td>1938</td>\n",
              "    </tr>\n",
              "    <tr>\n",
              "      <th>spicy_ital</th>\n",
              "      <td>1924</td>\n",
              "    </tr>\n",
              "    <tr>\n",
              "      <th>southw_ckn</th>\n",
              "      <td>1917</td>\n",
              "    </tr>\n",
              "    <tr>\n",
              "      <th>big_meat</th>\n",
              "      <td>1914</td>\n",
              "    </tr>\n",
              "  </tbody>\n",
              "</table>\n",
              "</div>\n",
              "      <button class=\"colab-df-convert\" onclick=\"convertToInteractive('df-0d39dcb8-2502-4683-a56e-c0bf842c2a8a')\"\n",
              "              title=\"Convert this dataframe to an interactive table.\"\n",
              "              style=\"display:none;\">\n",
              "        \n",
              "  <svg xmlns=\"http://www.w3.org/2000/svg\" height=\"24px\"viewBox=\"0 0 24 24\"\n",
              "       width=\"24px\">\n",
              "    <path d=\"M0 0h24v24H0V0z\" fill=\"none\"/>\n",
              "    <path d=\"M18.56 5.44l.94 2.06.94-2.06 2.06-.94-2.06-.94-.94-2.06-.94 2.06-2.06.94zm-11 1L8.5 8.5l.94-2.06 2.06-.94-2.06-.94L8.5 2.5l-.94 2.06-2.06.94zm10 10l.94 2.06.94-2.06 2.06-.94-2.06-.94-.94-2.06-.94 2.06-2.06.94z\"/><path d=\"M17.41 7.96l-1.37-1.37c-.4-.4-.92-.59-1.43-.59-.52 0-1.04.2-1.43.59L10.3 9.45l-7.72 7.72c-.78.78-.78 2.05 0 2.83L4 21.41c.39.39.9.59 1.41.59.51 0 1.02-.2 1.41-.59l7.78-7.78 2.81-2.81c.8-.78.8-2.07 0-2.86zM5.41 20L4 18.59l7.72-7.72 1.47 1.35L5.41 20z\"/>\n",
              "  </svg>\n",
              "      </button>\n",
              "      \n",
              "  <style>\n",
              "    .colab-df-container {\n",
              "      display:flex;\n",
              "      flex-wrap:wrap;\n",
              "      gap: 12px;\n",
              "    }\n",
              "\n",
              "    .colab-df-convert {\n",
              "      background-color: #E8F0FE;\n",
              "      border: none;\n",
              "      border-radius: 50%;\n",
              "      cursor: pointer;\n",
              "      display: none;\n",
              "      fill: #1967D2;\n",
              "      height: 32px;\n",
              "      padding: 0 0 0 0;\n",
              "      width: 32px;\n",
              "    }\n",
              "\n",
              "    .colab-df-convert:hover {\n",
              "      background-color: #E2EBFA;\n",
              "      box-shadow: 0px 1px 2px rgba(60, 64, 67, 0.3), 0px 1px 3px 1px rgba(60, 64, 67, 0.15);\n",
              "      fill: #174EA6;\n",
              "    }\n",
              "\n",
              "    [theme=dark] .colab-df-convert {\n",
              "      background-color: #3B4455;\n",
              "      fill: #D2E3FC;\n",
              "    }\n",
              "\n",
              "    [theme=dark] .colab-df-convert:hover {\n",
              "      background-color: #434B5C;\n",
              "      box-shadow: 0px 1px 3px 1px rgba(0, 0, 0, 0.15);\n",
              "      filter: drop-shadow(0px 1px 2px rgba(0, 0, 0, 0.3));\n",
              "      fill: #FFFFFF;\n",
              "    }\n",
              "  </style>\n",
              "\n",
              "      <script>\n",
              "        const buttonEl =\n",
              "          document.querySelector('#df-0d39dcb8-2502-4683-a56e-c0bf842c2a8a button.colab-df-convert');\n",
              "        buttonEl.style.display =\n",
              "          google.colab.kernel.accessAllowed ? 'block' : 'none';\n",
              "\n",
              "        async function convertToInteractive(key) {\n",
              "          const element = document.querySelector('#df-0d39dcb8-2502-4683-a56e-c0bf842c2a8a');\n",
              "          const dataTable =\n",
              "            await google.colab.kernel.invokeFunction('convertToInteractive',\n",
              "                                                     [key], {});\n",
              "          if (!dataTable) return;\n",
              "\n",
              "          const docLinkHtml = 'Like what you see? Visit the ' +\n",
              "            '<a target=\"_blank\" href=https://colab.research.google.com/notebooks/data_table.ipynb>data table notebook</a>'\n",
              "            + ' to learn more about interactive tables.';\n",
              "          element.innerHTML = '';\n",
              "          dataTable['output_type'] = 'display_data';\n",
              "          await google.colab.output.renderOutput(dataTable, element);\n",
              "          const docLink = document.createElement('div');\n",
              "          docLink.innerHTML = docLinkHtml;\n",
              "          element.appendChild(docLink);\n",
              "        }\n",
              "      </script>\n",
              "    </div>\n",
              "  </div>\n",
              "  "
            ]
          },
          "metadata": {},
          "execution_count": 148
        }
      ],
      "source": [
        "pizza = merge_orders_x_pizzas.groupby(['pizza_type_id'])['pizza_type_id','quantity'].sum()\n",
        "pizza.sort_values(by=['quantity'],ascending=False).head(10)"
      ],
      "id": "57cc9ece"
    },
    {
      "cell_type": "markdown",
      "metadata": {
        "id": "d10aafa5"
      },
      "source": [
        "#### ¿Cómo son las ventas totales por tamaño de pizzas?"
      ],
      "id": "d10aafa5"
    },
    {
      "cell_type": "code",
      "execution_count": 152,
      "metadata": {
        "id": "69f56681",
        "colab": {
          "base_uri": "https://localhost:8080/",
          "height": 292
        },
        "outputId": "237032d9-7afa-41e6-a702-8f848e8b44f8"
      },
      "outputs": [
        {
          "output_type": "stream",
          "name": "stderr",
          "text": [
            "/usr/local/lib/python3.7/dist-packages/ipykernel_launcher.py:1: FutureWarning: Indexing with multiple keys (implicitly converted to a tuple of keys) will be deprecated, use a list instead.\n",
            "  \"\"\"Entry point for launching an IPython kernel.\n"
          ]
        },
        {
          "output_type": "execute_result",
          "data": {
            "text/plain": [
              "         profit\n",
              "size           \n",
              "L     375318.70\n",
              "M     249382.25\n",
              "S     178076.50\n",
              "XL     14076.00\n",
              "XXL     1006.60"
            ],
            "text/html": [
              "\n",
              "  <div id=\"df-f4040692-5974-4651-9e39-8e57dad7a23b\">\n",
              "    <div class=\"colab-df-container\">\n",
              "      <div>\n",
              "<style scoped>\n",
              "    .dataframe tbody tr th:only-of-type {\n",
              "        vertical-align: middle;\n",
              "    }\n",
              "\n",
              "    .dataframe tbody tr th {\n",
              "        vertical-align: top;\n",
              "    }\n",
              "\n",
              "    .dataframe thead th {\n",
              "        text-align: right;\n",
              "    }\n",
              "</style>\n",
              "<table border=\"1\" class=\"dataframe\">\n",
              "  <thead>\n",
              "    <tr style=\"text-align: right;\">\n",
              "      <th></th>\n",
              "      <th>profit</th>\n",
              "    </tr>\n",
              "    <tr>\n",
              "      <th>size</th>\n",
              "      <th></th>\n",
              "    </tr>\n",
              "  </thead>\n",
              "  <tbody>\n",
              "    <tr>\n",
              "      <th>L</th>\n",
              "      <td>375318.70</td>\n",
              "    </tr>\n",
              "    <tr>\n",
              "      <th>M</th>\n",
              "      <td>249382.25</td>\n",
              "    </tr>\n",
              "    <tr>\n",
              "      <th>S</th>\n",
              "      <td>178076.50</td>\n",
              "    </tr>\n",
              "    <tr>\n",
              "      <th>XL</th>\n",
              "      <td>14076.00</td>\n",
              "    </tr>\n",
              "    <tr>\n",
              "      <th>XXL</th>\n",
              "      <td>1006.60</td>\n",
              "    </tr>\n",
              "  </tbody>\n",
              "</table>\n",
              "</div>\n",
              "      <button class=\"colab-df-convert\" onclick=\"convertToInteractive('df-f4040692-5974-4651-9e39-8e57dad7a23b')\"\n",
              "              title=\"Convert this dataframe to an interactive table.\"\n",
              "              style=\"display:none;\">\n",
              "        \n",
              "  <svg xmlns=\"http://www.w3.org/2000/svg\" height=\"24px\"viewBox=\"0 0 24 24\"\n",
              "       width=\"24px\">\n",
              "    <path d=\"M0 0h24v24H0V0z\" fill=\"none\"/>\n",
              "    <path d=\"M18.56 5.44l.94 2.06.94-2.06 2.06-.94-2.06-.94-.94-2.06-.94 2.06-2.06.94zm-11 1L8.5 8.5l.94-2.06 2.06-.94-2.06-.94L8.5 2.5l-.94 2.06-2.06.94zm10 10l.94 2.06.94-2.06 2.06-.94-2.06-.94-.94-2.06-.94 2.06-2.06.94z\"/><path d=\"M17.41 7.96l-1.37-1.37c-.4-.4-.92-.59-1.43-.59-.52 0-1.04.2-1.43.59L10.3 9.45l-7.72 7.72c-.78.78-.78 2.05 0 2.83L4 21.41c.39.39.9.59 1.41.59.51 0 1.02-.2 1.41-.59l7.78-7.78 2.81-2.81c.8-.78.8-2.07 0-2.86zM5.41 20L4 18.59l7.72-7.72 1.47 1.35L5.41 20z\"/>\n",
              "  </svg>\n",
              "      </button>\n",
              "      \n",
              "  <style>\n",
              "    .colab-df-container {\n",
              "      display:flex;\n",
              "      flex-wrap:wrap;\n",
              "      gap: 12px;\n",
              "    }\n",
              "\n",
              "    .colab-df-convert {\n",
              "      background-color: #E8F0FE;\n",
              "      border: none;\n",
              "      border-radius: 50%;\n",
              "      cursor: pointer;\n",
              "      display: none;\n",
              "      fill: #1967D2;\n",
              "      height: 32px;\n",
              "      padding: 0 0 0 0;\n",
              "      width: 32px;\n",
              "    }\n",
              "\n",
              "    .colab-df-convert:hover {\n",
              "      background-color: #E2EBFA;\n",
              "      box-shadow: 0px 1px 2px rgba(60, 64, 67, 0.3), 0px 1px 3px 1px rgba(60, 64, 67, 0.15);\n",
              "      fill: #174EA6;\n",
              "    }\n",
              "\n",
              "    [theme=dark] .colab-df-convert {\n",
              "      background-color: #3B4455;\n",
              "      fill: #D2E3FC;\n",
              "    }\n",
              "\n",
              "    [theme=dark] .colab-df-convert:hover {\n",
              "      background-color: #434B5C;\n",
              "      box-shadow: 0px 1px 3px 1px rgba(0, 0, 0, 0.15);\n",
              "      filter: drop-shadow(0px 1px 2px rgba(0, 0, 0, 0.3));\n",
              "      fill: #FFFFFF;\n",
              "    }\n",
              "  </style>\n",
              "\n",
              "      <script>\n",
              "        const buttonEl =\n",
              "          document.querySelector('#df-f4040692-5974-4651-9e39-8e57dad7a23b button.colab-df-convert');\n",
              "        buttonEl.style.display =\n",
              "          google.colab.kernel.accessAllowed ? 'block' : 'none';\n",
              "\n",
              "        async function convertToInteractive(key) {\n",
              "          const element = document.querySelector('#df-f4040692-5974-4651-9e39-8e57dad7a23b');\n",
              "          const dataTable =\n",
              "            await google.colab.kernel.invokeFunction('convertToInteractive',\n",
              "                                                     [key], {});\n",
              "          if (!dataTable) return;\n",
              "\n",
              "          const docLinkHtml = 'Like what you see? Visit the ' +\n",
              "            '<a target=\"_blank\" href=https://colab.research.google.com/notebooks/data_table.ipynb>data table notebook</a>'\n",
              "            + ' to learn more about interactive tables.';\n",
              "          element.innerHTML = '';\n",
              "          dataTable['output_type'] = 'display_data';\n",
              "          await google.colab.output.renderOutput(dataTable, element);\n",
              "          const docLink = document.createElement('div');\n",
              "          docLink.innerHTML = docLinkHtml;\n",
              "          element.appendChild(docLink);\n",
              "        }\n",
              "      </script>\n",
              "    </div>\n",
              "  </div>\n",
              "  "
            ]
          },
          "metadata": {},
          "execution_count": 152
        }
      ],
      "source": [
        "merge_orders_x_pizzas.groupby(['size'])['size', 'profit'].sum()"
      ],
      "id": "69f56681"
    },
    {
      "cell_type": "markdown",
      "metadata": {
        "id": "a4efb806"
      },
      "source": [
        "####  ¿Cuántas pizzas según el nombre y tamaño se vendieron?"
      ],
      "id": "a4efb806"
    },
    {
      "cell_type": "code",
      "execution_count": 163,
      "metadata": {
        "id": "e8277bad",
        "colab": {
          "base_uri": "https://localhost:8080/"
        },
        "outputId": "f9e84b7d-74b0-4813-8465-c9c2cf8b68d8"
      },
      "outputs": [
        {
          "output_type": "execute_result",
          "data": {
            "text/plain": [
              "pizza_type_id  size\n",
              "bbq_ckn        L        967\n",
              "               M        926\n",
              "               S        479\n",
              "big_meat       S       1811\n",
              "brie_carre     S        480\n",
              "                       ... \n",
              "the_greek      XL       544\n",
              "               XXL       28\n",
              "veggie_veg     L        423\n",
              "               M        630\n",
              "               S        457\n",
              "Name: quantity, Length: 91, dtype: int64"
            ]
          },
          "metadata": {},
          "execution_count": 163
        }
      ],
      "source": [
        "merge_orders_x_pizzas.groupby(['pizza_type_id', 'size'])['quantity'].count()"
      ],
      "id": "e8277bad"
    },
    {
      "cell_type": "markdown",
      "metadata": {
        "id": "a55ab3c5"
      },
      "source": [
        "#### Haz un gráfico que permita visualizar la ventas por tamaño de pizzas"
      ],
      "id": "a55ab3c5"
    },
    {
      "cell_type": "code",
      "execution_count": 180,
      "metadata": {
        "id": "3abe91a9",
        "colab": {
          "base_uri": "https://localhost:8080/",
          "height": 282
        },
        "outputId": "37ab5e52-2c6c-4ad9-a130-c128e5f861b0"
      },
      "outputs": [
        {
          "output_type": "execute_result",
          "data": {
            "text/plain": [
              "<matplotlib.axes._subplots.AxesSubplot at 0x7fa512790890>"
            ]
          },
          "metadata": {},
          "execution_count": 180
        },
        {
          "output_type": "display_data",
          "data": {
            "text/plain": [
              "<Figure size 432x288 with 1 Axes>"
            ],
            "image/png": "[encoded data removed]"
          },
          "metadata": {
            "needs_background": "light"
          }
        }
      ],
      "source": [
        "ventas_por_tamano = merge_orders_x_pizzas.groupby(['size'])['quantity'].count().to_frame()\n",
        "ventas_por_tamano.plot.barh()"
      ],
      "id": "3abe91a9"
    }
  ],
  "metadata": {
    "colab": {
      "provenance": [],
      "include_colab_link": true
    },
    "kernelspec": {
      "display_name": "Python 3 (ipykernel)",
      "language": "python",
      "name": "python3"
    },
    "language_info": {
      "codemirror_mode": {
        "name": "ipython",
        "version": 3
      },
      "file_extension": ".py",
      "mimetype": "text/x-python",
      "name": "python",
      "nbconvert_exporter": "python",
      "pygments_lexer": "ipython3",
      "version": "3.9.7"
    }
  },
  "nbformat": 4,
  "nbformat_minor": 5
}