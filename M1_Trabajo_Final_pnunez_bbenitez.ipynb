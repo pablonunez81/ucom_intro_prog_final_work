{
  "cells": [
    {
      "cell_type": "markdown",
      "metadata": {
        "id": "view-in-github",
        "colab_type": "text"
      },
      "source": [
        "<a href=\"https://colab.research.google.com/github/pablonunez81/ucom_intro_prog_final_work/blob/main/M1_Trabajo_Final_pnunez_bbenitez.ipynb\" target=\"_parent\"><img src=\"https://colab.research.google.com/assets/colab-badge.svg\" alt=\"Open In Colab\"/></a>"
      ]
    },
    {
      "cell_type": "markdown",
      "id": "58da0e8e",
      "metadata": {
        "id": "58da0e8e"
      },
      "source": [
        "#  Trabajo Final - M1 Introducción a la programación para Ciencia de datos"
      ]
    },
    {
      "cell_type": "markdown",
      "source": [
        "#INTEGRANTES DEL GRUPO (Completar aquí)\n",
        "\n",
        "1. 2.876.596, Pablo Núñez\n",
        "2. NRO DOCUMENTO IDENTIDAD, APELLIDO Y NOMBRE"
      ],
      "metadata": {
        "id": "fpLvonBMKn7U"
      },
      "id": "fpLvonBMKn7U"
    },
    {
      "cell_type": "markdown",
      "id": "3d01f576",
      "metadata": {
        "id": "3d01f576"
      },
      "source": [
        "###  Contexto"
      ]
    },
    {
      "cell_type": "markdown",
      "id": "11d56c8a",
      "metadata": {
        "id": "11d56c8a"
      },
      "source": [
        "Una empresa que vende Pizzas te ha contratado para que puedas ayudarlos a mejorar sus estrategias de negocios basándose en los datos. Para el efecto te han compartido los siguientes conjuntos de datos:\n",
        "1.\t**Orders**: contiene la fecha y la hora en que se realizaron todos los pedidos de la mesa.\n",
        "2.\t**Order_detail**: contiene las diferentes pizzas servidas con cada pedido en la tabla **Orders** y sus cantidades.\n",
        "3.\t**Pizzas**: contiene el tamaño y el precio de cada pizza distinta en la tabla **Order_detail**, así como su tipo de pizza más amplio.\n",
        "4.\t**Pizza_types**: contiene detalles sobre los tipos de pizza en la tabla **Pizzas**, incluido su nombre tal como aparece en el menú, la categoría a la que pertenece y su lista de ingredientes.\n",
        "\n",
        "Tu misión como analista de datos será realizar el análisis exploratorio de datos \"EDA“, por sus siglas en inglés, para analizar la información, buscar patrones en los datos y poder responder a las diferentes preguntas de negocio que interesan a la empresa.\n",
        "\n",
        "Los pasos requeridos para el análisis se encuentran detallados en el archivo:  **M1 Trabajo Final.ipynb**\n",
        "\n",
        "El trabajo consiste en desarrollar las celdas de código en **M1 Trabajo Final.ipynb** y presentar el archivo final resultante en el formato “.iypynb”\n"
      ]
    },
    {
      "cell_type": "markdown",
      "id": "2e03cd50",
      "metadata": {
        "id": "2e03cd50"
      },
      "source": [
        "###  Importación de las librerías"
      ]
    },
    {
      "cell_type": "markdown",
      "id": "a1084287",
      "metadata": {
        "id": "a1084287"
      },
      "source": [
        "Importa todas las librerias que consideres necesarias"
      ]
    },
    {
      "cell_type": "code",
      "execution_count": 1,
      "id": "2e2d7299",
      "metadata": {
        "id": "2e2d7299",
        "colab": {
          "base_uri": "https://localhost:8080/"
        },
        "outputId": "03197ddc-d853-45d4-f503-a77e8a1a88a8"
      },
      "outputs": [
        {
          "output_type": "stream",
          "name": "stdout",
          "text": [
            "Mounted at /content/drive\n"
          ]
        }
      ],
      "source": [
        "import pandas as pd\n",
        "import numpy as np\n",
        "import matplotlib.pyplot as plt\n",
        "\n",
        "from google.colab import drive\n",
        "drive.mount('/content/drive')\n",
        "ruta = \"/content/drive/MyDrive/ucom_trabajo_final/dataset/\""
      ]
    },
    {
      "cell_type": "markdown",
      "id": "67371ed7",
      "metadata": {
        "id": "67371ed7"
      },
      "source": [
        "###  Lectura de archivos"
      ]
    },
    {
      "cell_type": "code",
      "execution_count": 2,
      "id": "7dcdec47",
      "metadata": {
        "id": "7dcdec47",
        "colab": {
          "base_uri": "https://localhost:8080/"
        },
        "outputId": "6d13a3b0-3167-427a-f15f-35cc81c1364b"
      },
      "outputs": [
        {
          "output_type": "stream",
          "name": "stdout",
          "text": [
            "       order_id        date      time\n",
            "0             1  2015-01-01  11:38:36\n",
            "1             2  2015-01-01  11:57:40\n",
            "2             3  2015-01-01  12:12:28\n",
            "3             4  2015-01-01  12:16:31\n",
            "4             5  2015-01-01  12:21:30\n",
            "...         ...         ...       ...\n",
            "21345     21346  2015-12-31  20:51:07\n",
            "21346     21347  2015-12-31  21:14:37\n",
            "21347     21348  2015-12-31  21:23:10\n",
            "21348     21349  2015-12-31  22:09:54\n",
            "21349     21350  2015-12-31  23:02:05\n",
            "\n",
            "[21350 rows x 3 columns]\n",
            "       order_details_id  order_id       pizza_id  quantity\n",
            "0                     1         1     hawaiian_m         1\n",
            "1                     2         2  classic_dlx_m         1\n",
            "2                     3         2  five_cheese_l         1\n",
            "3                     4         2    ital_supr_l         1\n",
            "4                     5         2     mexicana_m         1\n",
            "...                 ...       ...            ...       ...\n",
            "48615             48616     21348  ckn_alfredo_m         1\n",
            "48616             48617     21348  four_cheese_l         1\n",
            "48617             48618     21348   napolitana_s         1\n",
            "48618             48619     21349     mexicana_l         1\n",
            "48619             48620     21350      bbq_ckn_s         1\n",
            "\n",
            "[48620 rows x 4 columns]\n",
            "   pizza_type_id                                        name category  \\\n",
            "0        bbq_ckn                  The Barbecue Chicken Pizza  Chicken   \n",
            "1       cali_ckn                The California Chicken Pizza  Chicken   \n",
            "2    ckn_alfredo                   The Chicken Alfredo Pizza  Chicken   \n",
            "3      ckn_pesto                     The Chicken Pesto Pizza  Chicken   \n",
            "4     southw_ckn                 The Southwest Chicken Pizza  Chicken   \n",
            "5       thai_ckn                      The Thai Chicken Pizza  Chicken   \n",
            "6       big_meat                          The Big Meat Pizza  Classic   \n",
            "7    classic_dlx                    The Classic Deluxe Pizza  Classic   \n",
            "8       hawaiian                          The Hawaiian Pizza  Classic   \n",
            "9    ital_cpcllo                 The Italian Capocollo Pizza  Classic   \n",
            "10    napolitana                        The Napolitana Pizza  Classic   \n",
            "11   pep_msh_pep  The Pepperoni, Mushroom, and Peppers Pizza  Classic   \n",
            "12     pepperoni                         The Pepperoni Pizza  Classic   \n",
            "13     the_greek                             The Greek Pizza  Classic   \n",
            "14    brie_carre                        The Brie Carre Pizza  Supreme   \n",
            "15     calabrese                         The Calabrese Pizza  Supreme   \n",
            "16     ital_supr                   The Italian Supreme Pizza  Supreme   \n",
            "17  peppr_salami                     The Pepper Salami Pizza  Supreme   \n",
            "18    prsc_argla            The Prosciutto and Arugula Pizza  Supreme   \n",
            "19      sicilian                          The Sicilian Pizza  Supreme   \n",
            "20   soppressata                       The Soppressata Pizza  Supreme   \n",
            "21    spicy_ital                     The Spicy Italian Pizza  Supreme   \n",
            "22  spinach_supr                   The Spinach Supreme Pizza  Supreme   \n",
            "23   five_cheese                       The Five Cheese Pizza   Veggie   \n",
            "24   four_cheese                       The Four Cheese Pizza   Veggie   \n",
            "25  green_garden                      The Green Garden Pizza   Veggie   \n",
            "26   ital_veggie                The Italian Vegetables Pizza   Veggie   \n",
            "27  mediterraneo                     The Mediterranean Pizza   Veggie   \n",
            "28      mexicana                          The Mexicana Pizza   Veggie   \n",
            "29    spin_pesto                     The Spinach Pesto Pizza   Veggie   \n",
            "30   spinach_fet                  The Spinach and Feta Pizza   Veggie   \n",
            "31    veggie_veg           The Vegetables + Vegetables Pizza   Veggie   \n",
            "\n",
            "                                          ingredients  \n",
            "0   Barbecued Chicken, Red Peppers, Green Peppers,...  \n",
            "1   Chicken, Artichoke, Spinach, Garlic, Jalapeno ...  \n",
            "2   Chicken, Red Onions, Red Peppers, Mushrooms, A...  \n",
            "3   Chicken, Tomatoes, Red Peppers, Spinach, Garli...  \n",
            "4   Chicken, Tomatoes, Red Peppers, Red Onions, Ja...  \n",
            "5   Chicken, Pineapple, Tomatoes, Red Peppers, Tha...  \n",
            "6   Bacon, Pepperoni, Italian Sausage, Chorizo Sau...  \n",
            "7   Pepperoni, Mushrooms, Red Onions, Red Peppers,...  \n",
            "8            Sliced Ham, Pineapple, Mozzarella Cheese  \n",
            "9   Capocollo, Red Peppers, Tomatoes, Goat Cheese,...  \n",
            "10  Tomatoes, Anchovies, Green Olives, Red Onions,...  \n",
            "11                Pepperoni, Mushrooms, Green Peppers  \n",
            "12                       Mozzarella Cheese, Pepperoni  \n",
            "13  Kalamata Olives, Feta Cheese, Tomatoes, Garlic...  \n",
            "14  Brie Carre Cheese, Prosciutto, Caramelized Oni...  \n",
            "15  Nduja Salami, Pancetta, Tomatoes, Red Onions,...  \n",
            "16  Calabrese Salami, Capocollo, Tomatoes, Red Oni...  \n",
            "17  Genoa Salami, Capocollo, Pepperoni, Tomatoes, ...  \n",
            "18  Prosciutto di San Daniele, Arugula, Mozzarella...  \n",
            "19  Coarse Sicilian Salami, Tomatoes, Green Olives...  \n",
            "20  Soppressata Salami, Fontina Cheese, Mozzarella...  \n",
            "21  Capocollo, Tomatoes, Goat Cheese, Artichokes, ...  \n",
            "22  Spinach, Red Onions, Pepperoni, Tomatoes, Arti...  \n",
            "23  Mozzarella Cheese, Provolone Cheese, Smoked Go...  \n",
            "24  Ricotta Cheese, Gorgonzola Piccante Cheese, Mo...  \n",
            "25  Spinach, Mushrooms, Tomatoes, Green Olives, Fe...  \n",
            "26  Eggplant, Artichokes, Tomatoes, Zucchini, Red ...  \n",
            "27  Spinach, Artichokes, Kalamata Olives, Sun-drie...  \n",
            "28  Tomatoes, Red Peppers, Jalapeno Peppers, Red O...  \n",
            "29  Spinach, Artichokes, Tomatoes, Sun-dried Tomat...  \n",
            "30  Spinach, Mushrooms, Red Onions, Feta Cheese, G...  \n",
            "31  Mushrooms, Tomatoes, Red Peppers, Green Pepper...  \n",
            "         pizza_id pizza_type_id size  price\n",
            "0       bbq_ckn_s       bbq_ckn    S  12.75\n",
            "1       bbq_ckn_m       bbq_ckn    M  16.75\n",
            "2       bbq_ckn_l       bbq_ckn    L  20.75\n",
            "3      cali_ckn_s      cali_ckn    S  12.75\n",
            "4      cali_ckn_m      cali_ckn    M  16.75\n",
            "..            ...           ...  ...    ...\n",
            "91  spinach_fet_m   spinach_fet    M  16.00\n",
            "92  spinach_fet_l   spinach_fet    L  20.25\n",
            "93   veggie_veg_s    veggie_veg    S  12.00\n",
            "94   veggie_veg_m    veggie_veg    M  16.00\n",
            "95   veggie_veg_l    veggie_veg    L  20.25\n",
            "\n",
            "[96 rows x 4 columns]\n"
          ]
        }
      ],
      "source": [
        "df_orders = pd.read_csv(ruta+'orders.csv')\n",
        "df_order_details = pd.read_csv(ruta+'order_details.csv')\n",
        "df_pizza_types = pd.read_csv(ruta+'pizza_types.csv', header=0, encoding='unicode_escape')\n",
        "df_pizzas = pd.read_csv(ruta+'pizzas.csv')\n",
        "print(df_orders)\n",
        "print(df_order_details)\n",
        "print(df_pizza_types)\n",
        "print(df_pizzas)"
      ]
    },
    {
      "cell_type": "markdown",
      "id": "ca15ef43",
      "metadata": {
        "id": "ca15ef43"
      },
      "source": [
        "####  Lee el archivo Orders"
      ]
    },
    {
      "cell_type": "markdown",
      "id": "f34f8303",
      "metadata": {
        "id": "f34f8303"
      },
      "source": [
        "#### Verifica que el archivo haya sido cargado correctamente"
      ]
    },
    {
      "cell_type": "code",
      "execution_count": null,
      "id": "fa652f98",
      "metadata": {
        "id": "fa652f98"
      },
      "outputs": [],
      "source": []
    },
    {
      "cell_type": "markdown",
      "id": "1d01da1c",
      "metadata": {
        "id": "1d01da1c"
      },
      "source": [
        "####  ¿Cuántos registros tiene el conjunto de datos?"
      ]
    },
    {
      "cell_type": "code",
      "execution_count": null,
      "id": "27cbd455",
      "metadata": {
        "id": "27cbd455"
      },
      "outputs": [],
      "source": []
    },
    {
      "cell_type": "markdown",
      "id": "ae5dcebb",
      "metadata": {
        "id": "ae5dcebb"
      },
      "source": [
        "####  ¿Existen registros en blanco?"
      ]
    },
    {
      "cell_type": "code",
      "execution_count": null,
      "id": "6fc02bf1",
      "metadata": {
        "id": "6fc02bf1"
      },
      "outputs": [],
      "source": []
    },
    {
      "cell_type": "markdown",
      "id": "89ca59fa",
      "metadata": {
        "id": "89ca59fa"
      },
      "source": [
        "####  ¿Cuáles son las columnas que tiene este dataset?"
      ]
    },
    {
      "cell_type": "code",
      "execution_count": null,
      "id": "1db02b31",
      "metadata": {
        "id": "1db02b31"
      },
      "outputs": [],
      "source": []
    },
    {
      "cell_type": "markdown",
      "id": "de00258d",
      "metadata": {
        "id": "de00258d"
      },
      "source": [
        "#### ¿Las columnas de fechas y hora están cargadas correctamente?"
      ]
    },
    {
      "cell_type": "code",
      "execution_count": null,
      "id": "904c3984",
      "metadata": {
        "id": "904c3984"
      },
      "outputs": [],
      "source": []
    },
    {
      "cell_type": "markdown",
      "id": "42e4465e",
      "metadata": {
        "id": "42e4465e"
      },
      "source": [
        "#### En caso que sea necesario corrige la columna fecha y hora"
      ]
    },
    {
      "cell_type": "code",
      "execution_count": null,
      "id": "4d3970a3",
      "metadata": {
        "id": "4d3970a3"
      },
      "outputs": [],
      "source": []
    },
    {
      "cell_type": "markdown",
      "id": "680a24cd",
      "metadata": {
        "id": "680a24cd"
      },
      "source": [
        "----"
      ]
    },
    {
      "cell_type": "markdown",
      "id": "c00d07a6",
      "metadata": {
        "id": "c00d07a6"
      },
      "source": [
        "#### Lee el archivo order_details"
      ]
    },
    {
      "cell_type": "code",
      "execution_count": null,
      "id": "817d3c80",
      "metadata": {
        "id": "817d3c80"
      },
      "outputs": [],
      "source": []
    },
    {
      "cell_type": "markdown",
      "id": "f72a0205",
      "metadata": {
        "id": "f72a0205"
      },
      "source": [
        "#### Verifica que el archivo haya sido cargado correctamente"
      ]
    },
    {
      "cell_type": "code",
      "execution_count": null,
      "id": "8d12fd38",
      "metadata": {
        "id": "8d12fd38"
      },
      "outputs": [],
      "source": []
    },
    {
      "cell_type": "markdown",
      "id": "71fe1406",
      "metadata": {
        "id": "71fe1406"
      },
      "source": [
        "#### ¿Cuántos registros tiene el conjunto de datos?"
      ]
    },
    {
      "cell_type": "code",
      "execution_count": null,
      "id": "c8d46ffb",
      "metadata": {
        "id": "c8d46ffb"
      },
      "outputs": [],
      "source": []
    },
    {
      "cell_type": "markdown",
      "id": "e1ff1b56",
      "metadata": {
        "id": "e1ff1b56"
      },
      "source": [
        "####  ¿Existen registros en blanco?"
      ]
    },
    {
      "cell_type": "code",
      "execution_count": null,
      "id": "ea38a3c4",
      "metadata": {
        "id": "ea38a3c4"
      },
      "outputs": [],
      "source": []
    },
    {
      "cell_type": "markdown",
      "id": "1c98deaa",
      "metadata": {
        "id": "1c98deaa"
      },
      "source": [
        "####  ¿Cuáles son las columnas que tiene este dataset?"
      ]
    },
    {
      "cell_type": "code",
      "execution_count": null,
      "id": "6e5ea9e1",
      "metadata": {
        "id": "6e5ea9e1"
      },
      "outputs": [],
      "source": []
    },
    {
      "cell_type": "markdown",
      "id": "2738d7a7",
      "metadata": {
        "id": "2738d7a7"
      },
      "source": [
        "#### ¿Las columnas están cargadas con el tipo de dato correcto?"
      ]
    },
    {
      "cell_type": "code",
      "execution_count": null,
      "id": "b1620c05",
      "metadata": {
        "id": "b1620c05"
      },
      "outputs": [],
      "source": []
    },
    {
      "cell_type": "markdown",
      "id": "08ee4432",
      "metadata": {
        "id": "08ee4432"
      },
      "source": [
        "#### Corrige las columnas que creas se están cargando de manera incorrecta"
      ]
    },
    {
      "cell_type": "code",
      "execution_count": null,
      "id": "ef4a5750",
      "metadata": {
        "id": "ef4a5750"
      },
      "outputs": [],
      "source": []
    },
    {
      "cell_type": "markdown",
      "id": "64d3fa3a",
      "metadata": {
        "id": "64d3fa3a"
      },
      "source": [
        "-----"
      ]
    },
    {
      "cell_type": "markdown",
      "id": "fdcaea89",
      "metadata": {
        "id": "fdcaea89"
      },
      "source": [
        "#### Lee el archivo pizzas"
      ]
    },
    {
      "cell_type": "code",
      "execution_count": null,
      "id": "b2b4f440",
      "metadata": {
        "id": "b2b4f440"
      },
      "outputs": [],
      "source": []
    },
    {
      "cell_type": "markdown",
      "id": "bff7a729",
      "metadata": {
        "id": "bff7a729"
      },
      "source": [
        "#### Verifica que el archivo haya sido cargado correctamente"
      ]
    },
    {
      "cell_type": "code",
      "execution_count": null,
      "id": "351d7484",
      "metadata": {
        "id": "351d7484"
      },
      "outputs": [],
      "source": []
    },
    {
      "cell_type": "markdown",
      "id": "5e3246ba",
      "metadata": {
        "id": "5e3246ba"
      },
      "source": [
        "#### ¿Cuántos registros tiene el conjunto de datos?"
      ]
    },
    {
      "cell_type": "code",
      "execution_count": null,
      "id": "78d323b8",
      "metadata": {
        "id": "78d323b8"
      },
      "outputs": [],
      "source": []
    },
    {
      "cell_type": "markdown",
      "id": "206d97a2",
      "metadata": {
        "id": "206d97a2"
      },
      "source": [
        "####  ¿Existen registros en blanco?"
      ]
    },
    {
      "cell_type": "code",
      "execution_count": null,
      "id": "81d1ae5c",
      "metadata": {
        "id": "81d1ae5c"
      },
      "outputs": [],
      "source": []
    },
    {
      "cell_type": "markdown",
      "id": "1c271165",
      "metadata": {
        "id": "1c271165"
      },
      "source": [
        "####  ¿Cuáles son las columnas que tiene este dataset?"
      ]
    },
    {
      "cell_type": "code",
      "execution_count": null,
      "id": "3b1cb76a",
      "metadata": {
        "id": "3b1cb76a"
      },
      "outputs": [],
      "source": []
    },
    {
      "cell_type": "markdown",
      "id": "acb206a9",
      "metadata": {
        "id": "acb206a9"
      },
      "source": [
        "#### ¿Las columnas están cargadas con el tipo de dato correcto?"
      ]
    },
    {
      "cell_type": "code",
      "execution_count": null,
      "id": "80334d80",
      "metadata": {
        "id": "80334d80"
      },
      "outputs": [],
      "source": []
    },
    {
      "cell_type": "markdown",
      "id": "82f32f4c",
      "metadata": {
        "id": "82f32f4c"
      },
      "source": [
        "------"
      ]
    },
    {
      "cell_type": "markdown",
      "id": "05b624f0",
      "metadata": {
        "id": "05b624f0"
      },
      "source": [
        "#### Lee el archivo pizza_types"
      ]
    },
    {
      "cell_type": "code",
      "execution_count": null,
      "id": "836fe77a",
      "metadata": {
        "id": "836fe77a"
      },
      "outputs": [],
      "source": []
    },
    {
      "cell_type": "markdown",
      "id": "815d5ac2",
      "metadata": {
        "id": "815d5ac2"
      },
      "source": [
        "#### Verifica que el archivo haya sido cargado correctamente"
      ]
    },
    {
      "cell_type": "code",
      "execution_count": null,
      "id": "989f122c",
      "metadata": {
        "id": "989f122c"
      },
      "outputs": [],
      "source": []
    },
    {
      "cell_type": "markdown",
      "id": "ed53b5b9",
      "metadata": {
        "id": "ed53b5b9"
      },
      "source": [
        "#### ¿Cuántos registros tiene el conjunto de datos?"
      ]
    },
    {
      "cell_type": "code",
      "execution_count": null,
      "id": "3c892edc",
      "metadata": {
        "id": "3c892edc"
      },
      "outputs": [],
      "source": []
    },
    {
      "cell_type": "markdown",
      "id": "9d616c5f",
      "metadata": {
        "id": "9d616c5f"
      },
      "source": [
        "####  ¿Existen registros en blanco?"
      ]
    },
    {
      "cell_type": "code",
      "execution_count": null,
      "id": "e62d0471",
      "metadata": {
        "id": "e62d0471"
      },
      "outputs": [],
      "source": []
    },
    {
      "cell_type": "markdown",
      "id": "64f9eea5",
      "metadata": {
        "id": "64f9eea5"
      },
      "source": [
        "####  ¿Cuáles son las columnas que tiene este dataset?"
      ]
    },
    {
      "cell_type": "code",
      "execution_count": null,
      "id": "ab387ae6",
      "metadata": {
        "id": "ab387ae6"
      },
      "outputs": [],
      "source": []
    },
    {
      "cell_type": "markdown",
      "id": "a08f7502",
      "metadata": {
        "id": "a08f7502"
      },
      "source": [
        "#### ¿Las columnas están cargadas con el tipo de dato correcto?"
      ]
    },
    {
      "cell_type": "code",
      "execution_count": null,
      "id": "7d4f19bf",
      "metadata": {
        "id": "7d4f19bf"
      },
      "outputs": [],
      "source": []
    },
    {
      "cell_type": "markdown",
      "id": "a84468c2",
      "metadata": {
        "id": "a84468c2"
      },
      "source": [
        "### Inicio de EDA"
      ]
    },
    {
      "cell_type": "markdown",
      "id": "910ed75f",
      "metadata": {
        "id": "910ed75f"
      },
      "source": [
        "#### ¿A qué periodo corresponden las ventas?"
      ]
    },
    {
      "cell_type": "code",
      "execution_count": null,
      "id": "b96a7e71",
      "metadata": {
        "id": "b96a7e71"
      },
      "outputs": [],
      "source": []
    },
    {
      "cell_type": "markdown",
      "id": "6d3a0f29",
      "metadata": {
        "id": "6d3a0f29"
      },
      "source": [
        "#### ¿Cuántos fueron los pedidos por mes?"
      ]
    },
    {
      "cell_type": "code",
      "execution_count": null,
      "id": "bf0efe38",
      "metadata": {
        "id": "bf0efe38"
      },
      "outputs": [],
      "source": []
    },
    {
      "cell_type": "markdown",
      "id": "fe3e1cc8",
      "metadata": {
        "id": "fe3e1cc8"
      },
      "source": [
        "#### Haz un gráfico que permita visualizar la cantidad de pedidos por mes"
      ]
    },
    {
      "cell_type": "code",
      "execution_count": null,
      "id": "827d3586",
      "metadata": {
        "id": "827d3586"
      },
      "outputs": [],
      "source": []
    },
    {
      "cell_type": "markdown",
      "id": "70010cd4",
      "metadata": {
        "id": "70010cd4"
      },
      "source": [
        "#### ¿Cuál fue el promedio de pedidos mensual?"
      ]
    },
    {
      "cell_type": "code",
      "execution_count": null,
      "id": "1559e897",
      "metadata": {
        "id": "1559e897"
      },
      "outputs": [],
      "source": []
    },
    {
      "cell_type": "markdown",
      "id": "4722b7b2",
      "metadata": {
        "id": "4722b7b2"
      },
      "source": [
        "Para poder responder varias de las siguientes preguntas deberás realizar la transformación de los datos, que irá desde la unión de varios DataFrames hasta el calculo de nuevas columnas"
      ]
    },
    {
      "cell_type": "code",
      "execution_count": null,
      "id": "5cc36387",
      "metadata": {
        "id": "5cc36387"
      },
      "outputs": [],
      "source": []
    },
    {
      "cell_type": "markdown",
      "id": "e7a0c5d6",
      "metadata": {
        "id": "e7a0c5d6"
      },
      "source": [
        "#### ¿Cuántas pizzas se vendieron por mes y cuánto se facturó?"
      ]
    },
    {
      "cell_type": "code",
      "execution_count": null,
      "id": "c6e85654",
      "metadata": {
        "id": "c6e85654"
      },
      "outputs": [],
      "source": []
    },
    {
      "cell_type": "markdown",
      "id": "9768f290",
      "metadata": {
        "id": "9768f290"
      },
      "source": [
        "#### Haz gráficos que permitan visualizar la cantidad de pizzas vendidas y la facturación por mes"
      ]
    },
    {
      "cell_type": "code",
      "execution_count": null,
      "id": "f2188478",
      "metadata": {
        "id": "f2188478"
      },
      "outputs": [],
      "source": []
    },
    {
      "cell_type": "markdown",
      "id": "06067302",
      "metadata": {
        "id": "06067302"
      },
      "source": [
        "#### ¿En qué mes se tuvo la menor venta y cuál fue el importe facturado?"
      ]
    },
    {
      "cell_type": "code",
      "execution_count": null,
      "id": "609e6b17",
      "metadata": {
        "id": "609e6b17"
      },
      "outputs": [],
      "source": []
    },
    {
      "cell_type": "markdown",
      "id": "5a839aa1",
      "metadata": {
        "id": "5a839aa1"
      },
      "source": [
        "#### ¿En qué mes  se tuvo la mayor venta y cuál fue el importe facturado?"
      ]
    },
    {
      "cell_type": "code",
      "execution_count": null,
      "id": "5118d10c",
      "metadata": {
        "id": "5118d10c"
      },
      "outputs": [],
      "source": []
    },
    {
      "cell_type": "markdown",
      "id": "32cd33cc",
      "metadata": {
        "id": "32cd33cc"
      },
      "source": [
        "#### ¿Cuál es el promedio general de ventas por días de la semana?"
      ]
    },
    {
      "cell_type": "code",
      "execution_count": null,
      "id": "42108665",
      "metadata": {
        "id": "42108665"
      },
      "outputs": [],
      "source": []
    },
    {
      "cell_type": "markdown",
      "id": "6e252e96",
      "metadata": {
        "id": "6e252e96"
      },
      "source": [
        "#### Haz un gráfico de tipo heatmap u otro que ayude a visualizar mejor la información"
      ]
    },
    {
      "cell_type": "code",
      "execution_count": null,
      "id": "b78f5b3a",
      "metadata": {
        "id": "b78f5b3a"
      },
      "outputs": [],
      "source": []
    },
    {
      "cell_type": "markdown",
      "id": "38bc822d",
      "metadata": {
        "id": "38bc822d"
      },
      "source": [
        "#### Analiza el comportamiento de ventas mensual (Suma,Promedio, Mediana,mínimo,máximo,desviación estandart) según la cantidad de pizzas vendidas"
      ]
    },
    {
      "cell_type": "code",
      "execution_count": null,
      "id": "e410ac5f",
      "metadata": {
        "id": "e410ac5f"
      },
      "outputs": [],
      "source": []
    },
    {
      "cell_type": "markdown",
      "id": "1569b5ac",
      "metadata": {
        "id": "1569b5ac"
      },
      "source": [
        "#### ¿Cuántas pizzas se vendieron en total?"
      ]
    },
    {
      "cell_type": "code",
      "execution_count": null,
      "id": "86c0196f",
      "metadata": {
        "id": "86c0196f"
      },
      "outputs": [],
      "source": []
    },
    {
      "cell_type": "markdown",
      "id": "56c8c89d",
      "metadata": {
        "id": "56c8c89d"
      },
      "source": [
        "####  ¿Cúal es el nombre de la pizza que más se vende?"
      ]
    },
    {
      "cell_type": "code",
      "execution_count": null,
      "id": "48b6a6fd",
      "metadata": {
        "id": "48b6a6fd"
      },
      "outputs": [],
      "source": []
    },
    {
      "cell_type": "markdown",
      "id": "66436a2c",
      "metadata": {
        "id": "66436a2c"
      },
      "source": [
        "####  ¿Cúal es el nombre de la pizza que menos se vende?"
      ]
    },
    {
      "cell_type": "code",
      "execution_count": null,
      "id": "71abb677",
      "metadata": {
        "id": "71abb677"
      },
      "outputs": [],
      "source": []
    },
    {
      "cell_type": "markdown",
      "id": "2f1ec972",
      "metadata": {
        "id": "2f1ec972"
      },
      "source": [
        "#### ¿Cuál es el top 10 de sabores de pizzas más vendidas?"
      ]
    },
    {
      "cell_type": "code",
      "execution_count": null,
      "id": "57cc9ece",
      "metadata": {
        "id": "57cc9ece"
      },
      "outputs": [],
      "source": []
    },
    {
      "cell_type": "markdown",
      "id": "d10aafa5",
      "metadata": {
        "id": "d10aafa5"
      },
      "source": [
        "#### ¿Cómo son las ventas totales por tamaño de pizzas?"
      ]
    },
    {
      "cell_type": "code",
      "execution_count": null,
      "id": "69f56681",
      "metadata": {
        "id": "69f56681"
      },
      "outputs": [],
      "source": []
    },
    {
      "cell_type": "code",
      "execution_count": null,
      "id": "1f2580cc",
      "metadata": {
        "id": "1f2580cc"
      },
      "outputs": [],
      "source": []
    },
    {
      "cell_type": "markdown",
      "id": "a4efb806",
      "metadata": {
        "id": "a4efb806"
      },
      "source": [
        "####  ¿Cuántas pizzas según el nombre y tamaño se vendieron?"
      ]
    },
    {
      "cell_type": "code",
      "execution_count": null,
      "id": "e8277bad",
      "metadata": {
        "id": "e8277bad"
      },
      "outputs": [],
      "source": []
    },
    {
      "cell_type": "code",
      "execution_count": null,
      "id": "ba65d811",
      "metadata": {
        "id": "ba65d811"
      },
      "outputs": [],
      "source": []
    },
    {
      "cell_type": "markdown",
      "id": "a55ab3c5",
      "metadata": {
        "id": "a55ab3c5"
      },
      "source": [
        "#### Haz un gráfico que permita visualizar la ventas por tamaño de pizzas"
      ]
    },
    {
      "cell_type": "code",
      "execution_count": null,
      "id": "3abe91a9",
      "metadata": {
        "id": "3abe91a9"
      },
      "outputs": [],
      "source": []
    }
  ],
  "metadata": {
    "kernelspec": {
      "display_name": "Python 3 (ipykernel)",
      "language": "python",
      "name": "python3"
    },
    "language_info": {
      "codemirror_mode": {
        "name": "ipython",
        "version": 3
      },
      "file_extension": ".py",
      "mimetype": "text/x-python",
      "name": "python",
      "nbconvert_exporter": "python",
      "pygments_lexer": "ipython3",
      "version": "3.9.7"
    },
    "colab": {
      "provenance": [],
      "include_colab_link": true
    }
  },
  "nbformat": 4,
  "nbformat_minor": 5
}