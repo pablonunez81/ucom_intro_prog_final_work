{
  "cells": [
    {
      "cell_type": "markdown",
      "metadata": {
        "id": "view-in-github",
        "colab_type": "text"
      },
      "source": [
        "<a href=\"https://colab.research.google.com/github/pablonunez81/ucom_intro_prog_final_work/blob/main/M1_Trabajo_Final_pnunez_bbenitez.ipynb\" target=\"_parent\"><img src=\"https://colab.research.google.com/assets/colab-badge.svg\" alt=\"Open In Colab\"/></a>"
      ]
    },
    {
      "cell_type": "markdown",
      "id": "58da0e8e",
      "metadata": {
        "id": "58da0e8e"
      },
      "source": [
        "#  Trabajo Final - M1 Introducción a la programación para Ciencia de datos"
      ]
    },
    {
      "cell_type": "markdown",
      "source": [
        "#INTEGRANTES DEL GRUPO (Completar aquí)\n",
        "\n",
        "1. 2.876.596, Pablo Núñez\n",
        "2. NRO DOCUMENTO IDENTIDAD, APELLIDO Y NOMBRE"
      ],
      "metadata": {
        "id": "fpLvonBMKn7U"
      },
      "id": "fpLvonBMKn7U"
    },
    {
      "cell_type": "markdown",
      "id": "3d01f576",
      "metadata": {
        "id": "3d01f576"
      },
      "source": [
        "###  Contexto"
      ]
    },
    {
      "cell_type": "markdown",
      "id": "11d56c8a",
      "metadata": {
        "id": "11d56c8a"
      },
      "source": [
        "Una empresa que vende Pizzas te ha contratado para que puedas ayudarlos a mejorar sus estrategias de negocios basándose en los datos. Para el efecto te han compartido los siguientes conjuntos de datos:\n",
        "1.\t**Orders**: contiene la fecha y la hora en que se realizaron todos los pedidos de la mesa.\n",
        "2.\t**Order_detail**: contiene las diferentes pizzas servidas con cada pedido en la tabla **Orders** y sus cantidades.\n",
        "3.\t**Pizzas**: contiene el tamaño y el precio de cada pizza distinta en la tabla **Order_detail**, así como su tipo de pizza más amplio.\n",
        "4.\t**Pizza_types**: contiene detalles sobre los tipos de pizza en la tabla **Pizzas**, incluido su nombre tal como aparece en el menú, la categoría a la que pertenece y su lista de ingredientes.\n",
        "\n",
        "Tu misión como analista de datos será realizar el análisis exploratorio de datos \"EDA“, por sus siglas en inglés, para analizar la información, buscar patrones en los datos y poder responder a las diferentes preguntas de negocio que interesan a la empresa.\n",
        "\n",
        "Los pasos requeridos para el análisis se encuentran detallados en el archivo:  **M1 Trabajo Final.ipynb**\n",
        "\n",
        "El trabajo consiste en desarrollar las celdas de código en **M1 Trabajo Final.ipynb** y presentar el archivo final resultante en el formato “.iypynb”\n"
      ]
    },
    {
      "cell_type": "markdown",
      "id": "2e03cd50",
      "metadata": {
        "id": "2e03cd50"
      },
      "source": [
        "###  Importación de las librerías"
      ]
    },
    {
      "cell_type": "markdown",
      "id": "a1084287",
      "metadata": {
        "id": "a1084287"
      },
      "source": [
        "Importa todas las librerias que consideres necesarias"
      ]
    },
    {
      "cell_type": "code",
      "execution_count": null,
      "id": "2e2d7299",
      "metadata": {
        "id": "2e2d7299",
        "colab": {
          "base_uri": "https://localhost:8080/"
        },
        "outputId": "84e31093-d9f1-49e7-e207-b72f80cf9e1d"
      },
      "outputs": [
        {
          "output_type": "stream",
          "name": "stdout",
          "text": [
            "Mounted at /content/drive\n"
          ]
        }
      ],
      "source": [
        "import pandas as pd\n",
        "import numpy as np\n",
        "import matplotlib.pyplot as plt\n",
        "import datetime\n",
        "\n",
        "from google.colab import drive\n",
        "drive.mount('/content/drive', force_remount=True)\n",
        "ruta = \"/content/drive/MyDrive/ucom_trabajo_final/dataset/\"\n",
        "months = [\"Ene\", \"Feb\", \"Mar\", \"Abr\", \"May\", \"Jun\", \"Jul\", \"Ago\", \"Sep\", \"Oct\", \"Nov\", \"Dic\"]"
      ]
    },
    {
      "cell_type": "markdown",
      "id": "67371ed7",
      "metadata": {
        "id": "67371ed7"
      },
      "source": [
        "###  Lectura de archivos"
      ]
    },
    {
      "cell_type": "code",
      "execution_count": null,
      "id": "7dcdec47",
      "metadata": {
        "id": "7dcdec47"
      },
      "outputs": [],
      "source": [
        "from pandas._libs.tslibs.parsing import parse_datetime_string\n",
        "from pandas.core.arrays.timedeltas import parse_timedelta_unit\n",
        "from pandas.core.indexes.period import parse_time_string\n",
        "df_orders = pd.read_csv(ruta+'orders.csv',parse_dates=['date', 'time'])"
      ]
    },
    {
      "cell_type": "markdown",
      "id": "ca15ef43",
      "metadata": {
        "id": "ca15ef43"
      },
      "source": [
        "####  Lee el archivo Orders"
      ]
    },
    {
      "cell_type": "markdown",
      "id": "f34f8303",
      "metadata": {
        "id": "f34f8303"
      },
      "source": [
        "#### Verifica que el archivo haya sido cargado correctamente"
      ]
    },
    {
      "cell_type": "code",
      "execution_count": null,
      "id": "fa652f98",
      "metadata": {
        "id": "fa652f98",
        "colab": {
          "base_uri": "https://localhost:8080/"
        },
        "outputId": "0f396a05-3cca-41e5-f00d-f6fb5a139f4d"
      },
      "outputs": [
        {
          "output_type": "stream",
          "name": "stdout",
          "text": [
            "       order_id       date                time\n",
            "0             1 2015-01-01 2022-10-31 11:38:36\n",
            "1             2 2015-01-01 2022-10-31 11:57:40\n",
            "2             3 2015-01-01 2022-10-31 12:12:28\n",
            "3             4 2015-01-01 2022-10-31 12:16:31\n",
            "4             5 2015-01-01 2022-10-31 12:21:30\n",
            "...         ...        ...                 ...\n",
            "21345     21346 2015-12-31 2022-10-31 20:51:07\n",
            "21346     21347 2015-12-31 2022-10-31 21:14:37\n",
            "21347     21348 2015-12-31 2022-10-31 21:23:10\n",
            "21348     21349 2015-12-31 2022-10-31 22:09:54\n",
            "21349     21350 2015-12-31 2022-10-31 23:02:05\n",
            "\n",
            "[21350 rows x 3 columns]\n"
          ]
        }
      ],
      "source": [
        "print(df_orders)"
      ]
    },
    {
      "cell_type": "markdown",
      "id": "1d01da1c",
      "metadata": {
        "id": "1d01da1c"
      },
      "source": [
        "####  ¿Cuántos registros tiene el conjunto de datos?"
      ]
    },
    {
      "cell_type": "code",
      "execution_count": null,
      "id": "27cbd455",
      "metadata": {
        "id": "27cbd455",
        "colab": {
          "base_uri": "https://localhost:8080/"
        },
        "outputId": "d205e27c-8b25-43ca-a726-e64ea5b57d09"
      },
      "outputs": [
        {
          "output_type": "stream",
          "name": "stdout",
          "text": [
            "Cantidad de registros del conjunto de datos: 21350\n"
          ]
        }
      ],
      "source": [
        "n_orders = df_orders.count(0)\n",
        "print(f'Cantidad de registros del conjunto de datos: {n_orders.order_id}')"
      ]
    },
    {
      "cell_type": "markdown",
      "id": "ae5dcebb",
      "metadata": {
        "id": "ae5dcebb"
      },
      "source": [
        "####  ¿Existen registros en blanco?"
      ]
    },
    {
      "cell_type": "code",
      "execution_count": null,
      "id": "6fc02bf1",
      "metadata": {
        "id": "6fc02bf1",
        "colab": {
          "base_uri": "https://localhost:8080/"
        },
        "outputId": "319b3e40-1bbc-4333-e7f6-a6a2ae5a3019"
      },
      "outputs": [
        {
          "output_type": "stream",
          "name": "stdout",
          "text": [
            "No existen registros en blanco\n"
          ]
        }
      ],
      "source": [
        "if df_orders.isna().sum().sum() > 0:\n",
        "  print('Existen registros en blanco')\n",
        "else:\n",
        "  print('No existen registros en blanco') "
      ]
    },
    {
      "cell_type": "markdown",
      "id": "89ca59fa",
      "metadata": {
        "id": "89ca59fa"
      },
      "source": [
        "####  ¿Cuáles son las columnas que tiene este dataset?"
      ]
    },
    {
      "cell_type": "code",
      "execution_count": null,
      "id": "1db02b31",
      "metadata": {
        "id": "1db02b31",
        "colab": {
          "base_uri": "https://localhost:8080/"
        },
        "outputId": "8435bf30-d62a-48bf-935e-6b3f4212ff8c"
      },
      "outputs": [
        {
          "output_type": "stream",
          "name": "stdout",
          "text": [
            "las columnas que tiene el data set orders.csv son: \n",
            "order_id\n",
            "date\n",
            "time\n"
          ]
        }
      ],
      "source": [
        "print(f'las columnas que tiene el data set orders.csv son: ')\n",
        "columns_of_orders = df_orders.columns.to_series()\n",
        "for c in columns_of_orders:\n",
        "  print (c)"
      ]
    },
    {
      "cell_type": "markdown",
      "id": "de00258d",
      "metadata": {
        "id": "de00258d"
      },
      "source": [
        "#### ¿Las columnas de fechas y hora están cargadas correctamente?"
      ]
    },
    {
      "cell_type": "code",
      "execution_count": null,
      "id": "904c3984",
      "metadata": {
        "id": "904c3984",
        "colab": {
          "base_uri": "https://localhost:8080/"
        },
        "outputId": "1fbc8d79-68f5-4211-98de-75fa85f97610"
      },
      "outputs": [
        {
          "output_type": "stream",
          "name": "stdout",
          "text": [
            "<class 'pandas.core.frame.DataFrame'>\n",
            "RangeIndex: 21350 entries, 0 to 21349\n",
            "Data columns (total 3 columns):\n",
            " #   Column    Non-Null Count  Dtype         \n",
            "---  ------    --------------  -----         \n",
            " 0   order_id  21350 non-null  int64         \n",
            " 1   date      21350 non-null  datetime64[ns]\n",
            " 2   time      21350 non-null  datetime64[ns]\n",
            "dtypes: datetime64[ns](2), int64(1)\n",
            "memory usage: 500.5 KB\n",
            "las columnas 'date' y 'time' son del tipo datetime64. time tiene la fecha del sistema actual. se debe presentar solo la hora\n"
          ]
        }
      ],
      "source": [
        "df_orders.info() \n",
        "df_orders    \n",
        "print('las columnas \\'date\\' y \\'time\\' son del tipo datetime64. time tiene la fecha del sistema actual. se debe presentar solo la hora')             "
      ]
    },
    {
      "cell_type": "markdown",
      "id": "42e4465e",
      "metadata": {
        "id": "42e4465e"
      },
      "source": [
        "#### En caso que sea necesario corrige la columna fecha y hora"
      ]
    },
    {
      "cell_type": "code",
      "execution_count": null,
      "id": "4d3970a3",
      "metadata": {
        "id": "4d3970a3",
        "colab": {
          "base_uri": "https://localhost:8080/",
          "height": 424
        },
        "outputId": "1e0255d2-daf0-4899-df62-d6fd8b956573"
      },
      "outputs": [
        {
          "output_type": "execute_result",
          "data": {
            "text/plain": [
              "       order_id       date      time\n",
              "0             1 2015-01-01  11:38:36\n",
              "1             2 2015-01-01  11:57:40\n",
              "2             3 2015-01-01  12:12:28\n",
              "3             4 2015-01-01  12:16:31\n",
              "4             5 2015-01-01  12:21:30\n",
              "...         ...        ...       ...\n",
              "21345     21346 2015-12-31  20:51:07\n",
              "21346     21347 2015-12-31  21:14:37\n",
              "21347     21348 2015-12-31  21:23:10\n",
              "21348     21349 2015-12-31  22:09:54\n",
              "21349     21350 2015-12-31  23:02:05\n",
              "\n",
              "[21350 rows x 3 columns]"
            ],
            "text/html": [
              "\n",
              "  <div id=\"df-bd7795b0-56ff-487f-9ec9-736a41e61b1d\">\n",
              "    <div class=\"colab-df-container\">\n",
              "      <div>\n",
              "<style scoped>\n",
              "    .dataframe tbody tr th:only-of-type {\n",
              "        vertical-align: middle;\n",
              "    }\n",
              "\n",
              "    .dataframe tbody tr th {\n",
              "        vertical-align: top;\n",
              "    }\n",
              "\n",
              "    .dataframe thead th {\n",
              "        text-align: right;\n",
              "    }\n",
              "</style>\n",
              "<table border=\"1\" class=\"dataframe\">\n",
              "  <thead>\n",
              "    <tr style=\"text-align: right;\">\n",
              "      <th></th>\n",
              "      <th>order_id</th>\n",
              "      <th>date</th>\n",
              "      <th>time</th>\n",
              "    </tr>\n",
              "  </thead>\n",
              "  <tbody>\n",
              "    <tr>\n",
              "      <th>0</th>\n",
              "      <td>1</td>\n",
              "      <td>2015-01-01</td>\n",
              "      <td>11:38:36</td>\n",
              "    </tr>\n",
              "    <tr>\n",
              "      <th>1</th>\n",
              "      <td>2</td>\n",
              "      <td>2015-01-01</td>\n",
              "      <td>11:57:40</td>\n",
              "    </tr>\n",
              "    <tr>\n",
              "      <th>2</th>\n",
              "      <td>3</td>\n",
              "      <td>2015-01-01</td>\n",
              "      <td>12:12:28</td>\n",
              "    </tr>\n",
              "    <tr>\n",
              "      <th>3</th>\n",
              "      <td>4</td>\n",
              "      <td>2015-01-01</td>\n",
              "      <td>12:16:31</td>\n",
              "    </tr>\n",
              "    <tr>\n",
              "      <th>4</th>\n",
              "      <td>5</td>\n",
              "      <td>2015-01-01</td>\n",
              "      <td>12:21:30</td>\n",
              "    </tr>\n",
              "    <tr>\n",
              "      <th>...</th>\n",
              "      <td>...</td>\n",
              "      <td>...</td>\n",
              "      <td>...</td>\n",
              "    </tr>\n",
              "    <tr>\n",
              "      <th>21345</th>\n",
              "      <td>21346</td>\n",
              "      <td>2015-12-31</td>\n",
              "      <td>20:51:07</td>\n",
              "    </tr>\n",
              "    <tr>\n",
              "      <th>21346</th>\n",
              "      <td>21347</td>\n",
              "      <td>2015-12-31</td>\n",
              "      <td>21:14:37</td>\n",
              "    </tr>\n",
              "    <tr>\n",
              "      <th>21347</th>\n",
              "      <td>21348</td>\n",
              "      <td>2015-12-31</td>\n",
              "      <td>21:23:10</td>\n",
              "    </tr>\n",
              "    <tr>\n",
              "      <th>21348</th>\n",
              "      <td>21349</td>\n",
              "      <td>2015-12-31</td>\n",
              "      <td>22:09:54</td>\n",
              "    </tr>\n",
              "    <tr>\n",
              "      <th>21349</th>\n",
              "      <td>21350</td>\n",
              "      <td>2015-12-31</td>\n",
              "      <td>23:02:05</td>\n",
              "    </tr>\n",
              "  </tbody>\n",
              "</table>\n",
              "<p>21350 rows × 3 columns</p>\n",
              "</div>\n",
              "      <button class=\"colab-df-convert\" onclick=\"convertToInteractive('df-bd7795b0-56ff-487f-9ec9-736a41e61b1d')\"\n",
              "              title=\"Convert this dataframe to an interactive table.\"\n",
              "              style=\"display:none;\">\n",
              "        \n",
              "  <svg xmlns=\"http://www.w3.org/2000/svg\" height=\"24px\"viewBox=\"0 0 24 24\"\n",
              "       width=\"24px\">\n",
              "    <path d=\"M0 0h24v24H0V0z\" fill=\"none\"/>\n",
              "    <path d=\"M18.56 5.44l.94 2.06.94-2.06 2.06-.94-2.06-.94-.94-2.06-.94 2.06-2.06.94zm-11 1L8.5 8.5l.94-2.06 2.06-.94-2.06-.94L8.5 2.5l-.94 2.06-2.06.94zm10 10l.94 2.06.94-2.06 2.06-.94-2.06-.94-.94-2.06-.94 2.06-2.06.94z\"/><path d=\"M17.41 7.96l-1.37-1.37c-.4-.4-.92-.59-1.43-.59-.52 0-1.04.2-1.43.59L10.3 9.45l-7.72 7.72c-.78.78-.78 2.05 0 2.83L4 21.41c.39.39.9.59 1.41.59.51 0 1.02-.2 1.41-.59l7.78-7.78 2.81-2.81c.8-.78.8-2.07 0-2.86zM5.41 20L4 18.59l7.72-7.72 1.47 1.35L5.41 20z\"/>\n",
              "  </svg>\n",
              "      </button>\n",
              "      \n",
              "  <style>\n",
              "    .colab-df-container {\n",
              "      display:flex;\n",
              "      flex-wrap:wrap;\n",
              "      gap: 12px;\n",
              "    }\n",
              "\n",
              "    .colab-df-convert {\n",
              "      background-color: #E8F0FE;\n",
              "      border: none;\n",
              "      border-radius: 50%;\n",
              "      cursor: pointer;\n",
              "      display: none;\n",
              "      fill: #1967D2;\n",
              "      height: 32px;\n",
              "      padding: 0 0 0 0;\n",
              "      width: 32px;\n",
              "    }\n",
              "\n",
              "    .colab-df-convert:hover {\n",
              "      background-color: #E2EBFA;\n",
              "      box-shadow: 0px 1px 2px rgba(60, 64, 67, 0.3), 0px 1px 3px 1px rgba(60, 64, 67, 0.15);\n",
              "      fill: #174EA6;\n",
              "    }\n",
              "\n",
              "    [theme=dark] .colab-df-convert {\n",
              "      background-color: #3B4455;\n",
              "      fill: #D2E3FC;\n",
              "    }\n",
              "\n",
              "    [theme=dark] .colab-df-convert:hover {\n",
              "      background-color: #434B5C;\n",
              "      box-shadow: 0px 1px 3px 1px rgba(0, 0, 0, 0.15);\n",
              "      filter: drop-shadow(0px 1px 2px rgba(0, 0, 0, 0.3));\n",
              "      fill: #FFFFFF;\n",
              "    }\n",
              "  </style>\n",
              "\n",
              "      <script>\n",
              "        const buttonEl =\n",
              "          document.querySelector('#df-bd7795b0-56ff-487f-9ec9-736a41e61b1d button.colab-df-convert');\n",
              "        buttonEl.style.display =\n",
              "          google.colab.kernel.accessAllowed ? 'block' : 'none';\n",
              "\n",
              "        async function convertToInteractive(key) {\n",
              "          const element = document.querySelector('#df-bd7795b0-56ff-487f-9ec9-736a41e61b1d');\n",
              "          const dataTable =\n",
              "            await google.colab.kernel.invokeFunction('convertToInteractive',\n",
              "                                                     [key], {});\n",
              "          if (!dataTable) return;\n",
              "\n",
              "          const docLinkHtml = 'Like what you see? Visit the ' +\n",
              "            '<a target=\"_blank\" href=https://colab.research.google.com/notebooks/data_table.ipynb>data table notebook</a>'\n",
              "            + ' to learn more about interactive tables.';\n",
              "          element.innerHTML = '';\n",
              "          dataTable['output_type'] = 'display_data';\n",
              "          await google.colab.output.renderOutput(dataTable, element);\n",
              "          const docLink = document.createElement('div');\n",
              "          docLink.innerHTML = docLinkHtml;\n",
              "          element.appendChild(docLink);\n",
              "        }\n",
              "      </script>\n",
              "    </div>\n",
              "  </div>\n",
              "  "
            ]
          },
          "metadata": {},
          "execution_count": 36
        }
      ],
      "source": [
        "df_orders['time'] = df_orders['time'].dt.strftime('%H:%M:%S')   # esto ejecutar una sola vez\n",
        "df_orders"
      ]
    },
    {
      "cell_type": "markdown",
      "id": "680a24cd",
      "metadata": {
        "id": "680a24cd"
      },
      "source": [
        "----"
      ]
    },
    {
      "cell_type": "markdown",
      "id": "c00d07a6",
      "metadata": {
        "id": "c00d07a6"
      },
      "source": [
        "#### Lee el archivo order_details"
      ]
    },
    {
      "cell_type": "code",
      "execution_count": null,
      "id": "817d3c80",
      "metadata": {
        "id": "817d3c80"
      },
      "outputs": [],
      "source": [
        "df_order_details = pd.read_csv(ruta+'order_details.csv')"
      ]
    },
    {
      "cell_type": "markdown",
      "id": "f72a0205",
      "metadata": {
        "id": "f72a0205"
      },
      "source": [
        "#### Verifica que el archivo haya sido cargado correctamente"
      ]
    },
    {
      "cell_type": "code",
      "execution_count": null,
      "id": "8d12fd38",
      "metadata": {
        "id": "8d12fd38",
        "colab": {
          "base_uri": "https://localhost:8080/"
        },
        "outputId": "63b65400-dc9b-4e0a-fc78-ce5602160c0e"
      },
      "outputs": [
        {
          "output_type": "stream",
          "name": "stdout",
          "text": [
            "       order_details_id  order_id       pizza_id  quantity\n",
            "0                     1         1     hawaiian_m         1\n",
            "1                     2         2  classic_dlx_m         1\n",
            "2                     3         2  five_cheese_l         1\n",
            "3                     4         2    ital_supr_l         1\n",
            "4                     5         2     mexicana_m         1\n",
            "...                 ...       ...            ...       ...\n",
            "48615             48616     21348  ckn_alfredo_m         1\n",
            "48616             48617     21348  four_cheese_l         1\n",
            "48617             48618     21348   napolitana_s         1\n",
            "48618             48619     21349     mexicana_l         1\n",
            "48619             48620     21350      bbq_ckn_s         1\n",
            "\n",
            "[48620 rows x 4 columns]\n"
          ]
        }
      ],
      "source": [
        "print(df_order_details)"
      ]
    },
    {
      "cell_type": "markdown",
      "id": "71fe1406",
      "metadata": {
        "id": "71fe1406"
      },
      "source": [
        "#### ¿Cuántos registros tiene el conjunto de datos?"
      ]
    },
    {
      "cell_type": "code",
      "execution_count": null,
      "id": "c8d46ffb",
      "metadata": {
        "id": "c8d46ffb",
        "colab": {
          "base_uri": "https://localhost:8080/"
        },
        "outputId": "31ba6a8b-d430-43e7-be53-c95d408f6da7"
      },
      "outputs": [
        {
          "output_type": "stream",
          "name": "stdout",
          "text": [
            "Cantidad de registros del conjunto de datos: 48620\n"
          ]
        }
      ],
      "source": [
        "n_order_details = df_order_details.count(0)\n",
        "print(f'Cantidad de registros del conjunto de datos: {n_order_details.order_details_id}')"
      ]
    },
    {
      "cell_type": "markdown",
      "id": "e1ff1b56",
      "metadata": {
        "id": "e1ff1b56"
      },
      "source": [
        "####  ¿Existen registros en blanco?"
      ]
    },
    {
      "cell_type": "code",
      "execution_count": null,
      "id": "ea38a3c4",
      "metadata": {
        "id": "ea38a3c4",
        "colab": {
          "base_uri": "https://localhost:8080/"
        },
        "outputId": "18ef6126-6e43-43f5-90ae-3c10fa9fbdaf"
      },
      "outputs": [
        {
          "output_type": "stream",
          "name": "stdout",
          "text": [
            "No existen registros en blanco\n"
          ]
        }
      ],
      "source": [
        "\n",
        "if df_order_details.isna().sum().sum() > 0:\n",
        "  print('Existen registros en blanco')\n",
        "else:\n",
        "  print('No existen registros en blanco') "
      ]
    },
    {
      "cell_type": "markdown",
      "id": "1c98deaa",
      "metadata": {
        "id": "1c98deaa"
      },
      "source": [
        "####  ¿Cuáles son las columnas que tiene este dataset?"
      ]
    },
    {
      "cell_type": "code",
      "execution_count": null,
      "id": "6e5ea9e1",
      "metadata": {
        "id": "6e5ea9e1",
        "colab": {
          "base_uri": "https://localhost:8080/"
        },
        "outputId": "8b71f4e8-aaa8-4085-f14f-906390132258"
      },
      "outputs": [
        {
          "output_type": "stream",
          "name": "stdout",
          "text": [
            "las columnas que tiene el data set order_details.csv son: \n",
            "order_details_id\n",
            "order_id\n",
            "pizza_id\n",
            "quantity\n"
          ]
        }
      ],
      "source": [
        "print(f'las columnas que tiene el data set order_details.csv son: ')\n",
        "columns_of_orders = df_order_details.columns.to_series()\n",
        "for c in columns_of_orders:\n",
        "  print (c)"
      ]
    },
    {
      "cell_type": "markdown",
      "id": "2738d7a7",
      "metadata": {
        "id": "2738d7a7"
      },
      "source": [
        "#### ¿Las columnas están cargadas con el tipo de dato correcto?"
      ]
    },
    {
      "cell_type": "code",
      "execution_count": null,
      "id": "b1620c05",
      "metadata": {
        "id": "b1620c05",
        "colab": {
          "base_uri": "https://localhost:8080/"
        },
        "outputId": "5e44e200-54ff-4564-8e32-3e3711ca78cf"
      },
      "outputs": [
        {
          "output_type": "stream",
          "name": "stdout",
          "text": [
            "<class 'pandas.core.frame.DataFrame'>\n",
            "RangeIndex: 48620 entries, 0 to 48619\n",
            "Data columns (total 4 columns):\n",
            " #   Column            Non-Null Count  Dtype \n",
            "---  ------            --------------  ----- \n",
            " 0   order_details_id  48620 non-null  int64 \n",
            " 1   order_id          48620 non-null  int64 \n",
            " 2   pizza_id          48620 non-null  object\n",
            " 3   quantity          48620 non-null  int64 \n",
            "dtypes: int64(3), object(1)\n",
            "memory usage: 1.5+ MB\n",
            "la columna 'pizza_id' es del tipo OBJECT. debería ser del tipo 'string'\n"
          ]
        }
      ],
      "source": [
        "df_order_details.info() \n",
        "df_order_details \n",
        "print('la columna \\'pizza_id\\' es del tipo OBJECT. debería ser del tipo \\'string\\'')"
      ]
    },
    {
      "cell_type": "markdown",
      "id": "08ee4432",
      "metadata": {
        "id": "08ee4432"
      },
      "source": [
        "#### Corrige las columnas que creas se están cargando de manera incorrecta"
      ]
    },
    {
      "cell_type": "code",
      "execution_count": null,
      "id": "ef4a5750",
      "metadata": {
        "id": "ef4a5750",
        "colab": {
          "base_uri": "https://localhost:8080/"
        },
        "outputId": "039c1a9b-90d1-4bcd-9a3b-f766284220a2"
      },
      "outputs": [
        {
          "output_type": "stream",
          "name": "stdout",
          "text": [
            "<class 'pandas.core.frame.DataFrame'>\n",
            "RangeIndex: 48620 entries, 0 to 48619\n",
            "Data columns (total 4 columns):\n",
            " #   Column            Non-Null Count  Dtype \n",
            "---  ------            --------------  ----- \n",
            " 0   order_details_id  48620 non-null  int64 \n",
            " 1   order_id          48620 non-null  int64 \n",
            " 2   pizza_id          48620 non-null  string\n",
            " 3   quantity          48620 non-null  int64 \n",
            "dtypes: int64(3), string(1)\n",
            "memory usage: 1.5 MB\n"
          ]
        }
      ],
      "source": [
        "df_order_details['pizza_id'] = df_order_details['pizza_id'].astype('string')\n",
        "df_order_details.info() "
      ]
    },
    {
      "cell_type": "markdown",
      "id": "64d3fa3a",
      "metadata": {
        "id": "64d3fa3a"
      },
      "source": [
        "-----"
      ]
    },
    {
      "cell_type": "markdown",
      "id": "fdcaea89",
      "metadata": {
        "id": "fdcaea89"
      },
      "source": [
        "#### Lee el archivo pizzas"
      ]
    },
    {
      "cell_type": "code",
      "execution_count": null,
      "id": "b2b4f440",
      "metadata": {
        "id": "b2b4f440"
      },
      "outputs": [],
      "source": [
        "df_pizzas = pd.read_csv(ruta+'pizzas.csv')\n",
        "#df_pizzas = pd.read_csv(ruta+'pizzas_con_nulos.csv')"
      ]
    },
    {
      "cell_type": "markdown",
      "id": "bff7a729",
      "metadata": {
        "id": "bff7a729"
      },
      "source": [
        "#### Verifica que el archivo haya sido cargado correctamente"
      ]
    },
    {
      "cell_type": "code",
      "execution_count": null,
      "id": "351d7484",
      "metadata": {
        "id": "351d7484",
        "colab": {
          "base_uri": "https://localhost:8080/"
        },
        "outputId": "d0a374b6-cb52-4abd-c806-7e4bbd919107"
      },
      "outputs": [
        {
          "output_type": "stream",
          "name": "stdout",
          "text": [
            "         pizza_id pizza_type_id size  price\n",
            "0       bbq_ckn_s       bbq_ckn    S  12.75\n",
            "1       bbq_ckn_m       bbq_ckn    M  16.75\n",
            "2       bbq_ckn_l       bbq_ckn    L  20.75\n",
            "3      cali_ckn_s      cali_ckn    S  12.75\n",
            "4      cali_ckn_m      cali_ckn    M  16.75\n",
            "..            ...           ...  ...    ...\n",
            "91  spinach_fet_m   spinach_fet    M  16.00\n",
            "92  spinach_fet_l   spinach_fet    L  20.25\n",
            "93   veggie_veg_s    veggie_veg    S  12.00\n",
            "94   veggie_veg_m    veggie_veg    M  16.00\n",
            "95   veggie_veg_l    veggie_veg    L  20.25\n",
            "\n",
            "[96 rows x 4 columns]\n"
          ]
        }
      ],
      "source": [
        "print(df_pizzas)"
      ]
    },
    {
      "cell_type": "markdown",
      "id": "5e3246ba",
      "metadata": {
        "id": "5e3246ba"
      },
      "source": [
        "#### ¿Cuántos registros tiene el conjunto de datos?"
      ]
    },
    {
      "cell_type": "code",
      "execution_count": null,
      "id": "78d323b8",
      "metadata": {
        "id": "78d323b8",
        "colab": {
          "base_uri": "https://localhost:8080/"
        },
        "outputId": "cf592a2b-50c2-4646-c233-6cba6aed074f"
      },
      "outputs": [
        {
          "output_type": "stream",
          "name": "stdout",
          "text": [
            "Cantidad de registros del conjunto de datos: 96\n"
          ]
        }
      ],
      "source": [
        "n_df_pizzas = df_pizzas.count(0)\n",
        "print(f'Cantidad de registros del conjunto de datos: {n_df_pizzas.pizza_id}')"
      ]
    },
    {
      "cell_type": "markdown",
      "id": "206d97a2",
      "metadata": {
        "id": "206d97a2"
      },
      "source": [
        "####  ¿Existen registros en blanco?"
      ]
    },
    {
      "cell_type": "code",
      "execution_count": null,
      "id": "81d1ae5c",
      "metadata": {
        "id": "81d1ae5c",
        "colab": {
          "base_uri": "https://localhost:8080/"
        },
        "outputId": "89e6f67b-2e5c-4be8-9b8e-d6c72033fc1b"
      },
      "outputs": [
        {
          "output_type": "stream",
          "name": "stdout",
          "text": [
            "no tiene registros en blancos\n"
          ]
        }
      ],
      "source": [
        "if df_pizzas.isna().sum().sum() > 0:\n",
        "  print(f'tiene registros en blanco')\n",
        "else:\n",
        "  print('no tiene registros en blancos')"
      ]
    },
    {
      "cell_type": "markdown",
      "id": "1c271165",
      "metadata": {
        "id": "1c271165"
      },
      "source": [
        "####  ¿Cuáles son las columnas que tiene este dataset?"
      ]
    },
    {
      "cell_type": "code",
      "execution_count": null,
      "id": "3b1cb76a",
      "metadata": {
        "id": "3b1cb76a",
        "colab": {
          "base_uri": "https://localhost:8080/"
        },
        "outputId": "71064473-1120-4905-d08d-9f017fff8976"
      },
      "outputs": [
        {
          "output_type": "stream",
          "name": "stdout",
          "text": [
            "las columnas que tiene el data set pizzas.csv son: \n",
            "pizza_id\n",
            "pizza_type_id\n",
            "size\n",
            "price\n"
          ]
        }
      ],
      "source": [
        "print(f'las columnas que tiene el data set pizzas.csv son: ')\n",
        "columns_of_orders = df_pizzas.columns.to_series()\n",
        "for c in columns_of_orders:\n",
        "  print (c)"
      ]
    },
    {
      "cell_type": "markdown",
      "id": "acb206a9",
      "metadata": {
        "id": "acb206a9"
      },
      "source": [
        "#### ¿Las columnas están cargadas con el tipo de dato correcto?"
      ]
    },
    {
      "cell_type": "code",
      "execution_count": null,
      "id": "80334d80",
      "metadata": {
        "id": "80334d80",
        "colab": {
          "base_uri": "https://localhost:8080/"
        },
        "outputId": "1cd8fbd4-bb42-4637-f6cd-a64d1d1840db"
      },
      "outputs": [
        {
          "output_type": "stream",
          "name": "stdout",
          "text": [
            "<class 'pandas.core.frame.DataFrame'>\n",
            "RangeIndex: 96 entries, 0 to 95\n",
            "Data columns (total 4 columns):\n",
            " #   Column         Non-Null Count  Dtype  \n",
            "---  ------         --------------  -----  \n",
            " 0   pizza_id       96 non-null     object \n",
            " 1   pizza_type_id  96 non-null     object \n",
            " 2   size           96 non-null     object \n",
            " 3   price          96 non-null     float64\n",
            "dtypes: float64(1), object(3)\n",
            "memory usage: 3.1+ KB\n",
            "las columnas 'pizza_id, pizza_type_id, size' son del tipo OBJECT. podrían ser del tipo 'string'\n"
          ]
        }
      ],
      "source": [
        "df_pizzas.info()\n",
        "print('las columnas \\'pizza_id, pizza_type_id, size\\' son del tipo OBJECT. podrían ser del tipo \\'string\\'')"
      ]
    },
    {
      "cell_type": "markdown",
      "id": "82f32f4c",
      "metadata": {
        "id": "82f32f4c"
      },
      "source": [
        "------"
      ]
    },
    {
      "cell_type": "markdown",
      "id": "05b624f0",
      "metadata": {
        "id": "05b624f0"
      },
      "source": [
        "#### Lee el archivo pizza_types"
      ]
    },
    {
      "cell_type": "code",
      "execution_count": null,
      "id": "836fe77a",
      "metadata": {
        "id": "836fe77a"
      },
      "outputs": [],
      "source": [
        "df_pizza_types = pd.read_csv(ruta+'pizza_types.csv', header=0, encoding='unicode_escape')"
      ]
    },
    {
      "cell_type": "markdown",
      "id": "815d5ac2",
      "metadata": {
        "id": "815d5ac2"
      },
      "source": [
        "#### Verifica que el archivo haya sido cargado correctamente"
      ]
    },
    {
      "cell_type": "code",
      "execution_count": null,
      "id": "989f122c",
      "metadata": {
        "id": "989f122c",
        "colab": {
          "base_uri": "https://localhost:8080/"
        },
        "outputId": "41a19872-26c9-46d0-f501-d74d929808a5"
      },
      "outputs": [
        {
          "output_type": "stream",
          "name": "stdout",
          "text": [
            "   pizza_type_id                                        name category  \\\n",
            "0        bbq_ckn                  The Barbecue Chicken Pizza  Chicken   \n",
            "1       cali_ckn                The California Chicken Pizza  Chicken   \n",
            "2    ckn_alfredo                   The Chicken Alfredo Pizza  Chicken   \n",
            "3      ckn_pesto                     The Chicken Pesto Pizza  Chicken   \n",
            "4     southw_ckn                 The Southwest Chicken Pizza  Chicken   \n",
            "5       thai_ckn                      The Thai Chicken Pizza  Chicken   \n",
            "6       big_meat                          The Big Meat Pizza  Classic   \n",
            "7    classic_dlx                    The Classic Deluxe Pizza  Classic   \n",
            "8       hawaiian                          The Hawaiian Pizza  Classic   \n",
            "9    ital_cpcllo                 The Italian Capocollo Pizza  Classic   \n",
            "10    napolitana                        The Napolitana Pizza  Classic   \n",
            "11   pep_msh_pep  The Pepperoni, Mushroom, and Peppers Pizza  Classic   \n",
            "12     pepperoni                         The Pepperoni Pizza  Classic   \n",
            "13     the_greek                             The Greek Pizza  Classic   \n",
            "14    brie_carre                        The Brie Carre Pizza  Supreme   \n",
            "15     calabrese                         The Calabrese Pizza  Supreme   \n",
            "16     ital_supr                   The Italian Supreme Pizza  Supreme   \n",
            "17  peppr_salami                     The Pepper Salami Pizza  Supreme   \n",
            "18    prsc_argla            The Prosciutto and Arugula Pizza  Supreme   \n",
            "19      sicilian                          The Sicilian Pizza  Supreme   \n",
            "20   soppressata                       The Soppressata Pizza  Supreme   \n",
            "21    spicy_ital                     The Spicy Italian Pizza  Supreme   \n",
            "22  spinach_supr                   The Spinach Supreme Pizza  Supreme   \n",
            "23   five_cheese                       The Five Cheese Pizza   Veggie   \n",
            "24   four_cheese                       The Four Cheese Pizza   Veggie   \n",
            "25  green_garden                      The Green Garden Pizza   Veggie   \n",
            "26   ital_veggie                The Italian Vegetables Pizza   Veggie   \n",
            "27  mediterraneo                     The Mediterranean Pizza   Veggie   \n",
            "28      mexicana                          The Mexicana Pizza   Veggie   \n",
            "29    spin_pesto                     The Spinach Pesto Pizza   Veggie   \n",
            "30   spinach_fet                  The Spinach and Feta Pizza   Veggie   \n",
            "31    veggie_veg           The Vegetables + Vegetables Pizza   Veggie   \n",
            "\n",
            "                                          ingredients  \n",
            "0   Barbecued Chicken, Red Peppers, Green Peppers,...  \n",
            "1   Chicken, Artichoke, Spinach, Garlic, Jalapeno ...  \n",
            "2   Chicken, Red Onions, Red Peppers, Mushrooms, A...  \n",
            "3   Chicken, Tomatoes, Red Peppers, Spinach, Garli...  \n",
            "4   Chicken, Tomatoes, Red Peppers, Red Onions, Ja...  \n",
            "5   Chicken, Pineapple, Tomatoes, Red Peppers, Tha...  \n",
            "6   Bacon, Pepperoni, Italian Sausage, Chorizo Sau...  \n",
            "7   Pepperoni, Mushrooms, Red Onions, Red Peppers,...  \n",
            "8            Sliced Ham, Pineapple, Mozzarella Cheese  \n",
            "9   Capocollo, Red Peppers, Tomatoes, Goat Cheese,...  \n",
            "10  Tomatoes, Anchovies, Green Olives, Red Onions,...  \n",
            "11                Pepperoni, Mushrooms, Green Peppers  \n",
            "12                       Mozzarella Cheese, Pepperoni  \n",
            "13  Kalamata Olives, Feta Cheese, Tomatoes, Garlic...  \n",
            "14  Brie Carre Cheese, Prosciutto, Caramelized Oni...  \n",
            "15  Nduja Salami, Pancetta, Tomatoes, Red Onions,...  \n",
            "16  Calabrese Salami, Capocollo, Tomatoes, Red Oni...  \n",
            "17  Genoa Salami, Capocollo, Pepperoni, Tomatoes, ...  \n",
            "18  Prosciutto di San Daniele, Arugula, Mozzarella...  \n",
            "19  Coarse Sicilian Salami, Tomatoes, Green Olives...  \n",
            "20  Soppressata Salami, Fontina Cheese, Mozzarella...  \n",
            "21  Capocollo, Tomatoes, Goat Cheese, Artichokes, ...  \n",
            "22  Spinach, Red Onions, Pepperoni, Tomatoes, Arti...  \n",
            "23  Mozzarella Cheese, Provolone Cheese, Smoked Go...  \n",
            "24  Ricotta Cheese, Gorgonzola Piccante Cheese, Mo...  \n",
            "25  Spinach, Mushrooms, Tomatoes, Green Olives, Fe...  \n",
            "26  Eggplant, Artichokes, Tomatoes, Zucchini, Red ...  \n",
            "27  Spinach, Artichokes, Kalamata Olives, Sun-drie...  \n",
            "28  Tomatoes, Red Peppers, Jalapeno Peppers, Red O...  \n",
            "29  Spinach, Artichokes, Tomatoes, Sun-dried Tomat...  \n",
            "30  Spinach, Mushrooms, Red Onions, Feta Cheese, G...  \n",
            "31  Mushrooms, Tomatoes, Red Peppers, Green Pepper...  \n"
          ]
        }
      ],
      "source": [
        "print(df_pizza_types)"
      ]
    },
    {
      "cell_type": "markdown",
      "id": "ed53b5b9",
      "metadata": {
        "id": "ed53b5b9"
      },
      "source": [
        "#### ¿Cuántos registros tiene el conjunto de datos?"
      ]
    },
    {
      "cell_type": "code",
      "execution_count": null,
      "id": "3c892edc",
      "metadata": {
        "id": "3c892edc",
        "colab": {
          "base_uri": "https://localhost:8080/"
        },
        "outputId": "30fba4a1-b43f-47f6-9668-d56496f4e602"
      },
      "outputs": [
        {
          "output_type": "stream",
          "name": "stdout",
          "text": [
            "Cantidad de registros del conjunto de datos: 32\n"
          ]
        }
      ],
      "source": [
        "n_df_pizza_types = df_pizza_types.count(0)\n",
        "print(f'Cantidad de registros del conjunto de datos: {n_df_pizza_types.pizza_type_id}')"
      ]
    },
    {
      "cell_type": "markdown",
      "id": "9d616c5f",
      "metadata": {
        "id": "9d616c5f"
      },
      "source": [
        "####  ¿Existen registros en blanco?"
      ]
    },
    {
      "cell_type": "code",
      "execution_count": null,
      "id": "e62d0471",
      "metadata": {
        "id": "e62d0471",
        "colab": {
          "base_uri": "https://localhost:8080/"
        },
        "outputId": "12a46cc7-daf4-45c9-b5b3-abb5180eb011"
      },
      "outputs": [
        {
          "output_type": "stream",
          "name": "stdout",
          "text": [
            "no tiene registros en blancos\n"
          ]
        }
      ],
      "source": [
        "if df_pizza_types.isna().sum().sum() > 0:\n",
        "  print(f'tiene registros en blanco')\n",
        "else:\n",
        "  print('no tiene registros en blancos')"
      ]
    },
    {
      "cell_type": "markdown",
      "id": "64f9eea5",
      "metadata": {
        "id": "64f9eea5"
      },
      "source": [
        "####  ¿Cuáles son las columnas que tiene este dataset?"
      ]
    },
    {
      "cell_type": "code",
      "execution_count": null,
      "id": "ab387ae6",
      "metadata": {
        "id": "ab387ae6",
        "colab": {
          "base_uri": "https://localhost:8080/"
        },
        "outputId": "4d7062a5-2088-4e10-99e1-c177b4cb1dcb"
      },
      "outputs": [
        {
          "output_type": "stream",
          "name": "stdout",
          "text": [
            "las columnas que tiene el data set pizza_types.csv son: \n",
            "pizza_type_id\n",
            "name\n",
            "category\n",
            "ingredients\n"
          ]
        }
      ],
      "source": [
        "print(f'las columnas que tiene el data set pizza_types.csv son: ')\n",
        "columns_of_orders = df_pizza_types.columns.to_series()\n",
        "for c in columns_of_orders:\n",
        "  print (c)"
      ]
    },
    {
      "cell_type": "markdown",
      "id": "a08f7502",
      "metadata": {
        "id": "a08f7502"
      },
      "source": [
        "#### ¿Las columnas están cargadas con el tipo de dato correcto?"
      ]
    },
    {
      "cell_type": "code",
      "execution_count": null,
      "id": "7d4f19bf",
      "metadata": {
        "id": "7d4f19bf",
        "colab": {
          "base_uri": "https://localhost:8080/"
        },
        "outputId": "043cd7d6-51cb-489e-f4d4-335b398b9e12"
      },
      "outputs": [
        {
          "output_type": "stream",
          "name": "stdout",
          "text": [
            "las columnas 'pizza_type_id, name, category, ingredients' son del tipo OBJECT. Podrían ser del tipo 'string'\n"
          ]
        }
      ],
      "source": [
        "print('las columnas \\'pizza_type_id, name, category, ingredients\\' son del tipo OBJECT. Podrían ser del tipo \\'string\\'')"
      ]
    },
    {
      "cell_type": "markdown",
      "id": "a84468c2",
      "metadata": {
        "id": "a84468c2"
      },
      "source": [
        "### Inicio de EDA"
      ]
    },
    {
      "cell_type": "markdown",
      "id": "910ed75f",
      "metadata": {
        "id": "910ed75f"
      },
      "source": [
        "#### ¿A qué periodo corresponden las ventas?"
      ]
    },
    {
      "cell_type": "code",
      "execution_count": null,
      "id": "b96a7e71",
      "metadata": {
        "id": "b96a7e71",
        "colab": {
          "base_uri": "https://localhost:8080/"
        },
        "outputId": "576a9ac8-a5c8-459b-9277-f06878647961"
      },
      "outputs": [
        {
          "output_type": "stream",
          "name": "stdout",
          "text": [
            "Las ventas corresponde al periodo entre 2015-01-01 00:00:00 y 2015-12-31 00:00:00\n"
          ]
        }
      ],
      "source": [
        "orders = df_orders.sort_values(by=['date'], ascending=True)\n",
        "start_date = orders.head(1)\n",
        "end_date = orders.tail(1)\n",
        "print(f'Las ventas corresponde al periodo entre {start_date.iloc[0,1]} y {end_date.iloc[0,1]}')"
      ]
    },
    {
      "cell_type": "markdown",
      "id": "6d3a0f29",
      "metadata": {
        "id": "6d3a0f29"
      },
      "source": [
        "#### ¿Cuántos fueron los pedidos por mes?"
      ]
    },
    {
      "cell_type": "code",
      "execution_count": null,
      "id": "bf0efe38",
      "metadata": {
        "id": "bf0efe38",
        "colab": {
          "base_uri": "https://localhost:8080/"
        },
        "outputId": "126976b7-26c1-4bcb-9cc1-d667e5b4d9bb"
      },
      "outputs": [
        {
          "output_type": "execute_result",
          "data": {
            "text/plain": [
              "date\n",
              "2015-01-31    1845\n",
              "2015-02-28    1685\n",
              "2015-03-31    1840\n",
              "2015-04-30    1799\n",
              "2015-05-31    1853\n",
              "2015-06-30    1773\n",
              "2015-07-31    1935\n",
              "2015-08-31    1841\n",
              "2015-09-30    1661\n",
              "2015-10-31    1646\n",
              "2015-11-30    1792\n",
              "2015-12-31    1680\n",
              "Freq: M, Name: order_id, dtype: int64"
            ]
          },
          "metadata": {},
          "execution_count": 13
        }
      ],
      "source": [
        "df_orders.resample('M', on='date')['order_id'].count()"
      ]
    },
    {
      "cell_type": "markdown",
      "id": "fe3e1cc8",
      "metadata": {
        "id": "fe3e1cc8"
      },
      "source": [
        "#### Haz un gráfico que permita visualizar la cantidad de pedidos por mes"
      ]
    },
    {
      "cell_type": "code",
      "execution_count": null,
      "id": "827d3586",
      "metadata": {
        "id": "827d3586",
        "colab": {
          "base_uri": "https://localhost:8080/",
          "height": 295
        },
        "outputId": "26c29630-6ab3-41e9-b14f-81046e7fea0c"
      },
      "outputs": [
        {
          "output_type": "display_data",
          "data": {
            "text/plain": [
              "<Figure size 432x288 with 1 Axes>"
            ],
            "image/png": "[encoded data removed]"
          },
          "metadata": {
            "needs_background": "light"
          }
        }
      ],
      "source": [
        "monthly_orders = df_orders.resample('M', on='date').count()\n",
        "plt.plot(months, monthly_orders.order_id)\n",
        "plt.title('Pedidos por mes')\n",
        "plt.xlabel('Meses')\n",
        "plt.ylabel('Cantidad de Pedidos')\n",
        "plt.show()"
      ]
    },
    {
      "cell_type": "markdown",
      "id": "70010cd4",
      "metadata": {
        "id": "70010cd4"
      },
      "source": [
        "#### ¿Cuál fue el promedio de pedidos mensual?"
      ]
    },
    {
      "cell_type": "code",
      "execution_count": null,
      "id": "1559e897",
      "metadata": {
        "id": "1559e897",
        "colab": {
          "base_uri": "https://localhost:8080/"
        },
        "outputId": "634becc4-4823-4ef1-e10d-ba8c1f652416"
      },
      "outputs": [
        {
          "output_type": "stream",
          "name": "stdout",
          "text": [
            "El promedio de pedidos mensual es: 1779.1666666666667\n"
          ]
        }
      ],
      "source": [
        "mean = df_orders.resample('M', on='date')['order_id'].count().mean()\n",
        "print(f'El promedio de pedidos mensual es: {mean}')"
      ]
    },
    {
      "cell_type": "markdown",
      "id": "4722b7b2",
      "metadata": {
        "id": "4722b7b2"
      },
      "source": [
        "Para poder responder varias de las siguientes preguntas deberás realizar la transformación de los datos, que irá desde la unión de varios DataFrames hasta el calculo de nuevas columnas"
      ]
    },
    {
      "cell_type": "code",
      "execution_count": null,
      "id": "5cc36387",
      "metadata": {
        "id": "5cc36387"
      },
      "outputs": [],
      "source": [
        "merge_orders_x_details = pd.merge(df_orders, df_order_details, on='order_id')\n",
        "merge_orders_x_pizzas = pd.merge(merge_orders_x_details, df_pizzas, on='pizza_id')"
      ]
    },
    {
      "cell_type": "markdown",
      "id": "e7a0c5d6",
      "metadata": {
        "id": "e7a0c5d6"
      },
      "source": [
        "#### ¿Cuántas pizzas se vendieron por mes y cuánto se facturó?"
      ]
    },
    {
      "cell_type": "code",
      "execution_count": null,
      "id": "c6e85654",
      "metadata": {
        "id": "c6e85654",
        "colab": {
          "base_uri": "https://localhost:8080/",
          "height": 457
        },
        "outputId": "7674cdb3-1ef7-47dc-bc4f-26b81d41fe83"
      },
      "outputs": [
        {
          "output_type": "execute_result",
          "data": {
            "text/plain": [
              "            quantity    profit\n",
              "date                          \n",
              "2015-01-31      4232  69793.30\n",
              "2015-02-28      3961  65159.60\n",
              "2015-03-31      4261  70397.10\n",
              "2015-04-30      4151  68736.80\n",
              "2015-05-31      4328  71402.75\n",
              "2015-06-30      4107  68230.20\n",
              "2015-07-31      4392  72557.90\n",
              "2015-08-31      4168  68278.25\n",
              "2015-09-30      3890  64180.05\n",
              "2015-10-31      3883  64027.60\n",
              "2015-11-30      4266  70395.35\n",
              "2015-12-31      3935  64701.15"
            ],
            "text/html": [
              "\n",
              "  <div id=\"df-34dc06f3-1c15-4ef5-9a40-9fb3fd7e63c5\">\n",
              "    <div class=\"colab-df-container\">\n",
              "      <div>\n",
              "<style scoped>\n",
              "    .dataframe tbody tr th:only-of-type {\n",
              "        vertical-align: middle;\n",
              "    }\n",
              "\n",
              "    .dataframe tbody tr th {\n",
              "        vertical-align: top;\n",
              "    }\n",
              "\n",
              "    .dataframe thead th {\n",
              "        text-align: right;\n",
              "    }\n",
              "</style>\n",
              "<table border=\"1\" class=\"dataframe\">\n",
              "  <thead>\n",
              "    <tr style=\"text-align: right;\">\n",
              "      <th></th>\n",
              "      <th>quantity</th>\n",
              "      <th>profit</th>\n",
              "    </tr>\n",
              "    <tr>\n",
              "      <th>date</th>\n",
              "      <th></th>\n",
              "      <th></th>\n",
              "    </tr>\n",
              "  </thead>\n",
              "  <tbody>\n",
              "    <tr>\n",
              "      <th>2015-01-31</th>\n",
              "      <td>4232</td>\n",
              "      <td>69793.30</td>\n",
              "    </tr>\n",
              "    <tr>\n",
              "      <th>2015-02-28</th>\n",
              "      <td>3961</td>\n",
              "      <td>65159.60</td>\n",
              "    </tr>\n",
              "    <tr>\n",
              "      <th>2015-03-31</th>\n",
              "      <td>4261</td>\n",
              "      <td>70397.10</td>\n",
              "    </tr>\n",
              "    <tr>\n",
              "      <th>2015-04-30</th>\n",
              "      <td>4151</td>\n",
              "      <td>68736.80</td>\n",
              "    </tr>\n",
              "    <tr>\n",
              "      <th>2015-05-31</th>\n",
              "      <td>4328</td>\n",
              "      <td>71402.75</td>\n",
              "    </tr>\n",
              "    <tr>\n",
              "      <th>2015-06-30</th>\n",
              "      <td>4107</td>\n",
              "      <td>68230.20</td>\n",
              "    </tr>\n",
              "    <tr>\n",
              "      <th>2015-07-31</th>\n",
              "      <td>4392</td>\n",
              "      <td>72557.90</td>\n",
              "    </tr>\n",
              "    <tr>\n",
              "      <th>2015-08-31</th>\n",
              "      <td>4168</td>\n",
              "      <td>68278.25</td>\n",
              "    </tr>\n",
              "    <tr>\n",
              "      <th>2015-09-30</th>\n",
              "      <td>3890</td>\n",
              "      <td>64180.05</td>\n",
              "    </tr>\n",
              "    <tr>\n",
              "      <th>2015-10-31</th>\n",
              "      <td>3883</td>\n",
              "      <td>64027.60</td>\n",
              "    </tr>\n",
              "    <tr>\n",
              "      <th>2015-11-30</th>\n",
              "      <td>4266</td>\n",
              "      <td>70395.35</td>\n",
              "    </tr>\n",
              "    <tr>\n",
              "      <th>2015-12-31</th>\n",
              "      <td>3935</td>\n",
              "      <td>64701.15</td>\n",
              "    </tr>\n",
              "  </tbody>\n",
              "</table>\n",
              "</div>\n",
              "      <button class=\"colab-df-convert\" onclick=\"convertToInteractive('df-34dc06f3-1c15-4ef5-9a40-9fb3fd7e63c5')\"\n",
              "              title=\"Convert this dataframe to an interactive table.\"\n",
              "              style=\"display:none;\">\n",
              "        \n",
              "  <svg xmlns=\"http://www.w3.org/2000/svg\" height=\"24px\"viewBox=\"0 0 24 24\"\n",
              "       width=\"24px\">\n",
              "    <path d=\"M0 0h24v24H0V0z\" fill=\"none\"/>\n",
              "    <path d=\"M18.56 5.44l.94 2.06.94-2.06 2.06-.94-2.06-.94-.94-2.06-.94 2.06-2.06.94zm-11 1L8.5 8.5l.94-2.06 2.06-.94-2.06-.94L8.5 2.5l-.94 2.06-2.06.94zm10 10l.94 2.06.94-2.06 2.06-.94-2.06-.94-.94-2.06-.94 2.06-2.06.94z\"/><path d=\"M17.41 7.96l-1.37-1.37c-.4-.4-.92-.59-1.43-.59-.52 0-1.04.2-1.43.59L10.3 9.45l-7.72 7.72c-.78.78-.78 2.05 0 2.83L4 21.41c.39.39.9.59 1.41.59.51 0 1.02-.2 1.41-.59l7.78-7.78 2.81-2.81c.8-.78.8-2.07 0-2.86zM5.41 20L4 18.59l7.72-7.72 1.47 1.35L5.41 20z\"/>\n",
              "  </svg>\n",
              "      </button>\n",
              "      \n",
              "  <style>\n",
              "    .colab-df-container {\n",
              "      display:flex;\n",
              "      flex-wrap:wrap;\n",
              "      gap: 12px;\n",
              "    }\n",
              "\n",
              "    .colab-df-convert {\n",
              "      background-color: #E8F0FE;\n",
              "      border: none;\n",
              "      border-radius: 50%;\n",
              "      cursor: pointer;\n",
              "      display: none;\n",
              "      fill: #1967D2;\n",
              "      height: 32px;\n",
              "      padding: 0 0 0 0;\n",
              "      width: 32px;\n",
              "    }\n",
              "\n",
              "    .colab-df-convert:hover {\n",
              "      background-color: #E2EBFA;\n",
              "      box-shadow: 0px 1px 2px rgba(60, 64, 67, 0.3), 0px 1px 3px 1px rgba(60, 64, 67, 0.15);\n",
              "      fill: #174EA6;\n",
              "    }\n",
              "\n",
              "    [theme=dark] .colab-df-convert {\n",
              "      background-color: #3B4455;\n",
              "      fill: #D2E3FC;\n",
              "    }\n",
              "\n",
              "    [theme=dark] .colab-df-convert:hover {\n",
              "      background-color: #434B5C;\n",
              "      box-shadow: 0px 1px 3px 1px rgba(0, 0, 0, 0.15);\n",
              "      filter: drop-shadow(0px 1px 2px rgba(0, 0, 0, 0.3));\n",
              "      fill: #FFFFFF;\n",
              "    }\n",
              "  </style>\n",
              "\n",
              "      <script>\n",
              "        const buttonEl =\n",
              "          document.querySelector('#df-34dc06f3-1c15-4ef5-9a40-9fb3fd7e63c5 button.colab-df-convert');\n",
              "        buttonEl.style.display =\n",
              "          google.colab.kernel.accessAllowed ? 'block' : 'none';\n",
              "\n",
              "        async function convertToInteractive(key) {\n",
              "          const element = document.querySelector('#df-34dc06f3-1c15-4ef5-9a40-9fb3fd7e63c5');\n",
              "          const dataTable =\n",
              "            await google.colab.kernel.invokeFunction('convertToInteractive',\n",
              "                                                     [key], {});\n",
              "          if (!dataTable) return;\n",
              "\n",
              "          const docLinkHtml = 'Like what you see? Visit the ' +\n",
              "            '<a target=\"_blank\" href=https://colab.research.google.com/notebooks/data_table.ipynb>data table notebook</a>'\n",
              "            + ' to learn more about interactive tables.';\n",
              "          element.innerHTML = '';\n",
              "          dataTable['output_type'] = 'display_data';\n",
              "          await google.colab.output.renderOutput(dataTable, element);\n",
              "          const docLink = document.createElement('div');\n",
              "          docLink.innerHTML = docLinkHtml;\n",
              "          element.appendChild(docLink);\n",
              "        }\n",
              "      </script>\n",
              "    </div>\n",
              "  </div>\n",
              "  "
            ]
          },
          "metadata": {},
          "execution_count": 20
        }
      ],
      "source": [
        "merge_orders_x_pizzas['profit'] = merge_orders_x_pizzas['price'] * merge_orders_x_pizzas['quantity']    # agregamos el cálculo de precio por cantidad por cada pedido\n",
        "merge_orders_x_pizzas.index = merge_orders_x_pizzas['date']\n",
        "merge_orders_x_pizzas['date'] = pd.to_datetime(merge_orders_x_pizzas['date'])                           # formateamos el objeto al tipo date\n",
        "merge_orders_x_pizzas['month'] = merge_orders_x_pizzas['date'].dt.month                                 # añadimos una columna con el número de mes\n",
        "merge_orders_x_pizzas.resample('M')['quantity', 'profit'].sum()                                         # agrupamos cantidad de pizzas por mes"
      ]
    },
    {
      "cell_type": "markdown",
      "id": "9768f290",
      "metadata": {
        "id": "9768f290"
      },
      "source": [
        "#### Haz gráficos que permitan visualizar la cantidad de pizzas vendidas y la facturación por mes"
      ]
    },
    {
      "cell_type": "code",
      "execution_count": null,
      "id": "f2188478",
      "metadata": {
        "id": "f2188478",
        "colab": {
          "base_uri": "https://localhost:8080/",
          "height": 620
        },
        "outputId": "9fcc66b1-4abe-4bda-fc72-d14b5a7d638f"
      },
      "outputs": [
        {
          "output_type": "error",
          "ename": "TypeError",
          "evalue": "ignored",
          "traceback": [
            "\u001b[0;31m---------------------------------------------------------------------------\u001b[0m",
            "\u001b[0;31mTypeError\u001b[0m                                 Traceback (most recent call last)",
            "\u001b[0;32m<ipython-input-58-ba2b1e428d6a>\u001b[0m in \u001b[0;36m<module>\u001b[0;34m\u001b[0m\n\u001b[1;32m      7\u001b[0m \u001b[0max1\u001b[0m\u001b[0;34m.\u001b[0m\u001b[0mset_ylabel\u001b[0m\u001b[0;34m(\u001b[0m\u001b[0;34m'Cantidad'\u001b[0m\u001b[0;34m)\u001b[0m\u001b[0;34m\u001b[0m\u001b[0;34m\u001b[0m\u001b[0m\n\u001b[1;32m      8\u001b[0m \u001b[0mminimo\u001b[0m \u001b[0;34m=\u001b[0m \u001b[0mmerge_orders_x_pizzas\u001b[0m\u001b[0;34m.\u001b[0m\u001b[0mresample\u001b[0m\u001b[0;34m(\u001b[0m\u001b[0;34m'Y'\u001b[0m\u001b[0;34m)\u001b[0m\u001b[0;34m[\u001b[0m\u001b[0;34m'quantity'\u001b[0m\u001b[0;34m]\u001b[0m\u001b[0;34m.\u001b[0m\u001b[0mmin\u001b[0m\u001b[0;34m(\u001b[0m\u001b[0;34m)\u001b[0m\u001b[0;34m\u001b[0m\u001b[0;34m\u001b[0m\u001b[0m\n\u001b[0;32m----> 9\u001b[0;31m \u001b[0max1\u001b[0m\u001b[0;34m.\u001b[0m\u001b[0mset_ylim\u001b[0m\u001b[0;34m(\u001b[0m\u001b[0mbottom\u001b[0m\u001b[0;34m=\u001b[0m\u001b[0mminimo\u001b[0m\u001b[0;34m.\u001b[0m\u001b[0mto_list\u001b[0m\u001b[0;34m,\u001b[0m \u001b[0mtop\u001b[0m\u001b[0;34m=\u001b[0m\u001b[0;36m5000\u001b[0m\u001b[0;34m)\u001b[0m\u001b[0;34m\u001b[0m\u001b[0;34m\u001b[0m\u001b[0m\n\u001b[0m\u001b[1;32m     10\u001b[0m \u001b[0max1\u001b[0m\u001b[0;34m.\u001b[0m\u001b[0mbar\u001b[0m\u001b[0;34m(\u001b[0m\u001b[0mmonths\u001b[0m\u001b[0;34m,\u001b[0m \u001b[0mquantity\u001b[0m\u001b[0;34m)\u001b[0m\u001b[0;34m\u001b[0m\u001b[0;34m\u001b[0m\u001b[0m\n\u001b[1;32m     11\u001b[0m \u001b[0max2\u001b[0m\u001b[0;34m.\u001b[0m\u001b[0mset_title\u001b[0m\u001b[0;34m(\u001b[0m\u001b[0;34m'Facturación por mes'\u001b[0m\u001b[0;34m)\u001b[0m\u001b[0;34m\u001b[0m\u001b[0;34m\u001b[0m\u001b[0m\n",
            "\u001b[0;32m/usr/local/lib/python3.7/dist-packages/matplotlib/axes/_base.py\u001b[0m in \u001b[0;36mset_ylim\u001b[0;34m(self, bottom, top, emit, auto, ymin, ymax)\u001b[0m\n\u001b[1;32m   3608\u001b[0m                 \u001b[0;34mf\"results in singular transformations; automatically \"\u001b[0m\u001b[0;34m\u001b[0m\u001b[0;34m\u001b[0m\u001b[0m\n\u001b[1;32m   3609\u001b[0m                 f\"expanding.\")\n\u001b[0;32m-> 3610\u001b[0;31m         \u001b[0mreverse\u001b[0m \u001b[0;34m=\u001b[0m \u001b[0mbottom\u001b[0m \u001b[0;34m>\u001b[0m \u001b[0mtop\u001b[0m\u001b[0;34m\u001b[0m\u001b[0;34m\u001b[0m\u001b[0m\n\u001b[0m\u001b[1;32m   3611\u001b[0m         \u001b[0mbottom\u001b[0m\u001b[0;34m,\u001b[0m \u001b[0mtop\u001b[0m \u001b[0;34m=\u001b[0m \u001b[0mself\u001b[0m\u001b[0;34m.\u001b[0m\u001b[0myaxis\u001b[0m\u001b[0;34m.\u001b[0m\u001b[0mget_major_locator\u001b[0m\u001b[0;34m(\u001b[0m\u001b[0;34m)\u001b[0m\u001b[0;34m.\u001b[0m\u001b[0mnonsingular\u001b[0m\u001b[0;34m(\u001b[0m\u001b[0mbottom\u001b[0m\u001b[0;34m,\u001b[0m \u001b[0mtop\u001b[0m\u001b[0;34m)\u001b[0m\u001b[0;34m\u001b[0m\u001b[0;34m\u001b[0m\u001b[0m\n\u001b[1;32m   3612\u001b[0m         \u001b[0mbottom\u001b[0m\u001b[0;34m,\u001b[0m \u001b[0mtop\u001b[0m \u001b[0;34m=\u001b[0m \u001b[0mself\u001b[0m\u001b[0;34m.\u001b[0m\u001b[0myaxis\u001b[0m\u001b[0;34m.\u001b[0m\u001b[0mlimit_range_for_scale\u001b[0m\u001b[0;34m(\u001b[0m\u001b[0mbottom\u001b[0m\u001b[0;34m,\u001b[0m \u001b[0mtop\u001b[0m\u001b[0;34m)\u001b[0m\u001b[0;34m\u001b[0m\u001b[0;34m\u001b[0m\u001b[0m\n",
            "\u001b[0;31mTypeError\u001b[0m: '>' not supported between instances of 'method' and 'int'"
          ]
        },
        {
          "output_type": "display_data",
          "data": {
            "text/plain": [
              "<Figure size 432x288 with 4 Axes>"
            ],
            "image/png": "[encoded data removed]"
          },
          "metadata": {
            "needs_background": "light"
          }
        }
      ],
      "source": [
        "fig, axes = plt.subplots(2)\n",
        "ax1 = fig.add_subpl\n",
        "ax2 = fig.add_subplot(2,1, 2)\n",
        "quantity = merge_orders_x_pizzas.resample('M')['quantity'].sum()\n",
        "ax1.set_title('Cantidad de Pizzas vendidas')\n",
        "ax1.set_xlabel('Meses')\n",
        "ax1.set_ylabel('Cantidad')\n",
        "\n",
        "ax1.set_ylim(bottom=minimo.to_list, top=5000)\n",
        "ax1.bar(months, quantity)\n",
        "ax2.set_title('Facturación por mes')\n",
        "ax2.set_xlabel('Meses')\n",
        "ax2.set_ylabel('Facturación')\n",
        "profit = merge_orders_x_pizzas.resample('M')['profit'].sum()\n",
        "ax2.bar(months, profit)\n",
        "plt.subplots_adjust(wspace=0, hspace=2)\n",
        "\n",
        "plt.show()"
      ]
    },
    {
      "cell_type": "markdown",
      "id": "06067302",
      "metadata": {
        "id": "06067302"
      },
      "source": [
        "#### ¿En qué mes se tuvo la menor venta y cuál fue el importe facturado?"
      ]
    },
    {
      "cell_type": "code",
      "execution_count": null,
      "id": "609e6b17",
      "metadata": {
        "id": "609e6b17"
      },
      "outputs": [],
      "source": []
    },
    {
      "cell_type": "markdown",
      "id": "5a839aa1",
      "metadata": {
        "id": "5a839aa1"
      },
      "source": [
        "#### ¿En qué mes  se tuvo la mayor venta y cuál fue el importe facturado?"
      ]
    },
    {
      "cell_type": "code",
      "execution_count": null,
      "id": "5118d10c",
      "metadata": {
        "id": "5118d10c"
      },
      "outputs": [],
      "source": []
    },
    {
      "cell_type": "markdown",
      "id": "32cd33cc",
      "metadata": {
        "id": "32cd33cc"
      },
      "source": [
        "#### ¿Cuál es el promedio general de ventas por días de la semana?"
      ]
    },
    {
      "cell_type": "code",
      "execution_count": null,
      "id": "42108665",
      "metadata": {
        "id": "42108665"
      },
      "outputs": [],
      "source": []
    },
    {
      "cell_type": "markdown",
      "id": "6e252e96",
      "metadata": {
        "id": "6e252e96"
      },
      "source": [
        "#### Haz un gráfico de tipo heatmap u otro que ayude a visualizar mejor la información"
      ]
    },
    {
      "cell_type": "code",
      "execution_count": null,
      "id": "b78f5b3a",
      "metadata": {
        "id": "b78f5b3a"
      },
      "outputs": [],
      "source": []
    },
    {
      "cell_type": "markdown",
      "id": "38bc822d",
      "metadata": {
        "id": "38bc822d"
      },
      "source": [
        "#### Analiza el comportamiento de ventas mensual (Suma,Promedio, Mediana,mínimo,máximo,desviación estandart) según la cantidad de pizzas vendidas"
      ]
    },
    {
      "cell_type": "code",
      "execution_count": null,
      "id": "e410ac5f",
      "metadata": {
        "id": "e410ac5f"
      },
      "outputs": [],
      "source": []
    },
    {
      "cell_type": "markdown",
      "id": "1569b5ac",
      "metadata": {
        "id": "1569b5ac"
      },
      "source": [
        "#### ¿Cuántas pizzas se vendieron en total?"
      ]
    },
    {
      "cell_type": "code",
      "execution_count": null,
      "id": "86c0196f",
      "metadata": {
        "id": "86c0196f"
      },
      "outputs": [],
      "source": []
    },
    {
      "cell_type": "markdown",
      "id": "56c8c89d",
      "metadata": {
        "id": "56c8c89d"
      },
      "source": [
        "####  ¿Cúal es el nombre de la pizza que más se vende?"
      ]
    },
    {
      "cell_type": "code",
      "execution_count": null,
      "id": "48b6a6fd",
      "metadata": {
        "id": "48b6a6fd"
      },
      "outputs": [],
      "source": []
    },
    {
      "cell_type": "markdown",
      "id": "66436a2c",
      "metadata": {
        "id": "66436a2c"
      },
      "source": [
        "####  ¿Cúal es el nombre de la pizza que menos se vende?"
      ]
    },
    {
      "cell_type": "code",
      "execution_count": null,
      "id": "71abb677",
      "metadata": {
        "id": "71abb677"
      },
      "outputs": [],
      "source": []
    },
    {
      "cell_type": "markdown",
      "id": "2f1ec972",
      "metadata": {
        "id": "2f1ec972"
      },
      "source": [
        "#### ¿Cuál es el top 10 de sabores de pizzas más vendidas?"
      ]
    },
    {
      "cell_type": "code",
      "execution_count": null,
      "id": "57cc9ece",
      "metadata": {
        "id": "57cc9ece"
      },
      "outputs": [],
      "source": []
    },
    {
      "cell_type": "markdown",
      "id": "d10aafa5",
      "metadata": {
        "id": "d10aafa5"
      },
      "source": [
        "#### ¿Cómo son las ventas totales por tamaño de pizzas?"
      ]
    },
    {
      "cell_type": "code",
      "execution_count": null,
      "id": "69f56681",
      "metadata": {
        "id": "69f56681"
      },
      "outputs": [],
      "source": []
    },
    {
      "cell_type": "code",
      "execution_count": null,
      "id": "1f2580cc",
      "metadata": {
        "id": "1f2580cc"
      },
      "outputs": [],
      "source": []
    },
    {
      "cell_type": "markdown",
      "id": "a4efb806",
      "metadata": {
        "id": "a4efb806"
      },
      "source": [
        "####  ¿Cuántas pizzas según el nombre y tamaño se vendieron?"
      ]
    },
    {
      "cell_type": "code",
      "execution_count": null,
      "id": "e8277bad",
      "metadata": {
        "id": "e8277bad"
      },
      "outputs": [],
      "source": []
    },
    {
      "cell_type": "code",
      "execution_count": null,
      "id": "ba65d811",
      "metadata": {
        "id": "ba65d811"
      },
      "outputs": [],
      "source": []
    },
    {
      "cell_type": "markdown",
      "id": "a55ab3c5",
      "metadata": {
        "id": "a55ab3c5"
      },
      "source": [
        "#### Haz un gráfico que permita visualizar la ventas por tamaño de pizzas"
      ]
    },
    {
      "cell_type": "code",
      "execution_count": null,
      "id": "3abe91a9",
      "metadata": {
        "id": "3abe91a9"
      },
      "outputs": [],
      "source": []
    }
  ],
  "metadata": {
    "kernelspec": {
      "display_name": "Python 3 (ipykernel)",
      "language": "python",
      "name": "python3"
    },
    "language_info": {
      "codemirror_mode": {
        "name": "ipython",
        "version": 3
      },
      "file_extension": ".py",
      "mimetype": "text/x-python",
      "name": "python",
      "nbconvert_exporter": "python",
      "pygments_lexer": "ipython3",
      "version": "3.9.7"
    },
    "colab": {
      "provenance": [],
      "include_colab_link": true
    }
  },
  "nbformat": 4,
  "nbformat_minor": 5
}