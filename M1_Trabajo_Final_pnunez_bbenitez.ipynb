{
  "cells": [
    {
      "cell_type": "markdown",
      "metadata": {
        "id": "view-in-github",
        "colab_type": "text"
      },
      "source": [
        "<a href=\"https://colab.research.google.com/github/pablonunez81/ucom_intro_prog_final_work/blob/main/M1_Trabajo_Final_pnunez_bbenitez.ipynb\" target=\"_parent\"><img src=\"https://colab.research.google.com/assets/colab-badge.svg\" alt=\"Open In Colab\"/></a>"
      ]
    },
    {
      "cell_type": "markdown",
      "id": "58da0e8e",
      "metadata": {
        "id": "58da0e8e"
      },
      "source": [
        "#  Trabajo Final - M1 Introducción a la programación para Ciencia de datos"
      ]
    },
    {
      "cell_type": "markdown",
      "source": [
        "#INTEGRANTES DEL GRUPO (Completar aquí)\n",
        "\n",
        "1. 2.876.596, Pablo Núñez\n",
        "2. NRO DOCUMENTO IDENTIDAD, APELLIDO Y NOMBRE"
      ],
      "metadata": {
        "id": "fpLvonBMKn7U"
      },
      "id": "fpLvonBMKn7U"
    },
    {
      "cell_type": "markdown",
      "id": "3d01f576",
      "metadata": {
        "id": "3d01f576"
      },
      "source": [
        "###  Contexto"
      ]
    },
    {
      "cell_type": "markdown",
      "id": "11d56c8a",
      "metadata": {
        "id": "11d56c8a"
      },
      "source": [
        "Una empresa que vende Pizzas te ha contratado para que puedas ayudarlos a mejorar sus estrategias de negocios basándose en los datos. Para el efecto te han compartido los siguientes conjuntos de datos:\n",
        "1.\t**Orders**: contiene la fecha y la hora en que se realizaron todos los pedidos de la mesa.\n",
        "2.\t**Order_detail**: contiene las diferentes pizzas servidas con cada pedido en la tabla **Orders** y sus cantidades.\n",
        "3.\t**Pizzas**: contiene el tamaño y el precio de cada pizza distinta en la tabla **Order_detail**, así como su tipo de pizza más amplio.\n",
        "4.\t**Pizza_types**: contiene detalles sobre los tipos de pizza en la tabla **Pizzas**, incluido su nombre tal como aparece en el menú, la categoría a la que pertenece y su lista de ingredientes.\n",
        "\n",
        "Tu misión como analista de datos será realizar el análisis exploratorio de datos \"EDA“, por sus siglas en inglés, para analizar la información, buscar patrones en los datos y poder responder a las diferentes preguntas de negocio que interesan a la empresa.\n",
        "\n",
        "Los pasos requeridos para el análisis se encuentran detallados en el archivo:  **M1 Trabajo Final.ipynb**\n",
        "\n",
        "El trabajo consiste en desarrollar las celdas de código en **M1 Trabajo Final.ipynb** y presentar el archivo final resultante en el formato “.iypynb”\n"
      ]
    },
    {
      "cell_type": "markdown",
      "id": "2e03cd50",
      "metadata": {
        "id": "2e03cd50"
      },
      "source": [
        "###  Importación de las librerías"
      ]
    },
    {
      "cell_type": "markdown",
      "id": "a1084287",
      "metadata": {
        "id": "a1084287"
      },
      "source": [
        "Importa todas las librerias que consideres necesarias"
      ]
    },
    {
      "cell_type": "code",
      "execution_count": 1,
      "id": "2e2d7299",
      "metadata": {
        "id": "2e2d7299",
        "colab": {
          "base_uri": "https://localhost:8080/"
        },
        "outputId": "1b44a49c-3815-49b1-ddd8-46935d8756cc"
      },
      "outputs": [
        {
          "output_type": "stream",
          "name": "stdout",
          "text": [
            "Mounted at /content/drive\n"
          ]
        }
      ],
      "source": [
        "import pandas as pd\n",
        "import numpy as np\n",
        "import matplotlib.pyplot as plt\n",
        "import datetime\n",
        "\n",
        "from google.colab import drive\n",
        "drive.mount('/content/drive', force_remount=True)\n",
        "ruta = \"/content/drive/MyDrive/ucom_trabajo_final/dataset/\""
      ]
    },
    {
      "cell_type": "markdown",
      "id": "67371ed7",
      "metadata": {
        "id": "67371ed7"
      },
      "source": [
        "###  Lectura de archivos"
      ]
    },
    {
      "cell_type": "code",
      "execution_count": 95,
      "id": "7dcdec47",
      "metadata": {
        "id": "7dcdec47"
      },
      "outputs": [],
      "source": [
        "from pandas._libs.tslibs.parsing import parse_datetime_string\n",
        "from pandas.core.arrays.timedeltas import parse_timedelta_unit\n",
        "from pandas.core.indexes.period import parse_time_string\n",
        "df_orders = pd.read_csv(ruta+'orders.csv',parse_dates=['date', 'time'])\n",
        "#df_order_details = pd.read_csv(ruta+'order_details.csv')\n",
        "#df_pizza_types = pd.read_csv(ruta+'pizza_types.csv', header=0, encoding='unicode_escape')\n",
        "#df_pizzas = pd.read_csv(ruta+'pizzas.csv')\n",
        "#print(df_orders)\n",
        "#print(df_order_details)\n",
        "#print(df_pizza_types)\n",
        "#print(df_pizzas)"
      ]
    },
    {
      "cell_type": "markdown",
      "id": "ca15ef43",
      "metadata": {
        "id": "ca15ef43"
      },
      "source": [
        "####  Lee el archivo Orders"
      ]
    },
    {
      "cell_type": "markdown",
      "id": "f34f8303",
      "metadata": {
        "id": "f34f8303"
      },
      "source": [
        "#### Verifica que el archivo haya sido cargado correctamente"
      ]
    },
    {
      "cell_type": "code",
      "execution_count": 68,
      "id": "fa652f98",
      "metadata": {
        "id": "fa652f98",
        "colab": {
          "base_uri": "https://localhost:8080/"
        },
        "outputId": "1365223b-3f49-4468-e13e-6ca5f6eecb96"
      },
      "outputs": [
        {
          "output_type": "stream",
          "name": "stdout",
          "text": [
            "       order_id       date                time\n",
            "0             1 2015-01-01 2022-10-30 11:38:36\n",
            "1             2 2015-01-01 2022-10-30 11:57:40\n",
            "2             3 2015-01-01 2022-10-30 12:12:28\n",
            "3             4 2015-01-01 2022-10-30 12:16:31\n",
            "4             5 2015-01-01 2022-10-30 12:21:30\n",
            "...         ...        ...                 ...\n",
            "21345     21346 2015-12-31 2022-10-30 20:51:07\n",
            "21346     21347 2015-12-31 2022-10-30 21:14:37\n",
            "21347     21348 2015-12-31 2022-10-30 21:23:10\n",
            "21348     21349 2015-12-31 2022-10-30 22:09:54\n",
            "21349     21350 2015-12-31 2022-10-30 23:02:05\n",
            "\n",
            "[21350 rows x 3 columns]\n"
          ]
        }
      ],
      "source": [
        "print(df_orders)"
      ]
    },
    {
      "cell_type": "markdown",
      "id": "1d01da1c",
      "metadata": {
        "id": "1d01da1c"
      },
      "source": [
        "####  ¿Cuántos registros tiene el conjunto de datos?"
      ]
    },
    {
      "cell_type": "code",
      "execution_count": 69,
      "id": "27cbd455",
      "metadata": {
        "id": "27cbd455",
        "colab": {
          "base_uri": "https://localhost:8080/"
        },
        "outputId": "49f30cbc-aefc-4934-9051-3c626c84053b"
      },
      "outputs": [
        {
          "output_type": "stream",
          "name": "stdout",
          "text": [
            "Cantidad de registros del conjunto de datos: 21350\n"
          ]
        }
      ],
      "source": [
        "n_orders = df_orders.count(0)\n",
        "print(f'Cantidad de registros del conjunto de datos: {n_orders.order_id}')"
      ]
    },
    {
      "cell_type": "markdown",
      "id": "ae5dcebb",
      "metadata": {
        "id": "ae5dcebb"
      },
      "source": [
        "####  ¿Existen registros en blanco?"
      ]
    },
    {
      "cell_type": "code",
      "execution_count": 72,
      "id": "6fc02bf1",
      "metadata": {
        "id": "6fc02bf1",
        "colab": {
          "base_uri": "https://localhost:8080/"
        },
        "outputId": "0451ec1a-5564-4b5a-e027-a70f5ac7a775"
      },
      "outputs": [
        {
          "output_type": "stream",
          "name": "stdout",
          "text": [
            "No existen registros en blanco\n"
          ]
        }
      ],
      "source": [
        "if df_orders.isna().sum().sum() > 0:\n",
        "  print('Existen registros en blanco')\n",
        "else:\n",
        "  print('No existen registros en blanco') "
      ]
    },
    {
      "cell_type": "markdown",
      "id": "89ca59fa",
      "metadata": {
        "id": "89ca59fa"
      },
      "source": [
        "####  ¿Cuáles son las columnas que tiene este dataset?"
      ]
    },
    {
      "cell_type": "code",
      "execution_count": 73,
      "id": "1db02b31",
      "metadata": {
        "id": "1db02b31",
        "colab": {
          "base_uri": "https://localhost:8080/"
        },
        "outputId": "340d7cd1-99a7-4c43-a7ce-073b1e4bd437"
      },
      "outputs": [
        {
          "output_type": "stream",
          "name": "stdout",
          "text": [
            "las columnas que tiene el data set orders.csv son: \n",
            "order_id\n",
            "date\n",
            "time\n"
          ]
        }
      ],
      "source": [
        "print(f'las columnas que tiene el data set orders.csv son: ')\n",
        "columns_of_orders = df_orders.columns.to_series()\n",
        "for c in columns_of_orders:\n",
        "  print (c)"
      ]
    },
    {
      "cell_type": "markdown",
      "id": "de00258d",
      "metadata": {
        "id": "de00258d"
      },
      "source": [
        "#### ¿Las columnas de fechas y hora están cargadas correctamente?"
      ]
    },
    {
      "cell_type": "code",
      "execution_count": 76,
      "id": "904c3984",
      "metadata": {
        "id": "904c3984",
        "colab": {
          "base_uri": "https://localhost:8080/"
        },
        "outputId": "44775aef-668d-4e61-e14f-2e810d796767"
      },
      "outputs": [
        {
          "output_type": "stream",
          "name": "stdout",
          "text": [
            "<class 'pandas.core.frame.DataFrame'>\n",
            "RangeIndex: 21350 entries, 0 to 21349\n",
            "Data columns (total 3 columns):\n",
            " #   Column    Non-Null Count  Dtype         \n",
            "---  ------    --------------  -----         \n",
            " 0   order_id  21350 non-null  int64         \n",
            " 1   date      21350 non-null  datetime64[ns]\n",
            " 2   time      21350 non-null  datetime64[ns]\n",
            "dtypes: datetime64[ns](2), int64(1)\n",
            "memory usage: 500.5 KB\n",
            "las columnas 'date' y 'time' son del tipo datetime64. time tiene la fecha del sistema actual. se debe presentar solo la hora\n"
          ]
        }
      ],
      "source": [
        "df_orders.info() \n",
        "df_orders    \n",
        "print('las columnas \\'date\\' y \\'time\\' son del tipo datetime64. time tiene la fecha del sistema actual. se debe presentar solo la hora')             "
      ]
    },
    {
      "cell_type": "markdown",
      "id": "42e4465e",
      "metadata": {
        "id": "42e4465e"
      },
      "source": [
        "#### En caso que sea necesario corrige la columna fecha y hora"
      ]
    },
    {
      "cell_type": "code",
      "execution_count": 77,
      "id": "4d3970a3",
      "metadata": {
        "id": "4d3970a3",
        "colab": {
          "base_uri": "https://localhost:8080/",
          "height": 424
        },
        "outputId": "a7194141-0856-4e04-b8e6-6f9568d27714"
      },
      "outputs": [
        {
          "output_type": "execute_result",
          "data": {
            "text/plain": [
              "       order_id       date      time\n",
              "0             1 2015-01-01  11:38:36\n",
              "1             2 2015-01-01  11:57:40\n",
              "2             3 2015-01-01  12:12:28\n",
              "3             4 2015-01-01  12:16:31\n",
              "4             5 2015-01-01  12:21:30\n",
              "...         ...        ...       ...\n",
              "21345     21346 2015-12-31  20:51:07\n",
              "21346     21347 2015-12-31  21:14:37\n",
              "21347     21348 2015-12-31  21:23:10\n",
              "21348     21349 2015-12-31  22:09:54\n",
              "21349     21350 2015-12-31  23:02:05\n",
              "\n",
              "[21350 rows x 3 columns]"
            ],
            "text/html": [
              "\n",
              "  <div id=\"df-1afbee26-eb26-4f50-ae7a-c4f6f7aa7f8b\">\n",
              "    <div class=\"colab-df-container\">\n",
              "      <div>\n",
              "<style scoped>\n",
              "    .dataframe tbody tr th:only-of-type {\n",
              "        vertical-align: middle;\n",
              "    }\n",
              "\n",
              "    .dataframe tbody tr th {\n",
              "        vertical-align: top;\n",
              "    }\n",
              "\n",
              "    .dataframe thead th {\n",
              "        text-align: right;\n",
              "    }\n",
              "</style>\n",
              "<table border=\"1\" class=\"dataframe\">\n",
              "  <thead>\n",
              "    <tr style=\"text-align: right;\">\n",
              "      <th></th>\n",
              "      <th>order_id</th>\n",
              "      <th>date</th>\n",
              "      <th>time</th>\n",
              "    </tr>\n",
              "  </thead>\n",
              "  <tbody>\n",
              "    <tr>\n",
              "      <th>0</th>\n",
              "      <td>1</td>\n",
              "      <td>2015-01-01</td>\n",
              "      <td>11:38:36</td>\n",
              "    </tr>\n",
              "    <tr>\n",
              "      <th>1</th>\n",
              "      <td>2</td>\n",
              "      <td>2015-01-01</td>\n",
              "      <td>11:57:40</td>\n",
              "    </tr>\n",
              "    <tr>\n",
              "      <th>2</th>\n",
              "      <td>3</td>\n",
              "      <td>2015-01-01</td>\n",
              "      <td>12:12:28</td>\n",
              "    </tr>\n",
              "    <tr>\n",
              "      <th>3</th>\n",
              "      <td>4</td>\n",
              "      <td>2015-01-01</td>\n",
              "      <td>12:16:31</td>\n",
              "    </tr>\n",
              "    <tr>\n",
              "      <th>4</th>\n",
              "      <td>5</td>\n",
              "      <td>2015-01-01</td>\n",
              "      <td>12:21:30</td>\n",
              "    </tr>\n",
              "    <tr>\n",
              "      <th>...</th>\n",
              "      <td>...</td>\n",
              "      <td>...</td>\n",
              "      <td>...</td>\n",
              "    </tr>\n",
              "    <tr>\n",
              "      <th>21345</th>\n",
              "      <td>21346</td>\n",
              "      <td>2015-12-31</td>\n",
              "      <td>20:51:07</td>\n",
              "    </tr>\n",
              "    <tr>\n",
              "      <th>21346</th>\n",
              "      <td>21347</td>\n",
              "      <td>2015-12-31</td>\n",
              "      <td>21:14:37</td>\n",
              "    </tr>\n",
              "    <tr>\n",
              "      <th>21347</th>\n",
              "      <td>21348</td>\n",
              "      <td>2015-12-31</td>\n",
              "      <td>21:23:10</td>\n",
              "    </tr>\n",
              "    <tr>\n",
              "      <th>21348</th>\n",
              "      <td>21349</td>\n",
              "      <td>2015-12-31</td>\n",
              "      <td>22:09:54</td>\n",
              "    </tr>\n",
              "    <tr>\n",
              "      <th>21349</th>\n",
              "      <td>21350</td>\n",
              "      <td>2015-12-31</td>\n",
              "      <td>23:02:05</td>\n",
              "    </tr>\n",
              "  </tbody>\n",
              "</table>\n",
              "<p>21350 rows × 3 columns</p>\n",
              "</div>\n",
              "      <button class=\"colab-df-convert\" onclick=\"convertToInteractive('df-1afbee26-eb26-4f50-ae7a-c4f6f7aa7f8b')\"\n",
              "              title=\"Convert this dataframe to an interactive table.\"\n",
              "              style=\"display:none;\">\n",
              "        \n",
              "  <svg xmlns=\"http://www.w3.org/2000/svg\" height=\"24px\"viewBox=\"0 0 24 24\"\n",
              "       width=\"24px\">\n",
              "    <path d=\"M0 0h24v24H0V0z\" fill=\"none\"/>\n",
              "    <path d=\"M18.56 5.44l.94 2.06.94-2.06 2.06-.94-2.06-.94-.94-2.06-.94 2.06-2.06.94zm-11 1L8.5 8.5l.94-2.06 2.06-.94-2.06-.94L8.5 2.5l-.94 2.06-2.06.94zm10 10l.94 2.06.94-2.06 2.06-.94-2.06-.94-.94-2.06-.94 2.06-2.06.94z\"/><path d=\"M17.41 7.96l-1.37-1.37c-.4-.4-.92-.59-1.43-.59-.52 0-1.04.2-1.43.59L10.3 9.45l-7.72 7.72c-.78.78-.78 2.05 0 2.83L4 21.41c.39.39.9.59 1.41.59.51 0 1.02-.2 1.41-.59l7.78-7.78 2.81-2.81c.8-.78.8-2.07 0-2.86zM5.41 20L4 18.59l7.72-7.72 1.47 1.35L5.41 20z\"/>\n",
              "  </svg>\n",
              "      </button>\n",
              "      \n",
              "  <style>\n",
              "    .colab-df-container {\n",
              "      display:flex;\n",
              "      flex-wrap:wrap;\n",
              "      gap: 12px;\n",
              "    }\n",
              "\n",
              "    .colab-df-convert {\n",
              "      background-color: #E8F0FE;\n",
              "      border: none;\n",
              "      border-radius: 50%;\n",
              "      cursor: pointer;\n",
              "      display: none;\n",
              "      fill: #1967D2;\n",
              "      height: 32px;\n",
              "      padding: 0 0 0 0;\n",
              "      width: 32px;\n",
              "    }\n",
              "\n",
              "    .colab-df-convert:hover {\n",
              "      background-color: #E2EBFA;\n",
              "      box-shadow: 0px 1px 2px rgba(60, 64, 67, 0.3), 0px 1px 3px 1px rgba(60, 64, 67, 0.15);\n",
              "      fill: #174EA6;\n",
              "    }\n",
              "\n",
              "    [theme=dark] .colab-df-convert {\n",
              "      background-color: #3B4455;\n",
              "      fill: #D2E3FC;\n",
              "    }\n",
              "\n",
              "    [theme=dark] .colab-df-convert:hover {\n",
              "      background-color: #434B5C;\n",
              "      box-shadow: 0px 1px 3px 1px rgba(0, 0, 0, 0.15);\n",
              "      filter: drop-shadow(0px 1px 2px rgba(0, 0, 0, 0.3));\n",
              "      fill: #FFFFFF;\n",
              "    }\n",
              "  </style>\n",
              "\n",
              "      <script>\n",
              "        const buttonEl =\n",
              "          document.querySelector('#df-1afbee26-eb26-4f50-ae7a-c4f6f7aa7f8b button.colab-df-convert');\n",
              "        buttonEl.style.display =\n",
              "          google.colab.kernel.accessAllowed ? 'block' : 'none';\n",
              "\n",
              "        async function convertToInteractive(key) {\n",
              "          const element = document.querySelector('#df-1afbee26-eb26-4f50-ae7a-c4f6f7aa7f8b');\n",
              "          const dataTable =\n",
              "            await google.colab.kernel.invokeFunction('convertToInteractive',\n",
              "                                                     [key], {});\n",
              "          if (!dataTable) return;\n",
              "\n",
              "          const docLinkHtml = 'Like what you see? Visit the ' +\n",
              "            '<a target=\"_blank\" href=https://colab.research.google.com/notebooks/data_table.ipynb>data table notebook</a>'\n",
              "            + ' to learn more about interactive tables.';\n",
              "          element.innerHTML = '';\n",
              "          dataTable['output_type'] = 'display_data';\n",
              "          await google.colab.output.renderOutput(dataTable, element);\n",
              "          const docLink = document.createElement('div');\n",
              "          docLink.innerHTML = docLinkHtml;\n",
              "          element.appendChild(docLink);\n",
              "        }\n",
              "      </script>\n",
              "    </div>\n",
              "  </div>\n",
              "  "
            ]
          },
          "metadata": {},
          "execution_count": 77
        }
      ],
      "source": [
        "df_orders['time'] = df_orders['time'].dt.strftime('%H:%M:%S')   # esto ejecutar una sola vez\n",
        "df_orders"
      ]
    },
    {
      "cell_type": "markdown",
      "id": "680a24cd",
      "metadata": {
        "id": "680a24cd"
      },
      "source": [
        "----"
      ]
    },
    {
      "cell_type": "markdown",
      "id": "c00d07a6",
      "metadata": {
        "id": "c00d07a6"
      },
      "source": [
        "#### Lee el archivo order_details"
      ]
    },
    {
      "cell_type": "code",
      "execution_count": 78,
      "id": "817d3c80",
      "metadata": {
        "id": "817d3c80"
      },
      "outputs": [],
      "source": [
        "df_order_details = pd.read_csv(ruta+'order_details.csv')"
      ]
    },
    {
      "cell_type": "markdown",
      "id": "f72a0205",
      "metadata": {
        "id": "f72a0205"
      },
      "source": [
        "#### Verifica que el archivo haya sido cargado correctamente"
      ]
    },
    {
      "cell_type": "code",
      "execution_count": 79,
      "id": "8d12fd38",
      "metadata": {
        "id": "8d12fd38",
        "colab": {
          "base_uri": "https://localhost:8080/"
        },
        "outputId": "fc453f88-f2d6-406e-a6a9-569a4afaea50"
      },
      "outputs": [
        {
          "output_type": "stream",
          "name": "stdout",
          "text": [
            "       order_details_id  order_id       pizza_id  quantity\n",
            "0                     1         1     hawaiian_m         1\n",
            "1                     2         2  classic_dlx_m         1\n",
            "2                     3         2  five_cheese_l         1\n",
            "3                     4         2    ital_supr_l         1\n",
            "4                     5         2     mexicana_m         1\n",
            "...                 ...       ...            ...       ...\n",
            "48615             48616     21348  ckn_alfredo_m         1\n",
            "48616             48617     21348  four_cheese_l         1\n",
            "48617             48618     21348   napolitana_s         1\n",
            "48618             48619     21349     mexicana_l         1\n",
            "48619             48620     21350      bbq_ckn_s         1\n",
            "\n",
            "[48620 rows x 4 columns]\n"
          ]
        }
      ],
      "source": [
        "print(df_order_details)"
      ]
    },
    {
      "cell_type": "markdown",
      "id": "71fe1406",
      "metadata": {
        "id": "71fe1406"
      },
      "source": [
        "#### ¿Cuántos registros tiene el conjunto de datos?"
      ]
    },
    {
      "cell_type": "code",
      "execution_count": 80,
      "id": "c8d46ffb",
      "metadata": {
        "id": "c8d46ffb",
        "colab": {
          "base_uri": "https://localhost:8080/"
        },
        "outputId": "96c2cf23-a503-4862-ed88-2d058347ecc3"
      },
      "outputs": [
        {
          "output_type": "stream",
          "name": "stdout",
          "text": [
            "Cantidad de registros del conjunto de datos: 48620\n"
          ]
        }
      ],
      "source": [
        "n_order_details = df_order_details.count(0)\n",
        "print(f'Cantidad de registros del conjunto de datos: {n_order_details.order_details_id}')"
      ]
    },
    {
      "cell_type": "markdown",
      "id": "e1ff1b56",
      "metadata": {
        "id": "e1ff1b56"
      },
      "source": [
        "####  ¿Existen registros en blanco?"
      ]
    },
    {
      "cell_type": "code",
      "execution_count": 82,
      "id": "ea38a3c4",
      "metadata": {
        "id": "ea38a3c4",
        "colab": {
          "base_uri": "https://localhost:8080/"
        },
        "outputId": "89d41c7b-69aa-450e-be4e-ffe1f43524d8"
      },
      "outputs": [
        {
          "output_type": "stream",
          "name": "stdout",
          "text": [
            "No existen registros en blanco\n"
          ]
        }
      ],
      "source": [
        "\n",
        "if df_order_details.isna().sum().sum() > 0:\n",
        "  print('Existen registros en blanco')\n",
        "else:\n",
        "  print('No existen registros en blanco') "
      ]
    },
    {
      "cell_type": "markdown",
      "id": "1c98deaa",
      "metadata": {
        "id": "1c98deaa"
      },
      "source": [
        "####  ¿Cuáles son las columnas que tiene este dataset?"
      ]
    },
    {
      "cell_type": "code",
      "execution_count": 83,
      "id": "6e5ea9e1",
      "metadata": {
        "id": "6e5ea9e1",
        "colab": {
          "base_uri": "https://localhost:8080/"
        },
        "outputId": "81e36397-c048-4163-c4f3-9c1af81a2390"
      },
      "outputs": [
        {
          "output_type": "stream",
          "name": "stdout",
          "text": [
            "las columnas que tiene el data set order_details.csv son: \n",
            "order_details_id\n",
            "order_id\n",
            "pizza_id\n",
            "quantity\n"
          ]
        }
      ],
      "source": [
        "print(f'las columnas que tiene el data set order_details.csv son: ')\n",
        "columns_of_orders = df_order_details.columns.to_series()\n",
        "for c in columns_of_orders:\n",
        "  print (c)"
      ]
    },
    {
      "cell_type": "markdown",
      "id": "2738d7a7",
      "metadata": {
        "id": "2738d7a7"
      },
      "source": [
        "#### ¿Las columnas están cargadas con el tipo de dato correcto?"
      ]
    },
    {
      "cell_type": "code",
      "execution_count": 84,
      "id": "b1620c05",
      "metadata": {
        "id": "b1620c05",
        "colab": {
          "base_uri": "https://localhost:8080/"
        },
        "outputId": "a77e6773-e841-40bf-d4a1-cb730c718ef2"
      },
      "outputs": [
        {
          "output_type": "stream",
          "name": "stdout",
          "text": [
            "<class 'pandas.core.frame.DataFrame'>\n",
            "RangeIndex: 48620 entries, 0 to 48619\n",
            "Data columns (total 4 columns):\n",
            " #   Column            Non-Null Count  Dtype \n",
            "---  ------            --------------  ----- \n",
            " 0   order_details_id  48620 non-null  int64 \n",
            " 1   order_id          48620 non-null  int64 \n",
            " 2   pizza_id          48620 non-null  object\n",
            " 3   quantity          48620 non-null  int64 \n",
            "dtypes: int64(3), object(1)\n",
            "memory usage: 1.5+ MB\n",
            "la columna 'pizza_id' es del tipo OBJECT. debería ser del tipo 'string'\n"
          ]
        }
      ],
      "source": [
        "df_order_details.info() \n",
        "df_order_details \n",
        "print('la columna \\'pizza_id\\' es del tipo OBJECT. debería ser del tipo \\'string\\'')"
      ]
    },
    {
      "cell_type": "markdown",
      "id": "08ee4432",
      "metadata": {
        "id": "08ee4432"
      },
      "source": [
        "#### Corrige las columnas que creas se están cargando de manera incorrecta"
      ]
    },
    {
      "cell_type": "code",
      "execution_count": 85,
      "id": "ef4a5750",
      "metadata": {
        "id": "ef4a5750",
        "colab": {
          "base_uri": "https://localhost:8080/"
        },
        "outputId": "bebf81f9-d239-4c61-fd48-276fc640b43d"
      },
      "outputs": [
        {
          "output_type": "stream",
          "name": "stdout",
          "text": [
            "<class 'pandas.core.frame.DataFrame'>\n",
            "RangeIndex: 48620 entries, 0 to 48619\n",
            "Data columns (total 4 columns):\n",
            " #   Column            Non-Null Count  Dtype \n",
            "---  ------            --------------  ----- \n",
            " 0   order_details_id  48620 non-null  int64 \n",
            " 1   order_id          48620 non-null  int64 \n",
            " 2   pizza_id          48620 non-null  string\n",
            " 3   quantity          48620 non-null  int64 \n",
            "dtypes: int64(3), string(1)\n",
            "memory usage: 1.5 MB\n"
          ]
        }
      ],
      "source": [
        "df_order_details['pizza_id'] = df_order_details['pizza_id'].astype('string')\n",
        "df_order_details.info() "
      ]
    },
    {
      "cell_type": "markdown",
      "id": "64d3fa3a",
      "metadata": {
        "id": "64d3fa3a"
      },
      "source": [
        "-----"
      ]
    },
    {
      "cell_type": "markdown",
      "id": "fdcaea89",
      "metadata": {
        "id": "fdcaea89"
      },
      "source": [
        "#### Lee el archivo pizzas"
      ]
    },
    {
      "cell_type": "code",
      "execution_count": 86,
      "id": "b2b4f440",
      "metadata": {
        "id": "b2b4f440"
      },
      "outputs": [],
      "source": [
        "df_pizzas = pd.read_csv(ruta+'pizzas.csv')\n",
        "#df_pizzas = pd.read_csv(ruta+'pizzas_con_nulos.csv')"
      ]
    },
    {
      "cell_type": "markdown",
      "id": "bff7a729",
      "metadata": {
        "id": "bff7a729"
      },
      "source": [
        "#### Verifica que el archivo haya sido cargado correctamente"
      ]
    },
    {
      "cell_type": "code",
      "execution_count": 87,
      "id": "351d7484",
      "metadata": {
        "id": "351d7484",
        "colab": {
          "base_uri": "https://localhost:8080/"
        },
        "outputId": "24406ec7-79d2-4adc-9efe-4babfe56ddd3"
      },
      "outputs": [
        {
          "output_type": "stream",
          "name": "stdout",
          "text": [
            "         pizza_id pizza_type_id size  price\n",
            "0       bbq_ckn_s       bbq_ckn    S  12.75\n",
            "1       bbq_ckn_m       bbq_ckn    M  16.75\n",
            "2       bbq_ckn_l       bbq_ckn    L  20.75\n",
            "3      cali_ckn_s      cali_ckn    S  12.75\n",
            "4      cali_ckn_m      cali_ckn    M  16.75\n",
            "..            ...           ...  ...    ...\n",
            "91  spinach_fet_m   spinach_fet    M  16.00\n",
            "92  spinach_fet_l   spinach_fet    L  20.25\n",
            "93   veggie_veg_s    veggie_veg    S  12.00\n",
            "94   veggie_veg_m    veggie_veg    M  16.00\n",
            "95   veggie_veg_l    veggie_veg    L  20.25\n",
            "\n",
            "[96 rows x 4 columns]\n"
          ]
        }
      ],
      "source": [
        "print(df_pizzas)"
      ]
    },
    {
      "cell_type": "markdown",
      "id": "5e3246ba",
      "metadata": {
        "id": "5e3246ba"
      },
      "source": [
        "#### ¿Cuántos registros tiene el conjunto de datos?"
      ]
    },
    {
      "cell_type": "code",
      "execution_count": 88,
      "id": "78d323b8",
      "metadata": {
        "id": "78d323b8",
        "colab": {
          "base_uri": "https://localhost:8080/"
        },
        "outputId": "1e742ba0-c1fb-4846-f9be-d7ea11d594a5"
      },
      "outputs": [
        {
          "output_type": "stream",
          "name": "stdout",
          "text": [
            "Cantidad de registros del conjunto de datos: 96\n"
          ]
        }
      ],
      "source": [
        "n_df_pizzas = df_pizzas.count(0)\n",
        "print(f'Cantidad de registros del conjunto de datos: {n_df_pizzas.pizza_id}')"
      ]
    },
    {
      "cell_type": "markdown",
      "id": "206d97a2",
      "metadata": {
        "id": "206d97a2"
      },
      "source": [
        "####  ¿Existen registros en blanco?"
      ]
    },
    {
      "cell_type": "code",
      "execution_count": 89,
      "id": "81d1ae5c",
      "metadata": {
        "id": "81d1ae5c",
        "colab": {
          "base_uri": "https://localhost:8080/"
        },
        "outputId": "ee289494-83c2-4ff2-f94e-bb9f1a975d2e"
      },
      "outputs": [
        {
          "output_type": "stream",
          "name": "stdout",
          "text": [
            "no tiene registros en blancos\n"
          ]
        }
      ],
      "source": [
        "if df_pizzas.isna().sum().sum() > 0:\n",
        "  print(f'tiene registros en blanco')\n",
        "else:\n",
        "  print('no tiene registros en blancos')"
      ]
    },
    {
      "cell_type": "markdown",
      "id": "1c271165",
      "metadata": {
        "id": "1c271165"
      },
      "source": [
        "####  ¿Cuáles son las columnas que tiene este dataset?"
      ]
    },
    {
      "cell_type": "code",
      "execution_count": 104,
      "id": "3b1cb76a",
      "metadata": {
        "id": "3b1cb76a",
        "colab": {
          "base_uri": "https://localhost:8080/"
        },
        "outputId": "364dfb26-a9fe-4cf3-f90f-b4226b4c8420"
      },
      "outputs": [
        {
          "output_type": "stream",
          "name": "stdout",
          "text": [
            "las columnas que tiene el data set pizzas.csv son: \n",
            "pizza_id\n",
            "pizza_type_id\n",
            "size\n",
            "price\n"
          ]
        }
      ],
      "source": [
        "print(f'las columnas que tiene el data set pizzas.csv son: ')\n",
        "columns_of_orders = df_pizzas.columns.to_series()\n",
        "for c in columns_of_orders:\n",
        "  print (c)"
      ]
    },
    {
      "cell_type": "markdown",
      "id": "acb206a9",
      "metadata": {
        "id": "acb206a9"
      },
      "source": [
        "#### ¿Las columnas están cargadas con el tipo de dato correcto?"
      ]
    },
    {
      "cell_type": "code",
      "execution_count": 111,
      "id": "80334d80",
      "metadata": {
        "id": "80334d80",
        "colab": {
          "base_uri": "https://localhost:8080/"
        },
        "outputId": "e273c623-9e2d-48c7-fa46-5ff66bfe8609"
      },
      "outputs": [
        {
          "output_type": "stream",
          "name": "stdout",
          "text": [
            "<class 'pandas.core.frame.DataFrame'>\n",
            "RangeIndex: 96 entries, 0 to 95\n",
            "Data columns (total 4 columns):\n",
            " #   Column         Non-Null Count  Dtype  \n",
            "---  ------         --------------  -----  \n",
            " 0   pizza_id       96 non-null     object \n",
            " 1   pizza_type_id  96 non-null     object \n",
            " 2   size           96 non-null     object \n",
            " 3   price          96 non-null     float64\n",
            "dtypes: float64(1), object(3)\n",
            "memory usage: 3.1+ KB\n",
            "las columnas 'pizza_id, pizza_type_id, size' son del tipo OBJECT. podrían ser del tipo 'string'\n"
          ]
        }
      ],
      "source": [
        "df_pizzas.info()\n",
        "print('las columnas \\'pizza_id, pizza_type_id, size\\' son del tipo OBJECT. podrían ser del tipo \\'string\\'')"
      ]
    },
    {
      "cell_type": "markdown",
      "id": "82f32f4c",
      "metadata": {
        "id": "82f32f4c"
      },
      "source": [
        "------"
      ]
    },
    {
      "cell_type": "markdown",
      "id": "05b624f0",
      "metadata": {
        "id": "05b624f0"
      },
      "source": [
        "#### Lee el archivo pizza_types"
      ]
    },
    {
      "cell_type": "code",
      "execution_count": 96,
      "id": "836fe77a",
      "metadata": {
        "id": "836fe77a"
      },
      "outputs": [],
      "source": [
        "df_pizza_types = pd.read_csv(ruta+'pizza_types.csv', header=0, encoding='unicode_escape')"
      ]
    },
    {
      "cell_type": "markdown",
      "id": "815d5ac2",
      "metadata": {
        "id": "815d5ac2"
      },
      "source": [
        "#### Verifica que el archivo haya sido cargado correctamente"
      ]
    },
    {
      "cell_type": "code",
      "execution_count": 98,
      "id": "989f122c",
      "metadata": {
        "id": "989f122c",
        "colab": {
          "base_uri": "https://localhost:8080/"
        },
        "outputId": "120f866e-38ce-45c6-d39c-0e67f4cb805b"
      },
      "outputs": [
        {
          "output_type": "stream",
          "name": "stdout",
          "text": [
            "   pizza_type_id                                        name category  \\\n",
            "0        bbq_ckn                  The Barbecue Chicken Pizza  Chicken   \n",
            "1       cali_ckn                The California Chicken Pizza  Chicken   \n",
            "2    ckn_alfredo                   The Chicken Alfredo Pizza  Chicken   \n",
            "3      ckn_pesto                     The Chicken Pesto Pizza  Chicken   \n",
            "4     southw_ckn                 The Southwest Chicken Pizza  Chicken   \n",
            "5       thai_ckn                      The Thai Chicken Pizza  Chicken   \n",
            "6       big_meat                          The Big Meat Pizza  Classic   \n",
            "7    classic_dlx                    The Classic Deluxe Pizza  Classic   \n",
            "8       hawaiian                          The Hawaiian Pizza  Classic   \n",
            "9    ital_cpcllo                 The Italian Capocollo Pizza  Classic   \n",
            "10    napolitana                        The Napolitana Pizza  Classic   \n",
            "11   pep_msh_pep  The Pepperoni, Mushroom, and Peppers Pizza  Classic   \n",
            "12     pepperoni                         The Pepperoni Pizza  Classic   \n",
            "13     the_greek                             The Greek Pizza  Classic   \n",
            "14    brie_carre                        The Brie Carre Pizza  Supreme   \n",
            "15     calabrese                         The Calabrese Pizza  Supreme   \n",
            "16     ital_supr                   The Italian Supreme Pizza  Supreme   \n",
            "17  peppr_salami                     The Pepper Salami Pizza  Supreme   \n",
            "18    prsc_argla            The Prosciutto and Arugula Pizza  Supreme   \n",
            "19      sicilian                          The Sicilian Pizza  Supreme   \n",
            "20   soppressata                       The Soppressata Pizza  Supreme   \n",
            "21    spicy_ital                     The Spicy Italian Pizza  Supreme   \n",
            "22  spinach_supr                   The Spinach Supreme Pizza  Supreme   \n",
            "23   five_cheese                       The Five Cheese Pizza   Veggie   \n",
            "24   four_cheese                       The Four Cheese Pizza   Veggie   \n",
            "25  green_garden                      The Green Garden Pizza   Veggie   \n",
            "26   ital_veggie                The Italian Vegetables Pizza   Veggie   \n",
            "27  mediterraneo                     The Mediterranean Pizza   Veggie   \n",
            "28      mexicana                          The Mexicana Pizza   Veggie   \n",
            "29    spin_pesto                     The Spinach Pesto Pizza   Veggie   \n",
            "30   spinach_fet                  The Spinach and Feta Pizza   Veggie   \n",
            "31    veggie_veg           The Vegetables + Vegetables Pizza   Veggie   \n",
            "\n",
            "                                          ingredients  \n",
            "0   Barbecued Chicken, Red Peppers, Green Peppers,...  \n",
            "1   Chicken, Artichoke, Spinach, Garlic, Jalapeno ...  \n",
            "2   Chicken, Red Onions, Red Peppers, Mushrooms, A...  \n",
            "3   Chicken, Tomatoes, Red Peppers, Spinach, Garli...  \n",
            "4   Chicken, Tomatoes, Red Peppers, Red Onions, Ja...  \n",
            "5   Chicken, Pineapple, Tomatoes, Red Peppers, Tha...  \n",
            "6   Bacon, Pepperoni, Italian Sausage, Chorizo Sau...  \n",
            "7   Pepperoni, Mushrooms, Red Onions, Red Peppers,...  \n",
            "8            Sliced Ham, Pineapple, Mozzarella Cheese  \n",
            "9   Capocollo, Red Peppers, Tomatoes, Goat Cheese,...  \n",
            "10  Tomatoes, Anchovies, Green Olives, Red Onions,...  \n",
            "11                Pepperoni, Mushrooms, Green Peppers  \n",
            "12                       Mozzarella Cheese, Pepperoni  \n",
            "13  Kalamata Olives, Feta Cheese, Tomatoes, Garlic...  \n",
            "14  Brie Carre Cheese, Prosciutto, Caramelized Oni...  \n",
            "15  Nduja Salami, Pancetta, Tomatoes, Red Onions,...  \n",
            "16  Calabrese Salami, Capocollo, Tomatoes, Red Oni...  \n",
            "17  Genoa Salami, Capocollo, Pepperoni, Tomatoes, ...  \n",
            "18  Prosciutto di San Daniele, Arugula, Mozzarella...  \n",
            "19  Coarse Sicilian Salami, Tomatoes, Green Olives...  \n",
            "20  Soppressata Salami, Fontina Cheese, Mozzarella...  \n",
            "21  Capocollo, Tomatoes, Goat Cheese, Artichokes, ...  \n",
            "22  Spinach, Red Onions, Pepperoni, Tomatoes, Arti...  \n",
            "23  Mozzarella Cheese, Provolone Cheese, Smoked Go...  \n",
            "24  Ricotta Cheese, Gorgonzola Piccante Cheese, Mo...  \n",
            "25  Spinach, Mushrooms, Tomatoes, Green Olives, Fe...  \n",
            "26  Eggplant, Artichokes, Tomatoes, Zucchini, Red ...  \n",
            "27  Spinach, Artichokes, Kalamata Olives, Sun-drie...  \n",
            "28  Tomatoes, Red Peppers, Jalapeno Peppers, Red O...  \n",
            "29  Spinach, Artichokes, Tomatoes, Sun-dried Tomat...  \n",
            "30  Spinach, Mushrooms, Red Onions, Feta Cheese, G...  \n",
            "31  Mushrooms, Tomatoes, Red Peppers, Green Pepper...  \n"
          ]
        }
      ],
      "source": [
        "print(df_pizza_types)"
      ]
    },
    {
      "cell_type": "markdown",
      "id": "ed53b5b9",
      "metadata": {
        "id": "ed53b5b9"
      },
      "source": [
        "#### ¿Cuántos registros tiene el conjunto de datos?"
      ]
    },
    {
      "cell_type": "code",
      "execution_count": 106,
      "id": "3c892edc",
      "metadata": {
        "id": "3c892edc",
        "colab": {
          "base_uri": "https://localhost:8080/"
        },
        "outputId": "b6f4d866-3bdb-459f-bf1f-cda5bbf968a6"
      },
      "outputs": [
        {
          "output_type": "stream",
          "name": "stdout",
          "text": [
            "Cantidad de registros del conjunto de datos: 32\n"
          ]
        }
      ],
      "source": [
        "n_df_pizza_types = df_pizza_types.count(0)\n",
        "print(f'Cantidad de registros del conjunto de datos: {n_df_pizza_types.pizza_type_id}')"
      ]
    },
    {
      "cell_type": "markdown",
      "id": "9d616c5f",
      "metadata": {
        "id": "9d616c5f"
      },
      "source": [
        "####  ¿Existen registros en blanco?"
      ]
    },
    {
      "cell_type": "code",
      "execution_count": 107,
      "id": "e62d0471",
      "metadata": {
        "id": "e62d0471",
        "colab": {
          "base_uri": "https://localhost:8080/"
        },
        "outputId": "0f4879df-71b2-458a-9e5b-ad5c24122599"
      },
      "outputs": [
        {
          "output_type": "stream",
          "name": "stdout",
          "text": [
            "no tiene registros en blancos\n"
          ]
        }
      ],
      "source": [
        "if df_pizza_types.isna().sum().sum() > 0:\n",
        "  print(f'tiene registros en blanco')\n",
        "else:\n",
        "  print('no tiene registros en blancos')"
      ]
    },
    {
      "cell_type": "markdown",
      "id": "64f9eea5",
      "metadata": {
        "id": "64f9eea5"
      },
      "source": [
        "####  ¿Cuáles son las columnas que tiene este dataset?"
      ]
    },
    {
      "cell_type": "code",
      "execution_count": 108,
      "id": "ab387ae6",
      "metadata": {
        "id": "ab387ae6",
        "colab": {
          "base_uri": "https://localhost:8080/"
        },
        "outputId": "82e1d15a-8621-408e-d867-2ab762d9139b"
      },
      "outputs": [
        {
          "output_type": "stream",
          "name": "stdout",
          "text": [
            "las columnas que tiene el data set pizza_types.csv son: \n",
            "pizza_type_id\n",
            "name\n",
            "category\n",
            "ingredients\n"
          ]
        }
      ],
      "source": [
        "print(f'las columnas que tiene el data set pizza_types.csv son: ')\n",
        "columns_of_orders = df_pizza_types.columns.to_series()\n",
        "for c in columns_of_orders:\n",
        "  print (c)"
      ]
    },
    {
      "cell_type": "markdown",
      "id": "a08f7502",
      "metadata": {
        "id": "a08f7502"
      },
      "source": [
        "#### ¿Las columnas están cargadas con el tipo de dato correcto?"
      ]
    },
    {
      "cell_type": "code",
      "execution_count": 113,
      "id": "7d4f19bf",
      "metadata": {
        "id": "7d4f19bf",
        "colab": {
          "base_uri": "https://localhost:8080/"
        },
        "outputId": "c6227396-3ae8-4029-ad12-140e50149ff0"
      },
      "outputs": [
        {
          "output_type": "stream",
          "name": "stdout",
          "text": [
            "las columnas 'pizza_type_id, name, category, ingredients' son del tipo OBJECT. Podrían ser del tipo 'string'\n"
          ]
        }
      ],
      "source": [
        "print('las columnas \\'pizza_type_id, name, category, ingredients\\' son del tipo OBJECT. Podrían ser del tipo \\'string\\'')"
      ]
    },
    {
      "cell_type": "markdown",
      "id": "a84468c2",
      "metadata": {
        "id": "a84468c2"
      },
      "source": [
        "### Inicio de EDA"
      ]
    },
    {
      "cell_type": "markdown",
      "id": "910ed75f",
      "metadata": {
        "id": "910ed75f"
      },
      "source": [
        "#### ¿A qué periodo corresponden las ventas?"
      ]
    },
    {
      "cell_type": "code",
      "execution_count": 114,
      "id": "b96a7e71",
      "metadata": {
        "id": "b96a7e71",
        "colab": {
          "base_uri": "https://localhost:8080/"
        },
        "outputId": "1176c0b9-1f8b-4964-8d57-622652d15bda"
      },
      "outputs": [
        {
          "output_type": "stream",
          "name": "stdout",
          "text": [
            "Las ventas corresponde al periodo entre 2015-01-01 00:00:00 y 2015-12-31 00:00:00\n"
          ]
        }
      ],
      "source": [
        "orders = df_orders.sort_values(by=['date'], ascending=True)\n",
        "start_date = orders.head(1) #orders.iloc[[0],[1]]\n",
        "end_date = orders.tail(1)\n",
        "print(f'Las ventas corresponde al periodo entre {start_date.iloc[0,1]} y {end_date.iloc[0,1]}')"
      ]
    },
    {
      "cell_type": "markdown",
      "id": "6d3a0f29",
      "metadata": {
        "id": "6d3a0f29"
      },
      "source": [
        "#### ¿Cuántos fueron los pedidos por mes?"
      ]
    },
    {
      "cell_type": "code",
      "execution_count": 122,
      "id": "bf0efe38",
      "metadata": {
        "id": "bf0efe38",
        "colab": {
          "base_uri": "https://localhost:8080/",
          "height": 457
        },
        "outputId": "db8eb590-aca1-458d-e650-aaad94168c00"
      },
      "outputs": [
        {
          "output_type": "execute_result",
          "data": {
            "text/plain": [
              "            order_id\n",
              "date                \n",
              "2015-01-31      1845\n",
              "2015-02-28      1685\n",
              "2015-03-31      1840\n",
              "2015-04-30      1799\n",
              "2015-05-31      1853\n",
              "2015-06-30      1773\n",
              "2015-07-31      1935\n",
              "2015-08-31      1841\n",
              "2015-09-30      1661\n",
              "2015-10-31      1646\n",
              "2015-11-30      1792\n",
              "2015-12-31      1680"
            ],
            "text/html": [
              "\n",
              "  <div id=\"df-03a58c57-4fb2-4e08-bb3e-8258c70fe211\">\n",
              "    <div class=\"colab-df-container\">\n",
              "      <div>\n",
              "<style scoped>\n",
              "    .dataframe tbody tr th:only-of-type {\n",
              "        vertical-align: middle;\n",
              "    }\n",
              "\n",
              "    .dataframe tbody tr th {\n",
              "        vertical-align: top;\n",
              "    }\n",
              "\n",
              "    .dataframe thead th {\n",
              "        text-align: right;\n",
              "    }\n",
              "</style>\n",
              "<table border=\"1\" class=\"dataframe\">\n",
              "  <thead>\n",
              "    <tr style=\"text-align: right;\">\n",
              "      <th></th>\n",
              "      <th>order_id</th>\n",
              "    </tr>\n",
              "    <tr>\n",
              "      <th>date</th>\n",
              "      <th></th>\n",
              "    </tr>\n",
              "  </thead>\n",
              "  <tbody>\n",
              "    <tr>\n",
              "      <th>2015-01-31</th>\n",
              "      <td>1845</td>\n",
              "    </tr>\n",
              "    <tr>\n",
              "      <th>2015-02-28</th>\n",
              "      <td>1685</td>\n",
              "    </tr>\n",
              "    <tr>\n",
              "      <th>2015-03-31</th>\n",
              "      <td>1840</td>\n",
              "    </tr>\n",
              "    <tr>\n",
              "      <th>2015-04-30</th>\n",
              "      <td>1799</td>\n",
              "    </tr>\n",
              "    <tr>\n",
              "      <th>2015-05-31</th>\n",
              "      <td>1853</td>\n",
              "    </tr>\n",
              "    <tr>\n",
              "      <th>2015-06-30</th>\n",
              "      <td>1773</td>\n",
              "    </tr>\n",
              "    <tr>\n",
              "      <th>2015-07-31</th>\n",
              "      <td>1935</td>\n",
              "    </tr>\n",
              "    <tr>\n",
              "      <th>2015-08-31</th>\n",
              "      <td>1841</td>\n",
              "    </tr>\n",
              "    <tr>\n",
              "      <th>2015-09-30</th>\n",
              "      <td>1661</td>\n",
              "    </tr>\n",
              "    <tr>\n",
              "      <th>2015-10-31</th>\n",
              "      <td>1646</td>\n",
              "    </tr>\n",
              "    <tr>\n",
              "      <th>2015-11-30</th>\n",
              "      <td>1792</td>\n",
              "    </tr>\n",
              "    <tr>\n",
              "      <th>2015-12-31</th>\n",
              "      <td>1680</td>\n",
              "    </tr>\n",
              "  </tbody>\n",
              "</table>\n",
              "</div>\n",
              "      <button class=\"colab-df-convert\" onclick=\"convertToInteractive('df-03a58c57-4fb2-4e08-bb3e-8258c70fe211')\"\n",
              "              title=\"Convert this dataframe to an interactive table.\"\n",
              "              style=\"display:none;\">\n",
              "        \n",
              "  <svg xmlns=\"http://www.w3.org/2000/svg\" height=\"24px\"viewBox=\"0 0 24 24\"\n",
              "       width=\"24px\">\n",
              "    <path d=\"M0 0h24v24H0V0z\" fill=\"none\"/>\n",
              "    <path d=\"M18.56 5.44l.94 2.06.94-2.06 2.06-.94-2.06-.94-.94-2.06-.94 2.06-2.06.94zm-11 1L8.5 8.5l.94-2.06 2.06-.94-2.06-.94L8.5 2.5l-.94 2.06-2.06.94zm10 10l.94 2.06.94-2.06 2.06-.94-2.06-.94-.94-2.06-.94 2.06-2.06.94z\"/><path d=\"M17.41 7.96l-1.37-1.37c-.4-.4-.92-.59-1.43-.59-.52 0-1.04.2-1.43.59L10.3 9.45l-7.72 7.72c-.78.78-.78 2.05 0 2.83L4 21.41c.39.39.9.59 1.41.59.51 0 1.02-.2 1.41-.59l7.78-7.78 2.81-2.81c.8-.78.8-2.07 0-2.86zM5.41 20L4 18.59l7.72-7.72 1.47 1.35L5.41 20z\"/>\n",
              "  </svg>\n",
              "      </button>\n",
              "      \n",
              "  <style>\n",
              "    .colab-df-container {\n",
              "      display:flex;\n",
              "      flex-wrap:wrap;\n",
              "      gap: 12px;\n",
              "    }\n",
              "\n",
              "    .colab-df-convert {\n",
              "      background-color: #E8F0FE;\n",
              "      border: none;\n",
              "      border-radius: 50%;\n",
              "      cursor: pointer;\n",
              "      display: none;\n",
              "      fill: #1967D2;\n",
              "      height: 32px;\n",
              "      padding: 0 0 0 0;\n",
              "      width: 32px;\n",
              "    }\n",
              "\n",
              "    .colab-df-convert:hover {\n",
              "      background-color: #E2EBFA;\n",
              "      box-shadow: 0px 1px 2px rgba(60, 64, 67, 0.3), 0px 1px 3px 1px rgba(60, 64, 67, 0.15);\n",
              "      fill: #174EA6;\n",
              "    }\n",
              "\n",
              "    [theme=dark] .colab-df-convert {\n",
              "      background-color: #3B4455;\n",
              "      fill: #D2E3FC;\n",
              "    }\n",
              "\n",
              "    [theme=dark] .colab-df-convert:hover {\n",
              "      background-color: #434B5C;\n",
              "      box-shadow: 0px 1px 3px 1px rgba(0, 0, 0, 0.15);\n",
              "      filter: drop-shadow(0px 1px 2px rgba(0, 0, 0, 0.3));\n",
              "      fill: #FFFFFF;\n",
              "    }\n",
              "  </style>\n",
              "\n",
              "      <script>\n",
              "        const buttonEl =\n",
              "          document.querySelector('#df-03a58c57-4fb2-4e08-bb3e-8258c70fe211 button.colab-df-convert');\n",
              "        buttonEl.style.display =\n",
              "          google.colab.kernel.accessAllowed ? 'block' : 'none';\n",
              "\n",
              "        async function convertToInteractive(key) {\n",
              "          const element = document.querySelector('#df-03a58c57-4fb2-4e08-bb3e-8258c70fe211');\n",
              "          const dataTable =\n",
              "            await google.colab.kernel.invokeFunction('convertToInteractive',\n",
              "                                                     [key], {});\n",
              "          if (!dataTable) return;\n",
              "\n",
              "          const docLinkHtml = 'Like what you see? Visit the ' +\n",
              "            '<a target=\"_blank\" href=https://colab.research.google.com/notebooks/data_table.ipynb>data table notebook</a>'\n",
              "            + ' to learn more about interactive tables.';\n",
              "          element.innerHTML = '';\n",
              "          dataTable['output_type'] = 'display_data';\n",
              "          await google.colab.output.renderOutput(dataTable, element);\n",
              "          const docLink = document.createElement('div');\n",
              "          docLink.innerHTML = docLinkHtml;\n",
              "          element.appendChild(docLink);\n",
              "        }\n",
              "      </script>\n",
              "    </div>\n",
              "  </div>\n",
              "  "
            ]
          },
          "metadata": {},
          "execution_count": 122
        }
      ],
      "source": [
        "# https://www.analyticslane.com/2018/07/06/agrupacion-de-datos-por-fecha-en-pandas/\n",
        "# agrupar por mes\n",
        "# contar por mes\n",
        "df_orders.index = df_orders['date']\n",
        "monthly_orders = df_orders.resample('M').count()\n",
        "monthly_orders_list = monthly_orders.iloc[:,0:1] \n",
        "monthly_orders_list\n",
        "#monthly_orders['date']\n",
        "#df_orders['date'].dt.quarter\n",
        "#df_orders.info()\n",
        "#df_orders\n",
        "#print(f'Los pedidos por mes fueron: {number_of_orders}')"
      ]
    },
    {
      "cell_type": "markdown",
      "id": "fe3e1cc8",
      "metadata": {
        "id": "fe3e1cc8"
      },
      "source": [
        "#### Haz un gráfico que permita visualizar la cantidad de pedidos por mes"
      ]
    },
    {
      "cell_type": "code",
      "execution_count": 125,
      "id": "827d3586",
      "metadata": {
        "id": "827d3586",
        "colab": {
          "base_uri": "https://localhost:8080/",
          "height": 282
        },
        "outputId": "23d425ee-a018-418c-e2d6-802e4c9501b3"
      },
      "outputs": [
        {
          "output_type": "execute_result",
          "data": {
            "text/plain": [
              "[<matplotlib.lines.Line2D at 0x7f76f9ed8810>]"
            ]
          },
          "metadata": {},
          "execution_count": 125
        },
        {
          "output_type": "display_data",
          "data": {
            "text/plain": [
              "<Figure size 432x288 with 1 Axes>"
            ],
            "image/png": "[encoded data removed]"
          },
          "metadata": {
            "needs_background": "light"
          }
        }
      ],
      "source": [
        "plt.plot(monthly_orders_list)"
      ]
    },
    {
      "cell_type": "markdown",
      "id": "70010cd4",
      "metadata": {
        "id": "70010cd4"
      },
      "source": [
        "#### ¿Cuál fue el promedio de pedidos mensual?"
      ]
    },
    {
      "cell_type": "code",
      "execution_count": 128,
      "id": "1559e897",
      "metadata": {
        "id": "1559e897",
        "colab": {
          "base_uri": "https://localhost:8080/"
        },
        "outputId": "958187a5-3291-4d98-eaa9-47fd3c5304ab"
      },
      "outputs": [
        {
          "output_type": "stream",
          "name": "stdout",
          "text": [
            "El promedio de pedidos mensual es: order_id    1779.166667\n",
            "dtype: float64\n"
          ]
        }
      ],
      "source": [
        "print(f'El promedio de pedidos mensual es: {monthly_orders_list.mean()}')"
      ]
    },
    {
      "cell_type": "markdown",
      "id": "4722b7b2",
      "metadata": {
        "id": "4722b7b2"
      },
      "source": [
        "Para poder responder varias de las siguientes preguntas deberás realizar la transformación de los datos, que irá desde la unión de varios DataFrames hasta el calculo de nuevas columnas"
      ]
    },
    {
      "cell_type": "code",
      "execution_count": null,
      "id": "5cc36387",
      "metadata": {
        "id": "5cc36387"
      },
      "outputs": [],
      "source": []
    },
    {
      "cell_type": "markdown",
      "id": "e7a0c5d6",
      "metadata": {
        "id": "e7a0c5d6"
      },
      "source": [
        "#### ¿Cuántas pizzas se vendieron por mes y cuánto se facturó?"
      ]
    },
    {
      "cell_type": "code",
      "execution_count": null,
      "id": "c6e85654",
      "metadata": {
        "id": "c6e85654"
      },
      "outputs": [],
      "source": []
    },
    {
      "cell_type": "markdown",
      "id": "9768f290",
      "metadata": {
        "id": "9768f290"
      },
      "source": [
        "#### Haz gráficos que permitan visualizar la cantidad de pizzas vendidas y la facturación por mes"
      ]
    },
    {
      "cell_type": "code",
      "execution_count": null,
      "id": "f2188478",
      "metadata": {
        "id": "f2188478"
      },
      "outputs": [],
      "source": []
    },
    {
      "cell_type": "markdown",
      "id": "06067302",
      "metadata": {
        "id": "06067302"
      },
      "source": [
        "#### ¿En qué mes se tuvo la menor venta y cuál fue el importe facturado?"
      ]
    },
    {
      "cell_type": "code",
      "execution_count": null,
      "id": "609e6b17",
      "metadata": {
        "id": "609e6b17"
      },
      "outputs": [],
      "source": []
    },
    {
      "cell_type": "markdown",
      "id": "5a839aa1",
      "metadata": {
        "id": "5a839aa1"
      },
      "source": [
        "#### ¿En qué mes  se tuvo la mayor venta y cuál fue el importe facturado?"
      ]
    },
    {
      "cell_type": "code",
      "execution_count": null,
      "id": "5118d10c",
      "metadata": {
        "id": "5118d10c"
      },
      "outputs": [],
      "source": []
    },
    {
      "cell_type": "markdown",
      "id": "32cd33cc",
      "metadata": {
        "id": "32cd33cc"
      },
      "source": [
        "#### ¿Cuál es el promedio general de ventas por días de la semana?"
      ]
    },
    {
      "cell_type": "code",
      "execution_count": null,
      "id": "42108665",
      "metadata": {
        "id": "42108665"
      },
      "outputs": [],
      "source": []
    },
    {
      "cell_type": "markdown",
      "id": "6e252e96",
      "metadata": {
        "id": "6e252e96"
      },
      "source": [
        "#### Haz un gráfico de tipo heatmap u otro que ayude a visualizar mejor la información"
      ]
    },
    {
      "cell_type": "code",
      "execution_count": null,
      "id": "b78f5b3a",
      "metadata": {
        "id": "b78f5b3a"
      },
      "outputs": [],
      "source": []
    },
    {
      "cell_type": "markdown",
      "id": "38bc822d",
      "metadata": {
        "id": "38bc822d"
      },
      "source": [
        "#### Analiza el comportamiento de ventas mensual (Suma,Promedio, Mediana,mínimo,máximo,desviación estandart) según la cantidad de pizzas vendidas"
      ]
    },
    {
      "cell_type": "code",
      "execution_count": null,
      "id": "e410ac5f",
      "metadata": {
        "id": "e410ac5f"
      },
      "outputs": [],
      "source": []
    },
    {
      "cell_type": "markdown",
      "id": "1569b5ac",
      "metadata": {
        "id": "1569b5ac"
      },
      "source": [
        "#### ¿Cuántas pizzas se vendieron en total?"
      ]
    },
    {
      "cell_type": "code",
      "execution_count": null,
      "id": "86c0196f",
      "metadata": {
        "id": "86c0196f"
      },
      "outputs": [],
      "source": []
    },
    {
      "cell_type": "markdown",
      "id": "56c8c89d",
      "metadata": {
        "id": "56c8c89d"
      },
      "source": [
        "####  ¿Cúal es el nombre de la pizza que más se vende?"
      ]
    },
    {
      "cell_type": "code",
      "execution_count": null,
      "id": "48b6a6fd",
      "metadata": {
        "id": "48b6a6fd"
      },
      "outputs": [],
      "source": []
    },
    {
      "cell_type": "markdown",
      "id": "66436a2c",
      "metadata": {
        "id": "66436a2c"
      },
      "source": [
        "####  ¿Cúal es el nombre de la pizza que menos se vende?"
      ]
    },
    {
      "cell_type": "code",
      "execution_count": null,
      "id": "71abb677",
      "metadata": {
        "id": "71abb677"
      },
      "outputs": [],
      "source": []
    },
    {
      "cell_type": "markdown",
      "id": "2f1ec972",
      "metadata": {
        "id": "2f1ec972"
      },
      "source": [
        "#### ¿Cuál es el top 10 de sabores de pizzas más vendidas?"
      ]
    },
    {
      "cell_type": "code",
      "execution_count": null,
      "id": "57cc9ece",
      "metadata": {
        "id": "57cc9ece"
      },
      "outputs": [],
      "source": []
    },
    {
      "cell_type": "markdown",
      "id": "d10aafa5",
      "metadata": {
        "id": "d10aafa5"
      },
      "source": [
        "#### ¿Cómo son las ventas totales por tamaño de pizzas?"
      ]
    },
    {
      "cell_type": "code",
      "execution_count": null,
      "id": "69f56681",
      "metadata": {
        "id": "69f56681"
      },
      "outputs": [],
      "source": []
    },
    {
      "cell_type": "code",
      "execution_count": null,
      "id": "1f2580cc",
      "metadata": {
        "id": "1f2580cc"
      },
      "outputs": [],
      "source": []
    },
    {
      "cell_type": "markdown",
      "id": "a4efb806",
      "metadata": {
        "id": "a4efb806"
      },
      "source": [
        "####  ¿Cuántas pizzas según el nombre y tamaño se vendieron?"
      ]
    },
    {
      "cell_type": "code",
      "execution_count": null,
      "id": "e8277bad",
      "metadata": {
        "id": "e8277bad"
      },
      "outputs": [],
      "source": []
    },
    {
      "cell_type": "code",
      "execution_count": null,
      "id": "ba65d811",
      "metadata": {
        "id": "ba65d811"
      },
      "outputs": [],
      "source": []
    },
    {
      "cell_type": "markdown",
      "id": "a55ab3c5",
      "metadata": {
        "id": "a55ab3c5"
      },
      "source": [
        "#### Haz un gráfico que permita visualizar la ventas por tamaño de pizzas"
      ]
    },
    {
      "cell_type": "code",
      "execution_count": null,
      "id": "3abe91a9",
      "metadata": {
        "id": "3abe91a9"
      },
      "outputs": [],
      "source": []
    }
  ],
  "metadata": {
    "kernelspec": {
      "display_name": "Python 3 (ipykernel)",
      "language": "python",
      "name": "python3"
    },
    "language_info": {
      "codemirror_mode": {
        "name": "ipython",
        "version": 3
      },
      "file_extension": ".py",
      "mimetype": "text/x-python",
      "name": "python",
      "nbconvert_exporter": "python",
      "pygments_lexer": "ipython3",
      "version": "3.9.7"
    },
    "colab": {
      "provenance": [],
      "include_colab_link": true
    }
  },
  "nbformat": 4,
  "nbformat_minor": 5
}